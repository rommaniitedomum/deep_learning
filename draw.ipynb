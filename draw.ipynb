{
 "cells": [
  {
   "cell_type": "code",
   "execution_count": 4,
   "metadata": {},
   "outputs": [
    {
     "name": "stdout",
     "output_type": "stream",
     "text": [
      "Collecting graphvizNote: you may need to restart the kernel to use updated packages.\n",
      "\n",
      "  Downloading graphviz-0.20.3-py3-none-any.whl.metadata (12 kB)\n",
      "Downloading graphviz-0.20.3-py3-none-any.whl (47 kB)\n",
      "Installing collected packages: graphviz\n",
      "Successfully installed graphviz-0.20.3\n"
     ]
    }
   ],
   "source": [
    "pip install graphviz"
   ]
  },
  {
   "cell_type": "code",
   "execution_count": null,
   "metadata": {},
   "outputs": [
    {
     "ename": "ModuleNotFoundError",
     "evalue": "No module named 'graphviz'",
     "output_type": "error",
     "traceback": [
      "\u001b[1;31m---------------------------------------------------------------------------\u001b[0m",
      "\u001b[1;31mModuleNotFoundError\u001b[0m                       Traceback (most recent call last)",
      "Cell \u001b[1;32mIn[3], line 1\u001b[0m\n\u001b[1;32m----> 1\u001b[0m \u001b[38;5;28;01mfrom\u001b[39;00m \u001b[38;5;21;01mgraphviz\u001b[39;00m \u001b[38;5;28;01mimport\u001b[39;00m Digraph\n\u001b[0;32m      5\u001b[0m \u001b[38;5;66;03m# Define the simplified backend architecture flowchart\u001b[39;00m\n\u001b[0;32m      6\u001b[0m simplified_flowchart \u001b[38;5;241m=\u001b[39m Digraph(comment\u001b[38;5;241m=\u001b[39m\u001b[38;5;124m\"\u001b[39m\u001b[38;5;124mSimplified Backend Architecture\u001b[39m\u001b[38;5;124m\"\u001b[39m)\n",
      "\u001b[1;31mModuleNotFoundError\u001b[0m: No module named 'graphviz'"
     ]
    }
   ],
   "source": [
    "\n",
    "\n",
    "\n",
    "# from graphviz import Digraph\n",
    "\n",
    "\n",
    "\n",
    "# # Define the simplified backend architecture flowchart\n",
    "# simplified_flowchart = Digraph(comment=\"Simplified Backend Architecture\")\n",
    "\n",
    "# # Layout properties\n",
    "# simplified_flowchart.attr(rankdir=\"LR\", fontsize=\"10\", style=\"rounded\", bgcolor=\"#ffffff\")\n",
    "\n",
    "# # Nodes\n",
    "# simplified_flowchart.node(\"browser\", \"User's Browser\\n(React, Redux)\", shape=\"box\", style=\"filled\", fillcolor=\"#dae8fc\")\n",
    "# simplified_flowchart.node(\"backend\", \"Backend\\n(Node.js, Express.js)\", shape=\"box\", style=\"filled\", fillcolor=\"#fff2cc\")\n",
    "# simplified_flowchart.node(\"routes\", \"Routes\\n(routes/)\", shape=\"folder\", style=\"filled\", fillcolor=\"#f3e5ab\")\n",
    "# simplified_flowchart.node(\"controllers\", \"Controllers\\n(controller/)\", shape=\"folder\", style=\"filled\", fillcolor=\"#f3e5ab\")\n",
    "# simplified_flowchart.node(\"chatbot\", \"AI Chatbot\\n(chatbot/)\", shape=\"note\", style=\"filled\", fillcolor=\"#f5f5f5\")\n",
    "# simplified_flowchart.node(\"database\", \"Database\\n(PostgreSQL)\", shape=\"cylinder\", style=\"filled\", fillcolor=\"#d5e8d4\")\n",
    "\n",
    "# # Edges\n",
    "# simplified_flowchart.edge(\"browser\", \"backend\", label=\"API Requests\")\n",
    "# simplified_flowchart.edge(\"backend\", \"browser\", label=\"API Responses\")\n",
    "# simplified_flowchart.edge(\"backend\", \"routes\", label=\"Route Management\")\n",
    "# simplified_flowchart.edge(\"routes\", \"controllers\", label=\"Request Handling\")\n",
    "# simplified_flowchart.edge(\"controllers\", \"chatbot\", label=\"AI Processing\")\n",
    "# simplified_flowchart.edge(\"controllers\", \"database\", label=\"SQL Queries\")\n",
    "\n",
    "# # Save the flowchart\n",
    "# # output_path = \"/mnt/data/simplified_backend_architecture_flow\"\n",
    "# # simplified_flowchart.render(output_path, format=\"png\", cleanup=True)\n",
    "\n",
    "# # output_path + \".png\"\n",
    "\n",
    "# print(simplified_flowchart)"
   ]
  },
  {
   "cell_type": "code",
   "execution_count": null,
   "metadata": {},
   "outputs": [],
   "source": []
  }
 ],
 "metadata": {
  "kernelspec": {
   "display_name": "Python 3 (ipykernel)",
   "language": "python",
   "name": "python3"
  },
  "language_info": {
   "codemirror_mode": {
    "name": "ipython",
    "version": 3
   },
   "file_extension": ".py",
   "mimetype": "text/x-python",
   "name": "python",
   "nbconvert_exporter": "python",
   "pygments_lexer": "ipython3",
   "version": "3.12.7"
  }
 },
 "nbformat": 4,
 "nbformat_minor": 2
}
