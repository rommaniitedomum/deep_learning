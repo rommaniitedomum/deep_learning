{
 "cells": [
  {
   "cell_type": "markdown",
   "metadata": {},
   "source": [
    "## 개요 ##\n",
    "\n",
    "\n",
    "- 빅데이터 수집 및 전처리.\n",
    "- 머신러닝 앙상블 알고리즘 중 XGBoost 사용.\n",
    "- 랜덤 포레스트와 XGBoost 알고리즘으로 아파트 매매 가격 예측 인공지능 모델을 제작 및 비교.\n",
    "\n",
    "\n",
    "## 데이터 ##\n",
    "\n",
    "\n",
    "- 데이터 세트를 제공하는 플랫폼인 캐글(kaggle)을 통해  오픈 API를 이용하여 데이터 불러오기\n",
    "\n",
    "\n",
    "- 캐글 홈페이지(www.kaggle.com)에 접속 -> 로그인 -> 오른쪽 상단의 프로필 ‘Your Profile’\n",
    "- Your Profile에 들어가 ‘Edit Public Profile’ 클릭 -> settings -> API 탭의 ‘Create New API Token’ 을 클릭  \n",
    "-‘kaggle.json’을 다운로드\n",
    "\n",
    "\n",
    "## 앙상블 머신러닝 랜덤 포레스트 ##\n",
    "\n",
    "\n",
    "- 랜덤 포레스트는 의사결정 트리 알고리즘 여러 개가 결합된 앙상블 학습 방법으로, 분류에 사용된다.\n",
    "- 랜덤 포레스트는 학습 과정에서 구성한 다수의 결정 트리로부터 평균 예측 값을 출력함으로써 회귀 분석, 즉, 수치를 예측하는 것도 가능하다.\n",
    "- 가장 큰 특징은 무작위성(Random)에 의해 결정 트리들이 서로 다른 특성을 갖는다는 점이다.\n",
    "- 이 특성으로 각 트리들의 예측이 비상관화되며, 결과적으로 일반화 성능을 향상시킨다.\n",
    "\n",
    "\n",
    "## 앙상블 머신러닝 에이다 부스트(agaboost) ##\n",
    "\n",
    "\n",
    "- XGBoost를 이해해기 위해 에이다 부스트를 먼저 알아야 한다.\n",
    "- 부스팅은 약한 분류기를 세트로 붂어 정확도를 예측하는 기법이다.\n",
    "- 약한 분류기들은 한 번에 하나씩 순차적으로 학습을 진행한다.\n",
    "- 약한 분류기는 노드 하나에 두 개의 리프를 지닌 단순 구조의 트리로 '스텀프'라고 부른다.\n",
    "- 먼저 학습된 분류기는 제대로 분류를 해 내는 데이터와 제대로 분류를 해 내지 못하는 데이터들이 발생한다.\n",
    "- 이들을 다음 분류기에 전달한다.\n",
    "- 다음 분류기는 이전 분류기로부터 받은 정보를 활용해 잘 분류해 내지 못한 데이터들을 견산하는 데 가중치를 높인다.\n",
    "- 최종 분류기는 이전에 학습한 약한 분류기들에 각각의 가중치를 적용하고 조합하여 학습을 진행한다. 이를 에이다 부스트라 한다.\n",
    "- 결과적으로 성능이 낮은 약한 분류기들을 조합하여 최종적으로 조금 더 성능이 좋은 강한 분류기 하나를 만드는 것이다.\n",
    "\n",
    "\n",
    "## 앙상블 머신러닝 XGBoost ##\n",
    "\n",
    "\n",
    "- XGBoost는 트리 기반의 앙상블 머신러닝 알고리즘이다.\n",
    "- 기존 글라디언트 부스팅 알고리즘에 CART(Classification and Regression Trees) 모형을 기반으로 병렬 처리가 가능하게 만들어져 학습 시간을 획기적으로 줄인다.\n",
    "- XGBoost의 약한 분류기는 데이터의 하위 집합에서 학습되고 예측을 수행하는 간단한 의사결정 트리 모델이다.\n",
    "- 이러한 약한 분류기의 앙상블을 사용하여 최종 예측을 수행하고, 여러 모델의 강점을 결합하여 보다 정확한 모델을 생성한다."
   ]
  },
  {
   "cell_type": "code",
   "execution_count": 3,
   "metadata": {},
   "outputs": [
    {
     "name": "stdout",
     "output_type": "stream",
     "text": [
      "Kaggle 환경변수가 설정되었습니다!\n"
     ]
    }
   ],
   "source": [
    "import os\n",
    "\n",
    "# 현재 디렉토리에서 'kaggle.json' 위치 지정\n",
    "os.environ[\"KAGGLE_CONFIG_DIR\"] = os.getcwd()\n",
    "\n",
    "print(\"Kaggle 환경변수가 설정되었습니다!\")\n"
   ]
  },
  {
   "cell_type": "code",
   "execution_count": 4,
   "metadata": {},
   "outputs": [
    {
     "name": "stdout",
     "output_type": "stream",
     "text": [
      "Dataset URL: https://www.kaggle.com/datasets/brainer3220/korean-real-estate-transaction-data\n",
      "License(s): DbCL-1.0\n",
      "Downloading korean-real-estate-transaction-data.zip to C:\\Users\\3호실-09\n",
      "\n"
     ]
    },
    {
     "name": "stderr",
     "output_type": "stream",
     "text": [
      "\n",
      "  0%|          | 0.00/59.2M [00:00<?, ?B/s]\n",
      "  2%|1         | 1.00M/59.2M [00:00<00:47, 1.28MB/s]\n",
      "  3%|3         | 2.00M/59.2M [00:00<00:23, 2.58MB/s]\n",
      "  7%|6         | 4.00M/59.2M [00:01<00:10, 5.54MB/s]\n",
      " 14%|#3        | 8.00M/59.2M [00:01<00:04, 11.9MB/s]\n",
      " 20%|##        | 12.0M/59.2M [00:01<00:03, 14.3MB/s]\n",
      " 24%|##3       | 14.0M/59.2M [00:01<00:03, 14.9MB/s]\n",
      " 29%|##8       | 17.0M/59.2M [00:01<00:02, 16.3MB/s]\n",
      " 34%|###3      | 20.0M/59.2M [00:01<00:02, 18.7MB/s]\n",
      " 39%|###8      | 23.0M/59.2M [00:02<00:02, 13.3MB/s]\n",
      " 42%|####2     | 25.0M/59.2M [00:02<00:02, 12.6MB/s]\n",
      " 46%|####5     | 27.0M/59.2M [00:02<00:03, 10.7MB/s]\n",
      " 49%|####8     | 29.0M/59.2M [00:02<00:02, 10.9MB/s]\n",
      " 56%|#####5    | 33.0M/59.2M [00:03<00:02, 12.0MB/s]\n",
      " 61%|######    | 36.0M/59.2M [00:03<00:01, 14.1MB/s]\n",
      " 66%|######5   | 39.0M/59.2M [00:03<00:01, 16.8MB/s]\n",
      " 69%|######9   | 41.0M/59.2M [00:03<00:01, 16.6MB/s]\n",
      " 73%|#######2  | 43.0M/59.2M [00:03<00:01, 15.2MB/s]\n",
      " 76%|#######5  | 45.0M/59.2M [00:03<00:01, 13.3MB/s]\n",
      " 83%|########2 | 49.0M/59.2M [00:04<00:00, 17.1MB/s]\n",
      " 86%|########6 | 51.0M/59.2M [00:04<00:00, 16.3MB/s]\n",
      " 93%|#########2| 55.0M/59.2M [00:04<00:00, 21.1MB/s]\n",
      " 98%|#########7| 58.0M/59.2M [00:04<00:00, 23.1MB/s]\n",
      "100%|##########| 59.2M/59.2M [00:04<00:00, 13.9MB/s]\n",
      "'unzip'은(는) 내부 또는 외부 명령, 실행할 수 있는 프로그램, 또는\n",
      "배치 파일이 아닙니다.\n",
      "'ls'은(는) 내부 또는 외부 명령, 실행할 수 있는 프로그램, 또는\n",
      "배치 파일이 아닙니다.\n"
     ]
    }
   ],
   "source": [
    "# Kaggle 데이터 다운로드\n",
    "!kaggle datasets download -d brainer3220/korean-real-estate-transaction-data\n",
    "\n",
    "\n"
   ]
  },
  {
   "cell_type": "code",
   "execution_count": 6,
   "metadata": {},
   "outputs": [
    {
     "name": "stdout",
     "output_type": "stream",
     "text": [
      "압축 해제 완료!\n"
     ]
    }
   ],
   "source": [
    "import zipfile\n",
    "\n",
    "with zipfile.ZipFile(\"korean-real-estate-transaction-data.zip\", \"r\") as zip_ref:\n",
    "    zip_ref.extractall(\".\")  # 현재 디렉토리에 압축 해제\n",
    "print(\"압축 해제 완료!\")\n",
    "\n"
   ]
  },
  {
   "cell_type": "code",
   "execution_count": 9,
   "metadata": {},
   "outputs": [
    {
     "name": "stderr",
     "output_type": "stream",
     "text": [
      "C:\\Users\\3호실-09\\AppData\\Local\\Temp\\ipykernel_18348\\408301109.py:5: DtypeWarning: Columns (6,8) have mixed types. Specify dtype option on import or set low_memory=False.\n",
      "  df = pd.read_csv(\"./Apart Deal.csv\")\n"
     ]
    },
    {
     "data": {
      "text/html": [
       "<div>\n",
       "<style scoped>\n",
       "    .dataframe tbody tr th:only-of-type {\n",
       "        vertical-align: middle;\n",
       "    }\n",
       "\n",
       "    .dataframe tbody tr th {\n",
       "        vertical-align: top;\n",
       "    }\n",
       "\n",
       "    .dataframe thead th {\n",
       "        text-align: right;\n",
       "    }\n",
       "</style>\n",
       "<table border=\"1\" class=\"dataframe\">\n",
       "  <thead>\n",
       "    <tr style=\"text-align: right;\">\n",
       "      <th></th>\n",
       "      <th>지역코드</th>\n",
       "      <th>법정동</th>\n",
       "      <th>거래일</th>\n",
       "      <th>아파트</th>\n",
       "      <th>지번</th>\n",
       "      <th>전용면적</th>\n",
       "      <th>층</th>\n",
       "      <th>건축년도</th>\n",
       "      <th>거래금액</th>\n",
       "    </tr>\n",
       "  </thead>\n",
       "  <tbody>\n",
       "    <tr>\n",
       "      <th>0</th>\n",
       "      <td>31110.0</td>\n",
       "      <td>학성동</td>\n",
       "      <td>5/30/2020 0:00</td>\n",
       "      <td>남운학성타운</td>\n",
       "      <td>379</td>\n",
       "      <td>135.5800</td>\n",
       "      <td>8</td>\n",
       "      <td>1991.0</td>\n",
       "      <td>26700</td>\n",
       "    </tr>\n",
       "    <tr>\n",
       "      <th>1</th>\n",
       "      <td>31110.0</td>\n",
       "      <td>남외동</td>\n",
       "      <td>1/3/2020 0:00</td>\n",
       "      <td>남외푸르지오1차</td>\n",
       "      <td>506-1</td>\n",
       "      <td>101.6000</td>\n",
       "      <td>2</td>\n",
       "      <td>2006.0</td>\n",
       "      <td>35500</td>\n",
       "    </tr>\n",
       "    <tr>\n",
       "      <th>2</th>\n",
       "      <td>31110.0</td>\n",
       "      <td>남외동</td>\n",
       "      <td>1/3/2020 0:00</td>\n",
       "      <td>에일린의뜰</td>\n",
       "      <td>500</td>\n",
       "      <td>84.9920</td>\n",
       "      <td>11</td>\n",
       "      <td>2007.0</td>\n",
       "      <td>36500</td>\n",
       "    </tr>\n",
       "    <tr>\n",
       "      <th>3</th>\n",
       "      <td>31110.0</td>\n",
       "      <td>남외동</td>\n",
       "      <td>1/3/2020 0:00</td>\n",
       "      <td>남외푸르지오1차</td>\n",
       "      <td>506-1</td>\n",
       "      <td>118.7060</td>\n",
       "      <td>8</td>\n",
       "      <td>2006.0</td>\n",
       "      <td>43000</td>\n",
       "    </tr>\n",
       "    <tr>\n",
       "      <th>4</th>\n",
       "      <td>31110.0</td>\n",
       "      <td>남외동</td>\n",
       "      <td>1/4/2020 0:00</td>\n",
       "      <td>남외푸르지오2차</td>\n",
       "      <td>501-1</td>\n",
       "      <td>84.9636</td>\n",
       "      <td>7</td>\n",
       "      <td>2007.0</td>\n",
       "      <td>38700</td>\n",
       "    </tr>\n",
       "  </tbody>\n",
       "</table>\n",
       "</div>"
      ],
      "text/plain": [
       "      지역코드  법정동             거래일       아파트     지번      전용면적   층    건축년도   거래금액\n",
       "0  31110.0  학성동  5/30/2020 0:00    남운학성타운    379  135.5800   8  1991.0  26700\n",
       "1  31110.0  남외동   1/3/2020 0:00  남외푸르지오1차  506-1  101.6000   2  2006.0  35500\n",
       "2  31110.0  남외동   1/3/2020 0:00     에일린의뜰    500   84.9920  11  2007.0  36500\n",
       "3  31110.0  남외동   1/3/2020 0:00  남외푸르지오1차  506-1  118.7060   8  2006.0  43000\n",
       "4  31110.0  남외동   1/4/2020 0:00  남외푸르지오2차  501-1   84.9636   7  2007.0  38700"
      ]
     },
     "execution_count": 9,
     "metadata": {},
     "output_type": "execute_result"
    }
   ],
   "source": [
    "import pandas as pd\n",
    "import numpy as np\n",
    "import matplotlib.pyplot as plt\n",
    "\n",
    "df = pd.read_csv(\"./Apart Deal.csv\")\n",
    "\n",
    "\n",
    "df.head()"
   ]
  },
  {
   "cell_type": "code",
   "execution_count": 10,
   "metadata": {},
   "outputs": [
    {
     "name": "stdout",
     "output_type": "stream",
     "text": [
      "<class 'pandas.core.frame.DataFrame'>\n",
      "RangeIndex: 5002839 entries, 0 to 5002838\n",
      "Data columns (total 9 columns):\n",
      " #   Column  Dtype  \n",
      "---  ------  -----  \n",
      " 0   지역코드    float64\n",
      " 1   법정동     object \n",
      " 2   거래일     object \n",
      " 3   아파트     object \n",
      " 4   지번      object \n",
      " 5   전용면적    float64\n",
      " 6   층       object \n",
      " 7   건축년도    float64\n",
      " 8   거래금액    object \n",
      "dtypes: float64(3), object(6)\n",
      "memory usage: 343.5+ MB\n"
     ]
    }
   ],
   "source": [
    "df.info()"
   ]
  },
  {
   "cell_type": "code",
   "execution_count": 11,
   "metadata": {},
   "outputs": [
    {
     "data": {
      "text/html": [
       "<div>\n",
       "<style scoped>\n",
       "    .dataframe tbody tr th:only-of-type {\n",
       "        vertical-align: middle;\n",
       "    }\n",
       "\n",
       "    .dataframe tbody tr th {\n",
       "        vertical-align: top;\n",
       "    }\n",
       "\n",
       "    .dataframe thead th {\n",
       "        text-align: right;\n",
       "    }\n",
       "</style>\n",
       "<table border=\"1\" class=\"dataframe\">\n",
       "  <thead>\n",
       "    <tr style=\"text-align: right;\">\n",
       "      <th></th>\n",
       "      <th>지역코드</th>\n",
       "      <th>전용면적</th>\n",
       "      <th>건축년도</th>\n",
       "    </tr>\n",
       "  </thead>\n",
       "  <tbody>\n",
       "    <tr>\n",
       "      <th>count</th>\n",
       "      <td>5.002839e+06</td>\n",
       "      <td>5.002839e+06</td>\n",
       "      <td>5.002763e+06</td>\n",
       "    </tr>\n",
       "    <tr>\n",
       "      <th>mean</th>\n",
       "      <td>3.562552e+04</td>\n",
       "      <td>7.533272e+01</td>\n",
       "      <td>2.001677e+03</td>\n",
       "    </tr>\n",
       "    <tr>\n",
       "      <th>std</th>\n",
       "      <td>1.144216e+04</td>\n",
       "      <td>2.607859e+01</td>\n",
       "      <td>9.460423e+00</td>\n",
       "    </tr>\n",
       "    <tr>\n",
       "      <th>min</th>\n",
       "      <td>1.111000e+04</td>\n",
       "      <td>9.260000e+00</td>\n",
       "      <td>1.961000e+03</td>\n",
       "    </tr>\n",
       "    <tr>\n",
       "      <th>25%</th>\n",
       "      <td>2.820000e+04</td>\n",
       "      <td>5.971000e+01</td>\n",
       "      <td>1.995000e+03</td>\n",
       "    </tr>\n",
       "    <tr>\n",
       "      <th>50%</th>\n",
       "      <td>4.128100e+04</td>\n",
       "      <td>7.671810e+01</td>\n",
       "      <td>2.001000e+03</td>\n",
       "    </tr>\n",
       "    <tr>\n",
       "      <th>75%</th>\n",
       "      <td>4.374500e+04</td>\n",
       "      <td>8.496000e+01</td>\n",
       "      <td>2.009000e+03</td>\n",
       "    </tr>\n",
       "    <tr>\n",
       "      <th>max</th>\n",
       "      <td>5.013000e+04</td>\n",
       "      <td>4.243200e+02</td>\n",
       "      <td>2.023000e+03</td>\n",
       "    </tr>\n",
       "  </tbody>\n",
       "</table>\n",
       "</div>"
      ],
      "text/plain": [
       "               지역코드          전용면적          건축년도\n",
       "count  5.002839e+06  5.002839e+06  5.002763e+06\n",
       "mean   3.562552e+04  7.533272e+01  2.001677e+03\n",
       "std    1.144216e+04  2.607859e+01  9.460423e+00\n",
       "min    1.111000e+04  9.260000e+00  1.961000e+03\n",
       "25%    2.820000e+04  5.971000e+01  1.995000e+03\n",
       "50%    4.128100e+04  7.671810e+01  2.001000e+03\n",
       "75%    4.374500e+04  8.496000e+01  2.009000e+03\n",
       "max    5.013000e+04  4.243200e+02  2.023000e+03"
      ]
     },
     "execution_count": 11,
     "metadata": {},
     "output_type": "execute_result"
    }
   ],
   "source": [
    "df.describe()"
   ]
  },
  {
   "cell_type": "code",
   "execution_count": null,
   "metadata": {},
   "outputs": [],
   "source": []
  }
 ],
 "metadata": {
  "kernelspec": {
   "display_name": "Python 3 (ipykernel)",
   "language": "python",
   "name": "python3"
  },
  "language_info": {
   "codemirror_mode": {
    "name": "ipython",
    "version": 3
   },
   "file_extension": ".py",
   "mimetype": "text/x-python",
   "name": "python",
   "nbconvert_exporter": "python",
   "pygments_lexer": "ipython3",
   "version": "3.12.7"
  }
 },
 "nbformat": 4,
 "nbformat_minor": 2
}
