{
 "cells": [
  {
   "cell_type": "markdown",
   "metadata": {},
   "source": [
    "## 개요 ##\n",
    "\n",
    "\n",
    "- 빅데이터 수집 및 전처리.\n",
    "- 머신러닝 앙상블 알고리즘 중 XGBoost 사용.\n",
    "- 랜덤 포레스트와 XGBoost 알고리즘으로 아파트 매매 가격 예측 인공지능 모델을 제작 및 비교.\n",
    "\n",
    "\n",
    "## 데이터 ##\n",
    "\n",
    "\n",
    "- 데이터 세트를 제공하는 플랫폼인 캐글(kaggle)을 통해  오픈 API를 이용하여 데이터 불러오기\n",
    "\n",
    "\n",
    "- 캐글 홈페이지(www.kaggle.com)에 접속 -> 로그인 -> 오른쪽 상단의 프로필 ‘Your Profile’\n",
    "- Your Profile에 들어가 ‘Edit Public Profile’ 클릭 -> settings -> API 탭의 ‘Create New API Token’ 을 클릭  \n",
    "-‘kaggle.json’을 다운로드\n",
    "\n",
    "\n",
    "## 앙상블 머신러닝 랜덤 포레스트 ##\n",
    "\n",
    "\n",
    "- 랜덤 포레스트는 의사결정 트리 알고리즘 여러 개가 결합된 앙상블 학습 방법으로, 분류에 사용된다.\n",
    "- 랜덤 포레스트는 학습 과정에서 구성한 다수의 결정 트리로부터 평균 예측 값을 출력함으로써 회귀 분석, 즉, 수치를 예측하는 것도 가능하다.\n",
    "- 가장 큰 특징은 무작위성(Random)에 의해 결정 트리들이 서로 다른 특성을 갖는다는 점이다.\n",
    "- 이 특성으로 각 트리들의 예측이 비상관화되며, 결과적으로 일반화 성능을 향상시킨다.\n",
    "\n",
    "\n",
    "## 앙상블 머신러닝 에이다 부스트(agaboost) ##\n",
    "\n",
    "\n",
    "- XGBoost를 이해해기 위해 에이다 부스트를 먼저 알아야 한다.\n",
    "- 부스팅은 약한 분류기를 세트로 붂어 정확도를 예측하는 기법이다.\n",
    "- 약한 분류기들은 한 번에 하나씩 순차적으로 학습을 진행한다.\n",
    "- 약한 분류기는 노드 하나에 두 개의 리프를 지닌 단순 구조의 트리로 '스텀프'라고 부른다.\n",
    "- 먼저 학습된 분류기는 제대로 분류를 해 내는 데이터와 제대로 분류를 해 내지 못하는 데이터들이 발생한다.\n",
    "- 이들을 다음 분류기에 전달한다.\n",
    "- 다음 분류기는 이전 분류기로부터 받은 정보를 활용해 잘 분류해 내지 못한 데이터들을 견산하는 데 가중치를 높인다.\n",
    "- 최종 분류기는 이전에 학습한 약한 분류기들에 각각의 가중치를 적용하고 조합하여 학습을 진행한다. 이를 에이다 부스트라 한다.\n",
    "- 결과적으로 성능이 낮은 약한 분류기들을 조합하여 최종적으로 조금 더 성능이 좋은 강한 분류기 하나를 만드는 것이다.\n",
    "\n",
    "\n",
    "## 앙상블 머신러닝 XGBoost ##\n",
    "\n",
    "\n",
    "- XGBoost는 트리 기반의 앙상블 머신러닝 알고리즘이다.\n",
    "- 기존 글라디언트 부스팅 알고리즘에 CART(Classification and Regression Trees) 모형을 기반으로 병렬 처리가 가능하게 만들어져 학습 시간을 획기적으로 줄인다.\n",
    "- XGBoost의 약한 분류기는 데이터의 하위 집합에서 학습되고 예측을 수행하는 간단한 의사결정 트리 모델이다.\n",
    "- 이러한 약한 분류기의 앙상블을 사용하여 최종 예측을 수행하고, 여러 모델의 강점을 결합하여 보다 정확한 모델을 생성한다."
   ]
  },
  {
   "cell_type": "code",
   "execution_count": 168,
   "metadata": {},
   "outputs": [
    {
     "name": "stdout",
     "output_type": "stream",
     "text": [
      "Kaggle 환경변수가 설정되었습니다!\n"
     ]
    }
   ],
   "source": [
    "import os\n",
    "\n",
    "# 현재 디렉토리에서 'kaggle.json' 위치 지정\n",
    "os.environ[\"KAGGLE_CONFIG_DIR\"] = os.getcwd()\n",
    "\n",
    "print(\"Kaggle 환경변수가 설정되었습니다!\")\n"
   ]
  },
  {
   "cell_type": "code",
   "execution_count": 169,
   "metadata": {},
   "outputs": [],
   "source": [
    "\n",
    "\n",
    "#  재생성 방지 "
   ]
  },
  {
   "cell_type": "code",
   "execution_count": 170,
   "metadata": {},
   "outputs": [],
   "source": [
    "# import zipfile\n",
    "\n",
    "# with zipfile.ZipFile(\"korean-real-estate-transaction-data.zip\", \"r\") as zip_ref:\n",
    "#     zip_ref.extractall(\".\")  # 현재 디렉토리에 압축 해제\n",
    "# print(\"압축 해제 완료!\")\n",
    "\n"
   ]
  },
  {
   "cell_type": "code",
   "execution_count": 171,
   "metadata": {},
   "outputs": [
    {
     "name": "stderr",
     "output_type": "stream",
     "text": [
      "C:\\Users\\3호실-09\\AppData\\Local\\Temp\\ipykernel_18348\\408301109.py:5: DtypeWarning: Columns (6,8) have mixed types. Specify dtype option on import or set low_memory=False.\n",
      "  df = pd.read_csv(\"./Apart Deal.csv\")\n"
     ]
    },
    {
     "data": {
      "text/html": [
       "<div>\n",
       "<style scoped>\n",
       "    .dataframe tbody tr th:only-of-type {\n",
       "        vertical-align: middle;\n",
       "    }\n",
       "\n",
       "    .dataframe tbody tr th {\n",
       "        vertical-align: top;\n",
       "    }\n",
       "\n",
       "    .dataframe thead th {\n",
       "        text-align: right;\n",
       "    }\n",
       "</style>\n",
       "<table border=\"1\" class=\"dataframe\">\n",
       "  <thead>\n",
       "    <tr style=\"text-align: right;\">\n",
       "      <th></th>\n",
       "      <th>지역코드</th>\n",
       "      <th>법정동</th>\n",
       "      <th>거래일</th>\n",
       "      <th>아파트</th>\n",
       "      <th>지번</th>\n",
       "      <th>전용면적</th>\n",
       "      <th>층</th>\n",
       "      <th>건축년도</th>\n",
       "      <th>거래금액</th>\n",
       "    </tr>\n",
       "  </thead>\n",
       "  <tbody>\n",
       "    <tr>\n",
       "      <th>0</th>\n",
       "      <td>31110.0</td>\n",
       "      <td>학성동</td>\n",
       "      <td>5/30/2020 0:00</td>\n",
       "      <td>남운학성타운</td>\n",
       "      <td>379</td>\n",
       "      <td>135.5800</td>\n",
       "      <td>8</td>\n",
       "      <td>1991.0</td>\n",
       "      <td>26700</td>\n",
       "    </tr>\n",
       "    <tr>\n",
       "      <th>1</th>\n",
       "      <td>31110.0</td>\n",
       "      <td>남외동</td>\n",
       "      <td>1/3/2020 0:00</td>\n",
       "      <td>남외푸르지오1차</td>\n",
       "      <td>506-1</td>\n",
       "      <td>101.6000</td>\n",
       "      <td>2</td>\n",
       "      <td>2006.0</td>\n",
       "      <td>35500</td>\n",
       "    </tr>\n",
       "    <tr>\n",
       "      <th>2</th>\n",
       "      <td>31110.0</td>\n",
       "      <td>남외동</td>\n",
       "      <td>1/3/2020 0:00</td>\n",
       "      <td>에일린의뜰</td>\n",
       "      <td>500</td>\n",
       "      <td>84.9920</td>\n",
       "      <td>11</td>\n",
       "      <td>2007.0</td>\n",
       "      <td>36500</td>\n",
       "    </tr>\n",
       "    <tr>\n",
       "      <th>3</th>\n",
       "      <td>31110.0</td>\n",
       "      <td>남외동</td>\n",
       "      <td>1/3/2020 0:00</td>\n",
       "      <td>남외푸르지오1차</td>\n",
       "      <td>506-1</td>\n",
       "      <td>118.7060</td>\n",
       "      <td>8</td>\n",
       "      <td>2006.0</td>\n",
       "      <td>43000</td>\n",
       "    </tr>\n",
       "    <tr>\n",
       "      <th>4</th>\n",
       "      <td>31110.0</td>\n",
       "      <td>남외동</td>\n",
       "      <td>1/4/2020 0:00</td>\n",
       "      <td>남외푸르지오2차</td>\n",
       "      <td>501-1</td>\n",
       "      <td>84.9636</td>\n",
       "      <td>7</td>\n",
       "      <td>2007.0</td>\n",
       "      <td>38700</td>\n",
       "    </tr>\n",
       "  </tbody>\n",
       "</table>\n",
       "</div>"
      ],
      "text/plain": [
       "      지역코드  법정동             거래일       아파트     지번      전용면적   층    건축년도   거래금액\n",
       "0  31110.0  학성동  5/30/2020 0:00    남운학성타운    379  135.5800   8  1991.0  26700\n",
       "1  31110.0  남외동   1/3/2020 0:00  남외푸르지오1차  506-1  101.6000   2  2006.0  35500\n",
       "2  31110.0  남외동   1/3/2020 0:00     에일린의뜰    500   84.9920  11  2007.0  36500\n",
       "3  31110.0  남외동   1/3/2020 0:00  남외푸르지오1차  506-1  118.7060   8  2006.0  43000\n",
       "4  31110.0  남외동   1/4/2020 0:00  남외푸르지오2차  501-1   84.9636   7  2007.0  38700"
      ]
     },
     "execution_count": 171,
     "metadata": {},
     "output_type": "execute_result"
    }
   ],
   "source": [
    "import pandas as pd\n",
    "import numpy as np\n",
    "import matplotlib.pyplot as plt\n",
    "\n",
    "df = pd.read_csv(\"./Apart Deal.csv\")\n",
    "\n",
    "\n",
    "df.head()"
   ]
  },
  {
   "cell_type": "code",
   "execution_count": 172,
   "metadata": {},
   "outputs": [
    {
     "name": "stdout",
     "output_type": "stream",
     "text": [
      "<class 'pandas.core.frame.DataFrame'>\n",
      "RangeIndex: 5002839 entries, 0 to 5002838\n",
      "Data columns (total 9 columns):\n",
      " #   Column  Dtype  \n",
      "---  ------  -----  \n",
      " 0   지역코드    float64\n",
      " 1   법정동     object \n",
      " 2   거래일     object \n",
      " 3   아파트     object \n",
      " 4   지번      object \n",
      " 5   전용면적    float64\n",
      " 6   층       object \n",
      " 7   건축년도    float64\n",
      " 8   거래금액    object \n",
      "dtypes: float64(3), object(6)\n",
      "memory usage: 343.5+ MB\n"
     ]
    }
   ],
   "source": [
    "df.info()"
   ]
  },
  {
   "cell_type": "code",
   "execution_count": 173,
   "metadata": {},
   "outputs": [
    {
     "data": {
      "text/html": [
       "<div>\n",
       "<style scoped>\n",
       "    .dataframe tbody tr th:only-of-type {\n",
       "        vertical-align: middle;\n",
       "    }\n",
       "\n",
       "    .dataframe tbody tr th {\n",
       "        vertical-align: top;\n",
       "    }\n",
       "\n",
       "    .dataframe thead th {\n",
       "        text-align: right;\n",
       "    }\n",
       "</style>\n",
       "<table border=\"1\" class=\"dataframe\">\n",
       "  <thead>\n",
       "    <tr style=\"text-align: right;\">\n",
       "      <th></th>\n",
       "      <th>지역코드</th>\n",
       "      <th>전용면적</th>\n",
       "      <th>건축년도</th>\n",
       "    </tr>\n",
       "  </thead>\n",
       "  <tbody>\n",
       "    <tr>\n",
       "      <th>count</th>\n",
       "      <td>5.002839e+06</td>\n",
       "      <td>5.002839e+06</td>\n",
       "      <td>5.002763e+06</td>\n",
       "    </tr>\n",
       "    <tr>\n",
       "      <th>mean</th>\n",
       "      <td>3.562552e+04</td>\n",
       "      <td>7.533272e+01</td>\n",
       "      <td>2.001677e+03</td>\n",
       "    </tr>\n",
       "    <tr>\n",
       "      <th>std</th>\n",
       "      <td>1.144216e+04</td>\n",
       "      <td>2.607859e+01</td>\n",
       "      <td>9.460423e+00</td>\n",
       "    </tr>\n",
       "    <tr>\n",
       "      <th>min</th>\n",
       "      <td>1.111000e+04</td>\n",
       "      <td>9.260000e+00</td>\n",
       "      <td>1.961000e+03</td>\n",
       "    </tr>\n",
       "    <tr>\n",
       "      <th>25%</th>\n",
       "      <td>2.820000e+04</td>\n",
       "      <td>5.971000e+01</td>\n",
       "      <td>1.995000e+03</td>\n",
       "    </tr>\n",
       "    <tr>\n",
       "      <th>50%</th>\n",
       "      <td>4.128100e+04</td>\n",
       "      <td>7.671810e+01</td>\n",
       "      <td>2.001000e+03</td>\n",
       "    </tr>\n",
       "    <tr>\n",
       "      <th>75%</th>\n",
       "      <td>4.374500e+04</td>\n",
       "      <td>8.496000e+01</td>\n",
       "      <td>2.009000e+03</td>\n",
       "    </tr>\n",
       "    <tr>\n",
       "      <th>max</th>\n",
       "      <td>5.013000e+04</td>\n",
       "      <td>4.243200e+02</td>\n",
       "      <td>2.023000e+03</td>\n",
       "    </tr>\n",
       "  </tbody>\n",
       "</table>\n",
       "</div>"
      ],
      "text/plain": [
       "               지역코드          전용면적          건축년도\n",
       "count  5.002839e+06  5.002839e+06  5.002763e+06\n",
       "mean   3.562552e+04  7.533272e+01  2.001677e+03\n",
       "std    1.144216e+04  2.607859e+01  9.460423e+00\n",
       "min    1.111000e+04  9.260000e+00  1.961000e+03\n",
       "25%    2.820000e+04  5.971000e+01  1.995000e+03\n",
       "50%    4.128100e+04  7.671810e+01  2.001000e+03\n",
       "75%    4.374500e+04  8.496000e+01  2.009000e+03\n",
       "max    5.013000e+04  4.243200e+02  2.023000e+03"
      ]
     },
     "execution_count": 173,
     "metadata": {},
     "output_type": "execute_result"
    }
   ],
   "source": [
    "df.describe()"
   ]
  },
  {
   "cell_type": "code",
   "execution_count": 174,
   "metadata": {},
   "outputs": [
    {
     "data": {
      "text/html": [
       "<div>\n",
       "<style scoped>\n",
       "    .dataframe tbody tr th:only-of-type {\n",
       "        vertical-align: middle;\n",
       "    }\n",
       "\n",
       "    .dataframe tbody tr th {\n",
       "        vertical-align: top;\n",
       "    }\n",
       "\n",
       "    .dataframe thead th {\n",
       "        text-align: right;\n",
       "    }\n",
       "</style>\n",
       "<table border=\"1\" class=\"dataframe\">\n",
       "  <thead>\n",
       "    <tr style=\"text-align: right;\">\n",
       "      <th></th>\n",
       "      <th>지역코드</th>\n",
       "      <th>거래일</th>\n",
       "      <th>전용면적</th>\n",
       "      <th>층</th>\n",
       "      <th>건축년도</th>\n",
       "      <th>거래금액</th>\n",
       "    </tr>\n",
       "  </thead>\n",
       "  <tbody>\n",
       "    <tr>\n",
       "      <th>0</th>\n",
       "      <td>31110.0</td>\n",
       "      <td>5/30/2020 0:00</td>\n",
       "      <td>135.5800</td>\n",
       "      <td>8</td>\n",
       "      <td>1991.0</td>\n",
       "      <td>26700</td>\n",
       "    </tr>\n",
       "    <tr>\n",
       "      <th>1</th>\n",
       "      <td>31110.0</td>\n",
       "      <td>1/3/2020 0:00</td>\n",
       "      <td>101.6000</td>\n",
       "      <td>2</td>\n",
       "      <td>2006.0</td>\n",
       "      <td>35500</td>\n",
       "    </tr>\n",
       "    <tr>\n",
       "      <th>2</th>\n",
       "      <td>31110.0</td>\n",
       "      <td>1/3/2020 0:00</td>\n",
       "      <td>84.9920</td>\n",
       "      <td>11</td>\n",
       "      <td>2007.0</td>\n",
       "      <td>36500</td>\n",
       "    </tr>\n",
       "    <tr>\n",
       "      <th>3</th>\n",
       "      <td>31110.0</td>\n",
       "      <td>1/3/2020 0:00</td>\n",
       "      <td>118.7060</td>\n",
       "      <td>8</td>\n",
       "      <td>2006.0</td>\n",
       "      <td>43000</td>\n",
       "    </tr>\n",
       "    <tr>\n",
       "      <th>4</th>\n",
       "      <td>31110.0</td>\n",
       "      <td>1/4/2020 0:00</td>\n",
       "      <td>84.9636</td>\n",
       "      <td>7</td>\n",
       "      <td>2007.0</td>\n",
       "      <td>38700</td>\n",
       "    </tr>\n",
       "  </tbody>\n",
       "</table>\n",
       "</div>"
      ],
      "text/plain": [
       "      지역코드             거래일      전용면적   층    건축년도   거래금액\n",
       "0  31110.0  5/30/2020 0:00  135.5800   8  1991.0  26700\n",
       "1  31110.0   1/3/2020 0:00  101.6000   2  2006.0  35500\n",
       "2  31110.0   1/3/2020 0:00   84.9920  11  2007.0  36500\n",
       "3  31110.0   1/3/2020 0:00  118.7060   8  2006.0  43000\n",
       "4  31110.0   1/4/2020 0:00   84.9636   7  2007.0  38700"
      ]
     },
     "execution_count": 174,
     "metadata": {},
     "output_type": "execute_result"
    }
   ],
   "source": [
    "df = df.drop(['법정동', '아파트', '지번'], axis=1)\n",
    "df.head()"
   ]
  },
  {
   "cell_type": "code",
   "execution_count": 175,
   "metadata": {},
   "outputs": [
    {
     "name": "stdout",
     "output_type": "stream",
     "text": [
      "31\n",
      "        지역코드        거래일    전용면적   층    건축년도    거래금액  지역\n",
      "655312    11  1/13/2018  140.78  15  2004.0  130000  11\n",
      "655313    11  1/19/2018  103.77   5  2003.0   96000  11\n",
      "655314    11  1/23/2018  123.13  10  2004.0  118000  11\n",
      "655315    11  1/30/2018   66.96  13  1994.0   54500  11\n",
      "655316    11  1/31/2018   76.66  11  1994.0   64000  11\n",
      "655317    11  1/19/2018   29.76   3  1999.0   17900  11\n",
      "655318    11  1/19/2018   29.76   4  1999.0   17900  11\n",
      "655319    11  1/18/2018  104.73   3  1983.0   66000  11\n",
      "655320    11  1/30/2018   59.34   3  1999.0   22000  11\n",
      "655321    11  1/25/2018   84.90  10  1995.0   73000  11\n"
     ]
    }
   ],
   "source": [
    "# 지역 코드 구분 \n",
    "#areacode: 시/도\n",
    "# gecode: 군/읍/면/동/구\n",
    "\n",
    "areacode = [] #  반복문 전 리스트 초기화 \n",
    "gecode = []\n",
    "\n",
    "\n",
    "print(str(df['지역코드'][10])[0:2])\n",
    "\n",
    "for code in df['지역코드']:\n",
    "    acode = str(code)[0:2]\n",
    "    gcode = str(code)[2:]\n",
    "    areacode.append(int(acode))\n",
    "    gecode.append(int(acode))\n",
    "\n",
    "df['지역'] = gecode\n",
    "df['지역코드'] = areacode\n",
    "\n",
    "print(df[df['지역코드'] ==11][:10]) # 서울 11 경기 41 "
   ]
  },
  {
   "cell_type": "code",
   "execution_count": 176,
   "metadata": {},
   "outputs": [
    {
     "data": {
      "text/html": [
       "<div>\n",
       "<style scoped>\n",
       "    .dataframe tbody tr th:only-of-type {\n",
       "        vertical-align: middle;\n",
       "    }\n",
       "\n",
       "    .dataframe tbody tr th {\n",
       "        vertical-align: top;\n",
       "    }\n",
       "\n",
       "    .dataframe thead th {\n",
       "        text-align: right;\n",
       "    }\n",
       "</style>\n",
       "<table border=\"1\" class=\"dataframe\">\n",
       "  <thead>\n",
       "    <tr style=\"text-align: right;\">\n",
       "      <th></th>\n",
       "      <th>지역코드</th>\n",
       "      <th>거래일</th>\n",
       "      <th>전용면적</th>\n",
       "      <th>층</th>\n",
       "      <th>건축년도</th>\n",
       "      <th>거래금액</th>\n",
       "      <th>지역</th>\n",
       "    </tr>\n",
       "  </thead>\n",
       "  <tbody>\n",
       "    <tr>\n",
       "      <th>655312</th>\n",
       "      <td>11</td>\n",
       "      <td>1/13/2018</td>\n",
       "      <td>140.78</td>\n",
       "      <td>15</td>\n",
       "      <td>2004.0</td>\n",
       "      <td>130000</td>\n",
       "      <td>11</td>\n",
       "    </tr>\n",
       "    <tr>\n",
       "      <th>655313</th>\n",
       "      <td>11</td>\n",
       "      <td>1/19/2018</td>\n",
       "      <td>103.77</td>\n",
       "      <td>5</td>\n",
       "      <td>2003.0</td>\n",
       "      <td>96000</td>\n",
       "      <td>11</td>\n",
       "    </tr>\n",
       "    <tr>\n",
       "      <th>655314</th>\n",
       "      <td>11</td>\n",
       "      <td>1/23/2018</td>\n",
       "      <td>123.13</td>\n",
       "      <td>10</td>\n",
       "      <td>2004.0</td>\n",
       "      <td>118000</td>\n",
       "      <td>11</td>\n",
       "    </tr>\n",
       "    <tr>\n",
       "      <th>655315</th>\n",
       "      <td>11</td>\n",
       "      <td>1/30/2018</td>\n",
       "      <td>66.96</td>\n",
       "      <td>13</td>\n",
       "      <td>1994.0</td>\n",
       "      <td>54500</td>\n",
       "      <td>11</td>\n",
       "    </tr>\n",
       "    <tr>\n",
       "      <th>655316</th>\n",
       "      <td>11</td>\n",
       "      <td>1/31/2018</td>\n",
       "      <td>76.66</td>\n",
       "      <td>11</td>\n",
       "      <td>1994.0</td>\n",
       "      <td>64000</td>\n",
       "      <td>11</td>\n",
       "    </tr>\n",
       "  </tbody>\n",
       "</table>\n",
       "</div>"
      ],
      "text/plain": [
       "        지역코드        거래일    전용면적   층    건축년도    거래금액  지역\n",
       "655312    11  1/13/2018  140.78  15  2004.0  130000  11\n",
       "655313    11  1/19/2018  103.77   5  2003.0   96000  11\n",
       "655314    11  1/23/2018  123.13  10  2004.0  118000  11\n",
       "655315    11  1/30/2018   66.96  13  1994.0   54500  11\n",
       "655316    11  1/31/2018   76.66  11  1994.0   64000  11"
      ]
     },
     "execution_count": 176,
     "metadata": {},
     "output_type": "execute_result"
    }
   ],
   "source": [
    "#서울\n",
    "df2 = df[df[\"지역코드\"] == 11]\n",
    "#경기\n",
    "# df3 = df[df['지역코드'] ==41]\n",
    "# 테스트를 위해 경기 삭제 \n",
    "\n",
    "df = pd.concat([df2])\n",
    "df.head()"
   ]
  },
  {
   "cell_type": "code",
   "execution_count": 177,
   "metadata": {},
   "outputs": [
    {
     "data": {
      "text/html": [
       "<div>\n",
       "<style scoped>\n",
       "    .dataframe tbody tr th:only-of-type {\n",
       "        vertical-align: middle;\n",
       "    }\n",
       "\n",
       "    .dataframe tbody tr th {\n",
       "        vertical-align: top;\n",
       "    }\n",
       "\n",
       "    .dataframe thead th {\n",
       "        text-align: right;\n",
       "    }\n",
       "</style>\n",
       "<table border=\"1\" class=\"dataframe\">\n",
       "  <thead>\n",
       "    <tr style=\"text-align: right;\">\n",
       "      <th></th>\n",
       "      <th>지역코드</th>\n",
       "      <th>거래일</th>\n",
       "      <th>전용면적</th>\n",
       "      <th>층</th>\n",
       "      <th>건축년도</th>\n",
       "      <th>거래금액</th>\n",
       "      <th>지역</th>\n",
       "    </tr>\n",
       "  </thead>\n",
       "  <tbody>\n",
       "    <tr>\n",
       "      <th>655312</th>\n",
       "      <td>11</td>\n",
       "      <td>20180113</td>\n",
       "      <td>140.78</td>\n",
       "      <td>15</td>\n",
       "      <td>2004.0</td>\n",
       "      <td>130000</td>\n",
       "      <td>11</td>\n",
       "    </tr>\n",
       "    <tr>\n",
       "      <th>655313</th>\n",
       "      <td>11</td>\n",
       "      <td>20180119</td>\n",
       "      <td>103.77</td>\n",
       "      <td>5</td>\n",
       "      <td>2003.0</td>\n",
       "      <td>96000</td>\n",
       "      <td>11</td>\n",
       "    </tr>\n",
       "    <tr>\n",
       "      <th>655314</th>\n",
       "      <td>11</td>\n",
       "      <td>20180123</td>\n",
       "      <td>123.13</td>\n",
       "      <td>10</td>\n",
       "      <td>2004.0</td>\n",
       "      <td>118000</td>\n",
       "      <td>11</td>\n",
       "    </tr>\n",
       "    <tr>\n",
       "      <th>655315</th>\n",
       "      <td>11</td>\n",
       "      <td>20180130</td>\n",
       "      <td>66.96</td>\n",
       "      <td>13</td>\n",
       "      <td>1994.0</td>\n",
       "      <td>54500</td>\n",
       "      <td>11</td>\n",
       "    </tr>\n",
       "    <tr>\n",
       "      <th>655316</th>\n",
       "      <td>11</td>\n",
       "      <td>20180131</td>\n",
       "      <td>76.66</td>\n",
       "      <td>11</td>\n",
       "      <td>1994.0</td>\n",
       "      <td>64000</td>\n",
       "      <td>11</td>\n",
       "    </tr>\n",
       "  </tbody>\n",
       "</table>\n",
       "</div>"
      ],
      "text/plain": [
       "        지역코드       거래일    전용면적   층    건축년도    거래금액  지역\n",
       "655312    11  20180113  140.78  15  2004.0  130000  11\n",
       "655313    11  20180119  103.77   5  2003.0   96000  11\n",
       "655314    11  20180123  123.13  10  2004.0  118000  11\n",
       "655315    11  20180130   66.96  13  1994.0   54500  11\n",
       "655316    11  20180131   76.66  11  1994.0   64000  11"
      ]
     },
     "execution_count": 177,
     "metadata": {},
     "output_type": "execute_result"
    }
   ],
   "source": [
    "# ‘거래일' 데이터 형식 통일\n",
    "# ‘거래일’의 데이터 형식을 모두 ‘20150000’ 형식으로 통일하고, 후에 카테고리 데이터로 설정하여 예측에 용이한 형태로 변환될 수 있도록 구성\n",
    "# 날짜 형식 변경\n",
    "# '1/31/2018'을 '20180118'로 변경\n",
    "import re\n",
    "\n",
    "\n",
    "day = []\n",
    "\n",
    "\n",
    "for date in df[\"거래일\"]:\n",
    "    date = date.split(\" \")\n",
    "    date = date[0]\n",
    "    date = re.split(\"/|-\", date)\n",
    "    if len(date[0]) == 4:\n",
    "        date = int(date[0] + date[1] + date[2])\n",
    "    else:\n",
    "        if len(date[0]) == 1:\n",
    "            date[0] = \"0\" + date[0]\n",
    "            if len(date[1]) == 1:\n",
    "                date[1] = \"0\" + date[1]\n",
    "        date = int(date[2] + date[0] + date[1])\n",
    "    day.append(date)\n",
    "df[\"거래일\"] = day\n",
    "\n",
    "df.head()"
   ]
  },
  {
   "cell_type": "code",
   "execution_count": 178,
   "metadata": {},
   "outputs": [],
   "source": [
    "# 거래 금액을 일반적인 숫자형 데이터로 변환\n",
    "# 모두 문자형으로 변환한 후 replace( ) 함수로 ,(콤마)를 지우고 다시 숫자형으로 변환해 준다.\n",
    "# 마지막으로 층의 Null 값을 0으로 채워 준다.\n",
    "# 거래금액 콤마(,) 제거\n",
    "\n",
    "\n",
    "df[\"거래금액\"] = df[\"거래금액\"].astype(\"str\")\n",
    "df[\"거래금액\"] = df[\"거래금액\"].str.replace(\",\", \"\")\n",
    "df[\"거래금액\"] = df[\"거래금액\"].astype(\"int\")\n"
   ]
  },
  {
   "cell_type": "code",
   "execution_count": 179,
   "metadata": {},
   "outputs": [],
   "source": [
    "# 층 데이터가 비어있으면 0으로 채용 \n",
    "df['층'] = pd.to_numeric(df['층'], errors='coerce').fillna(0)"
   ]
  },
  {
   "cell_type": "code",
   "execution_count": 180,
   "metadata": {},
   "outputs": [
    {
     "data": {
      "text/html": [
       "<div>\n",
       "<style scoped>\n",
       "    .dataframe tbody tr th:only-of-type {\n",
       "        vertical-align: middle;\n",
       "    }\n",
       "\n",
       "    .dataframe tbody tr th {\n",
       "        vertical-align: top;\n",
       "    }\n",
       "\n",
       "    .dataframe thead th {\n",
       "        text-align: right;\n",
       "    }\n",
       "</style>\n",
       "<table border=\"1\" class=\"dataframe\">\n",
       "  <thead>\n",
       "    <tr style=\"text-align: right;\">\n",
       "      <th></th>\n",
       "      <th>지역코드</th>\n",
       "      <th>지역</th>\n",
       "      <th>건축년도</th>\n",
       "      <th>거래일</th>\n",
       "      <th>층</th>\n",
       "      <th>전용면적</th>\n",
       "      <th>거래금액</th>\n",
       "    </tr>\n",
       "  </thead>\n",
       "  <tbody>\n",
       "    <tr>\n",
       "      <th>655312</th>\n",
       "      <td>11</td>\n",
       "      <td>11</td>\n",
       "      <td>2004.0</td>\n",
       "      <td>20180113</td>\n",
       "      <td>15</td>\n",
       "      <td>140.780</td>\n",
       "      <td>130000</td>\n",
       "    </tr>\n",
       "    <tr>\n",
       "      <th>2918508</th>\n",
       "      <td>11</td>\n",
       "      <td>11</td>\n",
       "      <td>2005.0</td>\n",
       "      <td>20160924</td>\n",
       "      <td>13</td>\n",
       "      <td>59.606</td>\n",
       "      <td>89900</td>\n",
       "    </tr>\n",
       "    <tr>\n",
       "      <th>2918509</th>\n",
       "      <td>11</td>\n",
       "      <td>11</td>\n",
       "      <td>2008.0</td>\n",
       "      <td>20160924</td>\n",
       "      <td>13</td>\n",
       "      <td>119.095</td>\n",
       "      <td>128500</td>\n",
       "    </tr>\n",
       "    <tr>\n",
       "      <th>2918510</th>\n",
       "      <td>11</td>\n",
       "      <td>11</td>\n",
       "      <td>2011.0</td>\n",
       "      <td>20160924</td>\n",
       "      <td>19</td>\n",
       "      <td>105.890</td>\n",
       "      <td>130000</td>\n",
       "    </tr>\n",
       "    <tr>\n",
       "      <th>2918511</th>\n",
       "      <td>11</td>\n",
       "      <td>11</td>\n",
       "      <td>1979.0</td>\n",
       "      <td>20160924</td>\n",
       "      <td>3</td>\n",
       "      <td>160.330</td>\n",
       "      <td>144000</td>\n",
       "    </tr>\n",
       "    <tr>\n",
       "      <th>...</th>\n",
       "      <td>...</td>\n",
       "      <td>...</td>\n",
       "      <td>...</td>\n",
       "      <td>...</td>\n",
       "      <td>...</td>\n",
       "      <td>...</td>\n",
       "      <td>...</td>\n",
       "    </tr>\n",
       "    <tr>\n",
       "      <th>2168238</th>\n",
       "      <td>11</td>\n",
       "      <td>11</td>\n",
       "      <td>2008.0</td>\n",
       "      <td>20190611</td>\n",
       "      <td>10</td>\n",
       "      <td>84.830</td>\n",
       "      <td>62000</td>\n",
       "    </tr>\n",
       "    <tr>\n",
       "      <th>2168239</th>\n",
       "      <td>11</td>\n",
       "      <td>11</td>\n",
       "      <td>2008.0</td>\n",
       "      <td>20190612</td>\n",
       "      <td>8</td>\n",
       "      <td>84.880</td>\n",
       "      <td>62800</td>\n",
       "    </tr>\n",
       "    <tr>\n",
       "      <th>2168240</th>\n",
       "      <td>11</td>\n",
       "      <td>11</td>\n",
       "      <td>2008.0</td>\n",
       "      <td>20190617</td>\n",
       "      <td>11</td>\n",
       "      <td>84.880</td>\n",
       "      <td>60000</td>\n",
       "    </tr>\n",
       "    <tr>\n",
       "      <th>2168233</th>\n",
       "      <td>11</td>\n",
       "      <td>11</td>\n",
       "      <td>2013.0</td>\n",
       "      <td>20190607</td>\n",
       "      <td>9</td>\n",
       "      <td>84.774</td>\n",
       "      <td>70000</td>\n",
       "    </tr>\n",
       "    <tr>\n",
       "      <th>4704696</th>\n",
       "      <td>11</td>\n",
       "      <td>11</td>\n",
       "      <td>2020.0</td>\n",
       "      <td>20230422</td>\n",
       "      <td>7</td>\n",
       "      <td>49.820</td>\n",
       "      <td>61000</td>\n",
       "    </tr>\n",
       "  </tbody>\n",
       "</table>\n",
       "<p>630323 rows × 7 columns</p>\n",
       "</div>"
      ],
      "text/plain": [
       "        지역코드  지역    건축년도       거래일   층     전용면적    거래금액\n",
       "655312    11  11  2004.0  20180113  15  140.780  130000\n",
       "2918508   11  11  2005.0  20160924  13   59.606   89900\n",
       "2918509   11  11  2008.0  20160924  13  119.095  128500\n",
       "2918510   11  11  2011.0  20160924  19  105.890  130000\n",
       "2918511   11  11  1979.0  20160924   3  160.330  144000\n",
       "...      ...  ..     ...       ...  ..      ...     ...\n",
       "2168238   11  11  2008.0  20190611  10   84.830   62000\n",
       "2168239   11  11  2008.0  20190612   8   84.880   62800\n",
       "2168240   11  11  2008.0  20190617  11   84.880   60000\n",
       "2168233   11  11  2013.0  20190607   9   84.774   70000\n",
       "4704696   11  11  2020.0  20230422   7   49.820   61000\n",
       "\n",
       "[630323 rows x 7 columns]"
      ]
     },
     "execution_count": 180,
     "metadata": {},
     "output_type": "execute_result"
    }
   ],
   "source": [
    "# 데이터 타입 변환\n",
    "# 범주형('category') 데이터는 데이터가 적은 고유값으로 구성되어 있을 경우 메모리 사용량을 크게 줄일 수 있습니다.\n",
    "df['지역코드'] = df['지역코드'].astype('category')\n",
    "df['지역'] = df['지역'].astype('category')\n",
    "df['건축년도'] = df['건축년도'].astype('category')\n",
    "df['거래일'] = df['거래일'].astype('category')\n",
    "df['층'] = df['층'].astype('category')\n",
    "df = df[['지역코드', '지역', '건축년도', '거래일', '층', '전용면적', '거래금액']]\n",
    "\n",
    "\n",
    "df.sort_values(by=['지역'], axis=0)"
   ]
  },
  {
   "cell_type": "code",
   "execution_count": 181,
   "metadata": {},
   "outputs": [
    {
     "name": "stdout",
     "output_type": "stream",
     "text": [
      "<class 'pandas.core.frame.DataFrame'>\n",
      "Index: 630323 entries, 655312 to 4704696\n",
      "Data columns (total 7 columns):\n",
      " #   Column  Non-Null Count   Dtype   \n",
      "---  ------  --------------   -----   \n",
      " 0   지역코드    630323 non-null  category\n",
      " 1   지역      630323 non-null  category\n",
      " 2   건축년도    630323 non-null  category\n",
      " 3   거래일     630323 non-null  category\n",
      " 4   층       630323 non-null  category\n",
      " 5   전용면적    630323 non-null  float64 \n",
      " 6   거래금액    630323 non-null  int32   \n",
      "dtypes: category(5), float64(1), int32(1)\n",
      "memory usage: 15.7 MB\n"
     ]
    }
   ],
   "source": [
    "df.info()"
   ]
  },
  {
   "cell_type": "code",
   "execution_count": 182,
   "metadata": {},
   "outputs": [
    {
     "data": {
      "text/plain": [
       "지역코드    0\n",
       "지역      0\n",
       "건축년도    0\n",
       "거래일     0\n",
       "층       0\n",
       "전용면적    0\n",
       "거래금액    0\n",
       "dtype: int64"
      ]
     },
     "execution_count": 182,
     "metadata": {},
     "output_type": "execute_result"
    }
   ],
   "source": [
    "df.isnull().sum()"
   ]
  },
  {
   "cell_type": "code",
   "execution_count": 183,
   "metadata": {},
   "outputs": [
    {
     "data": {
      "text/plain": [
       "<bound method NDFrame.describe of 655312     11\n",
       "655313     11\n",
       "655314     11\n",
       "655315     11\n",
       "655316     11\n",
       "           ..\n",
       "4704692    11\n",
       "4704693    11\n",
       "4704694    11\n",
       "4704695    11\n",
       "4704696    11\n",
       "Name: 지역코드, Length: 630323, dtype: category\n",
       "Categories (1, int64): [11]>"
      ]
     },
     "execution_count": 183,
     "metadata": {},
     "output_type": "execute_result"
    }
   ],
   "source": [
    "df['지역코드'].describe"
   ]
  },
  {
   "cell_type": "code",
   "execution_count": 184,
   "metadata": {},
   "outputs": [],
   "source": [
    "df['건축년도'] = pd.to_numeric(df['건축년도'], errors='coerce').fillna(0)"
   ]
  },
  {
   "cell_type": "code",
   "execution_count": 185,
   "metadata": {},
   "outputs": [
    {
     "data": {
      "text/plain": [
       "지역코드    0\n",
       "지역      0\n",
       "건축년도    0\n",
       "거래일     0\n",
       "층       0\n",
       "전용면적    0\n",
       "거래금액    0\n",
       "dtype: int64"
      ]
     },
     "execution_count": 185,
     "metadata": {},
     "output_type": "execute_result"
    }
   ],
   "source": [
    "df.isnull().sum()"
   ]
  },
  {
   "cell_type": "code",
   "execution_count": 186,
   "metadata": {},
   "outputs": [],
   "source": [
    "# 필요 모듈 라이브러리 불러오기\n",
    "\n",
    "\n",
    "# 머신러닝 모델인 랜덤 포레스트(Random Forest)를 사이킷런(sklearn) 라이브러리에서 불러오기\n",
    "# 데이터를 훈련 데이터와 테스트 데이터로 효과적으로 분리하기 위해 train_test_split 모듈을 불러오고,\n",
    "# 모델의 학습 정도를 높이고 성능 평가를 위해 k-fold 모듈과\n",
    "# cross_validation(교차 검증), metrics(평가 척도) 모듈을 불러오고 랜덤 seed도 설정\n",
    "\n",
    "\n",
    "from sklearn.ensemble import RandomForestRegressor\n",
    "from sklearn.model_selection import train_test_split\n",
    "import tensorflow as tf\n",
    "from sklearn.model_selection import KFold\n",
    "from sklearn.model_selection import cross_validate\n",
    "from sklearn import metrics\n"
   ]
  },
  {
   "cell_type": "code",
   "execution_count": 187,
   "metadata": {},
   "outputs": [],
   "source": [
    "# 입력 0~6  타겟 7\n",
    "\n",
    "# 훈련 데이터와 테스트 데이터 나누기\n",
    "# 지역 코드, 지역, 건축년도, 거래일, 층, 전용 면적 속성이 입력 데이터 X에 저장\n",
    "# 거래 금액 속성이 타겟 이므로 Y에 저장\n",
    "# 실거래가 데이터를 모델이 학습할 수 있는 형태인 넘파이(Numpy) 배열로 변환\n",
    "# 8:2로 분할하여 각각 훈련 데이터 세트, 테스트 데이터 세트로 나누기\n",
    "\n",
    "\n",
    "dataset = df.values\n",
    "X = dataset[:, 0:6]\n",
    "Y = dataset[:, 6]\n",
    "\n",
    "\n",
    "X = np.asarray(X)\n",
    "Y = np.asarray(Y)\n",
    "X_train, X_test, Y_train, Y_test = train_test_split(\n",
    "    X, Y, test_size=0.2, random_state=42\n",
    ")"
   ]
  },
  {
   "cell_type": "code",
   "execution_count": 188,
   "metadata": {},
   "outputs": [
    {
     "data": {
      "text/plain": [
       "((504258, 6), (126065, 6), (504258,), (126065,))"
      ]
     },
     "execution_count": 188,
     "metadata": {},
     "output_type": "execute_result"
    }
   ],
   "source": [
    "X_train.shape,X_test.shape,Y_train.shape,Y_test.shape"
   ]
  },
  {
   "cell_type": "code",
   "execution_count": 189,
   "metadata": {},
   "outputs": [],
   "source": [
    "# k-fold 및 랜덤 포레스트 모델 구성\n",
    "# 학습의 정확도를 높이기 위해서 k-fold 모듈을 사용하여 훈련 데이터 세트를 다시 다섯 개로 나누어서 다섯 번의 학습을 진행\n",
    "# 각각의 학습에서 다섯 개 중 네 개의 데이터 세트를 train set, 나머지 한 개의 데이터 세트를 validation set로 구분\n",
    "# 각각의 데이터 세트를 모두 네 번씩 학습\n",
    "\n",
    "\n",
    "kfold = KFold(n_splits=5, shuffle=True, random_state=42)\n",
    "forest = RandomForestRegressor(n_estimators=100, random_state=42, n_jobs=-1)\n"
   ]
  },
  {
   "cell_type": "code",
   "execution_count": 190,
   "metadata": {},
   "outputs": [
    {
     "name": "stdout",
     "output_type": "stream",
     "text": [
      "TRAIN: [     0      1      3 ... 504254 504255 504256] TEST: [     2      6      7 ... 504236 504244 504257]\n"
     ]
    },
    {
     "name": "stdout",
     "output_type": "stream",
     "text": [
      "validation split rmse : 18914.7316\n",
      "validation split R2 :  0.8703\n",
      "TRAIN: [     1      2      3 ... 504253 504254 504257] TEST: [     0     11     16 ... 504247 504255 504256]\n",
      "validation split rmse : 18930.2513\n",
      "validation split R2 :  0.8734\n",
      "TRAIN: [     0      1      2 ... 504255 504256 504257] TEST: [     4     10     12 ... 504249 504253 504254]\n",
      "validation split rmse : 18994.5977\n",
      "validation split R2 :  0.8696\n",
      "TRAIN: [     0      2      4 ... 504255 504256 504257] TEST: [     1      3      8 ... 504242 504246 504251]\n",
      "validation split rmse : 18889.2675\n",
      "validation split R2 :  0.8675\n",
      "TRAIN: [     0      1      2 ... 504255 504256 504257] TEST: [     5     13     15 ... 504245 504250 504252]\n",
      "validation split rmse : 19169.1206\n",
      "validation split R2 :  0.8639\n"
     ]
    }
   ],
   "source": [
    "# k-fold와 랜덤 포레스트 모델 학습 - 오래걸림\n",
    "# k-fold를 적용하여 학습을 진행하면서, 각 학습마다 평가 척도로 validation set의 RMSE\n",
    "# (Root Mean Squared Error, 평균제곱근오차)와 R^2를 출력\n",
    "\n",
    "\n",
    "for train, test in kfold.split(X_train, Y_train):\n",
    "    print(\"TRAIN:\", train, \"TEST:\", test)\n",
    "    x_train, x_test = X_train[train], X_train[test]\n",
    "    y_train, y_test = Y_train[train], Y_train[test]\n",
    "\n",
    "    forest.fit(x_train, y_train)\n",
    "\n",
    "    y_pred = forest.predict(x_test)\n",
    "\n",
    "    print(\n",
    "        \"validation split rmse : {:.4f}\".format(\n",
    "            np.sqrt(metrics.mean_squared_error(y_test, y_pred))\n",
    "        )\n",
    "    )\n",
    "    print(\"validation split R2 : {: .4f}\".format(metrics.r2_score(y_test, y_pred)))\n"
   ]
  },
  {
   "cell_type": "markdown",
   "metadata": {},
   "source": [
    "## 예측(회귀) 평가 척도 ##\n",
    "\n",
    "\n",
    "- 어떤 예측 인공지능 모델 결과 실제 값과 예측 값의 차이 즉, 오차가 각각 -2와 2가 발생했다고 가정\n",
    "- 오차의 합은 0이지만 각각 오차가 존재한다.\n",
    "- 이와 같이 오차는 부호가 있기 때문에 오차 평가를 위해 부로흘 처리해야 한다.\n",
    "- 부호를 처리하는 방법은 다음과 같다\n",
    " - MAE(Mean Absolute Error): 평균절대오차 - 오차에 절대값을 씌어 평균을 낸 값으로, 예측 평가 척도 중 하나지만 절댓값을 사용해 미분할 수 없다는 점 때문에 활용이 어려워 잘 사용하지 않는다.\n",
    " - MSE(Mean Squared Error): 평균제곱오차 - 오차를 제곱한 후 평균을 낸 값\n",
    " - RSME(Root Mean Squared Error): 평균제곱근오차 - 예측 값과 실제 값 차이의 제곱에 대하여 평균을 낸 뒤 루트를 적용한 값으로 MSE가 급격히 커지는 왜곡을 줄여준다.\n",
    " - R^2: 결정계수 - 실제 값의 분산 대비 예측 값의 분산 비율로, 1에 가까울수록 좋은 모델, 0에 가까울수록 나쁜 모델로 평가된다. 음수가 나오면 잘못 평가된 값이다."
   ]
  },
  {
   "cell_type": "code",
   "execution_count": 191,
   "metadata": {},
   "outputs": [
    {
     "data": {
      "text/plain": [
       "{'fit_time': array([47.8062675 , 45.95302582, 47.50023222, 45.13607168, 46.14815855]),\n",
       " 'score_time': array([2.42254281, 2.38730311, 2.53020954, 2.37623453, 2.35894442]),\n",
       " 'test_r2': array([0.87026876, 0.87339577, 0.86964662, 0.8674786 , 0.86394626]),\n",
       " 'train_r2': array([0.98099098, 0.98108241, 0.98144961, 0.98133329, 0.98138641])}"
      ]
     },
     "execution_count": 191,
     "metadata": {},
     "output_type": "execute_result"
    }
   ],
   "source": [
    "# $ cross_validate 모듈을 이용하여 학습 후에 훈련 데이터가 학습이 잘 되었는지, 시간은 얼마나 걸렸는지를 확인\n",
    "cross_validate(\n",
    "    forest, X_train, Y_train, cv=kfold, scoring=[\"r2\"], return_train_score=True\n",
    ")\n"
   ]
  },
  {
   "cell_type": "code",
   "execution_count": 192,
   "metadata": {},
   "outputs": [
    {
     "name": "stdout",
     "output_type": "stream",
     "text": [
      "테스트 세트 정확도: 0.866\n",
      "rmse : 19055.7860\n",
      "R2 : 0.8665\n"
     ]
    }
   ],
   "source": [
    "# K-fold와 랜덤 포레스트 모델 학습 평가\n",
    "# k-fold와 cross_validate로 랜덤 포레스트 모델의 학습과 평가를 마친 후, 테스트 데이터를 모델에 적용시켜 최종적으로 학습이 잘 되었는지 평가\n",
    "# 마찬가지로 평가 척도는 RMSE와 R2를 사용하는데, 상대적인 평가가 가능한 평가 척도인 R2 결과가 0.96가 넘는 것으로 보아 학습이 잘 이루어졌음을 판단\n",
    "\n",
    "print(\"테스트 세트 정확도: {:.3f}\".format(forest.score(X_test, Y_test)))\n",
    "pred = forest.predict(X_test)\n",
    "print(\"rmse : {:.4f}\".format(np.sqrt(metrics.mean_squared_error(Y_test, pred))))\n",
    "print(\"R2 : {:.4f}\".format(metrics.r2_score(Y_test, pred)))\n",
    "\n",
    "# 정확도는 0.96이고, 오차 범위는 약 1억 853 만원 정도로 평가할 수 있다\n"
   ]
  },
  {
   "cell_type": "code",
   "execution_count": 193,
   "metadata": {},
   "outputs": [
    {
     "name": "stdout",
     "output_type": "stream",
     "text": [
      "실제 아파트 가격 : 49500만원, 예측 아파트 가격 : 54466만원\n",
      "실제 아파트 가격 : 49500만원, 예측 아파트 가격 : 49739만원\n",
      "실제 아파트 가격 : 43000만원, 예측 아파트 가격 : 46478만원\n",
      "실제 아파트 가격 : 690000만원, 예측 아파트 가격 : 659070만원\n",
      "실제 아파트 가격 : 185000만원, 예측 아파트 가격 : 182049만원\n",
      "실제 아파트 가격 : 31850만원, 예측 아파트 가격 : 32298만원\n",
      "실제 아파트 가격 : 100000만원, 예측 아파트 가격 : 107417만원\n",
      "실제 아파트 가격 : 184000만원, 예측 아파트 가격 : 186692만원\n",
      "실제 아파트 가격 : 122000만원, 예측 아파트 가격 : 126177만원\n",
      "실제 아파트 가격 : 77500만원, 예측 아파트 가격 : 84489만원\n",
      "실제 아파트 가격 : 62900만원, 예측 아파트 가격 : 61684만원\n",
      "실제 아파트 가격 : 125000만원, 예측 아파트 가격 : 117669만원\n",
      "실제 아파트 가격 : 34250만원, 예측 아파트 가격 : 52136만원\n",
      "실제 아파트 가격 : 82200만원, 예측 아파트 가격 : 81109만원\n",
      "실제 아파트 가격 : 57100만원, 예측 아파트 가격 : 56119만원\n",
      "실제 아파트 가격 : 64800만원, 예측 아파트 가격 : 65792만원\n",
      "실제 아파트 가격 : 39500만원, 예측 아파트 가격 : 44987만원\n",
      "실제 아파트 가격 : 29400만원, 예측 아파트 가격 : 33783만원\n",
      "실제 아파트 가격 : 63000만원, 예측 아파트 가격 : 72808만원\n",
      "실제 아파트 가격 : 29800만원, 예측 아파트 가격 : 46742만원\n"
     ]
    }
   ],
   "source": [
    "# 테스트 데이터로 가격 예측\n",
    "# 학습을 거치지 않은 낯선 데이터는 테스트 데이터를 넣고 예측할 가격과 비교\n",
    "\n",
    "for i in range(0, 20):\n",
    "    print(\"실제 아파트 가격 : %d만원, 예측 아파트 가격 : %d만원\" % (Y_test[i], pred[i]))\n"
   ]
  },
  {
   "cell_type": "code",
   "execution_count": 194,
   "metadata": {},
   "outputs": [],
   "source": [
    "# XGBoost 모델 설정\n",
    "# 의사결정 트리 기반의 Boost 모델인 XGBoost 알고리즘으로 학습\n",
    "# XGBoost는 자체 오픈 소스 라이브러리로 불러오기\n",
    "\n",
    "import xgboost\n",
    "from xgboost import XGBRegressor\n"
   ]
  },
  {
   "cell_type": "code",
   "execution_count": 195,
   "metadata": {},
   "outputs": [],
   "source": [
    "# k-fold를 적용하여 학습을 진행하고 XGBoost 모델을 구성\n",
    "# XGBoost 모델은 랜덤 포레스트 알고리즘의 매개 변수와 동일하며 학습률(learning_rate)을 조절할 수 있는데, 여기서는 가장 일반적인 0.1로 설정\n",
    "\n",
    "kfold = KFold(n_splits=5, shuffle=True, random_state=42)\n",
    "xgb = XGBRegressor(\n",
    "    n_estimators=1500,\n",
    "    learning_rate=0.02,\n",
    "    max_depth=12,\n",
    "    gamma=0,\n",
    "    subsample=0.9,\n",
    "    colsample_bytree=0.9,\n",
    "    random_state=42,\n",
    ")\n"
   ]
  },
  {
   "cell_type": "code",
   "execution_count": 196,
   "metadata": {},
   "outputs": [
    {
     "name": "stdout",
     "output_type": "stream",
     "text": [
      "TRAIN: [     0      1      3 ... 504254 504255 504256] TEST: [     2      6      7 ... 504236 504244 504257]\n",
      "validation split rmse : 21162.3879\n",
      "validation split R2 :  0.8376\n",
      "TRAIN: [     1      2      3 ... 504253 504254 504257] TEST: [     0     11     16 ... 504247 504255 504256]\n",
      "validation split rmse : 21185.4578\n",
      "validation split R2 :  0.8414\n",
      "TRAIN: [     0      1      2 ... 504255 504256 504257] TEST: [     4     10     12 ... 504249 504253 504254]\n",
      "validation split rmse : 21152.6679\n",
      "validation split R2 :  0.8383\n",
      "TRAIN: [     0      2      4 ... 504255 504256 504257] TEST: [     1      3      8 ... 504242 504246 504251]\n",
      "validation split rmse : 20776.2446\n",
      "validation split R2 :  0.8397\n",
      "TRAIN: [     0      1      2 ... 504255 504256 504257] TEST: [     5     13     15 ... 504245 504250 504252]\n",
      "validation split rmse : 21273.1915\n",
      "validation split R2 :  0.8324\n"
     ]
    }
   ],
   "source": [
    "# XGBoost 모델 설정\n",
    "for train, test in kfold.split(X_train, Y_train):\n",
    "    print(\"TRAIN:\", train, \"TEST:\", test)\n",
    "    x_train, x_test = X_train[train], X_train[test]\n",
    "    y_train, y_test = Y_train[train], Y_train[test]\n",
    "\n",
    "    xgb.fit(x_train, y_train)\n",
    "\n",
    "    y_pred2 = xgb.predict(x_test)\n",
    "\n",
    "    print(\n",
    "        \"validation split rmse : {:.4f}\".format(\n",
    "            np.sqrt(metrics.mean_squared_error(y_test, y_pred2))\n",
    "        )\n",
    "    )\n",
    "    print(\"validation split R2 : {: .4f}\".format(metrics.r2_score(y_test, y_pred2)))\n"
   ]
  },
  {
   "cell_type": "code",
   "execution_count": 197,
   "metadata": {},
   "outputs": [
    {
     "name": "stdout",
     "output_type": "stream",
     "text": [
      "테스트 세트 정확도: 0.840\n",
      "rmse : 20884.6680\n",
      "R2 : 0.8396\n"
     ]
    }
   ],
   "source": [
    "print(\"테스트 세트 정확도: {:.3f}\".format(xgb.score(X_test, Y_test)))\n",
    "pred2 = xgb.predict(X_test)\n",
    "print(\"rmse : {:.4f}\".format(np.sqrt(metrics.mean_squared_error(Y_test, pred2))))\n",
    "print(\"R2 : {:.4f}\".format(metrics.r2_score(Y_test, pred2)))\n",
    "\n",
    "# 결과를 보면 랜덤 포레스트가 더 좋음 "
   ]
  },
  {
   "cell_type": "code",
   "execution_count": 198,
   "metadata": {},
   "outputs": [
    {
     "name": "stdout",
     "output_type": "stream",
     "text": [
      "실제 아파트 가격 : 49500만원, 예측 아파트 가격 : 50902만원\n",
      "실제 아파트 가격 : 49500만원, 예측 아파트 가격 : 51218만원\n",
      "실제 아파트 가격 : 43000만원, 예측 아파트 가격 : 47582만원\n",
      "실제 아파트 가격 : 690000만원, 예측 아파트 가격 : 534462만원\n",
      "실제 아파트 가격 : 185000만원, 예측 아파트 가격 : 183485만원\n",
      "실제 아파트 가격 : 31850만원, 예측 아파트 가격 : 32421만원\n",
      "실제 아파트 가격 : 100000만원, 예측 아파트 가격 : 223603만원\n",
      "실제 아파트 가격 : 184000만원, 예측 아파트 가격 : 175897만원\n",
      "실제 아파트 가격 : 122000만원, 예측 아파트 가격 : 116987만원\n",
      "실제 아파트 가격 : 77500만원, 예측 아파트 가격 : 83026만원\n",
      "실제 아파트 가격 : 62900만원, 예측 아파트 가격 : 60711만원\n",
      "실제 아파트 가격 : 125000만원, 예측 아파트 가격 : 107738만원\n",
      "실제 아파트 가격 : 34250만원, 예측 아파트 가격 : 45551만원\n",
      "실제 아파트 가격 : 82200만원, 예측 아파트 가격 : 75232만원\n"
     ]
    },
    {
     "name": "stdout",
     "output_type": "stream",
     "text": [
      "실제 아파트 가격 : 57100만원, 예측 아파트 가격 : 66549만원\n",
      "실제 아파트 가격 : 64800만원, 예측 아파트 가격 : 65286만원\n",
      "실제 아파트 가격 : 39500만원, 예측 아파트 가격 : 37491만원\n",
      "실제 아파트 가격 : 29400만원, 예측 아파트 가격 : 38805만원\n",
      "실제 아파트 가격 : 63000만원, 예측 아파트 가격 : 62685만원\n",
      "실제 아파트 가격 : 29800만원, 예측 아파트 가격 : 48589만원\n",
      "실제 아파트 가격 평균: 67373.32만원\n",
      "예측 아파트 가격 평균: 67412.13만원\n",
      "변동 비율: 0.06%\n"
     ]
    }
   ],
   "source": [
    "for i in range(0, 20):\n",
    "    print(\n",
    "        \"실제 아파트 가격 : %d만원, 예측 아파트 가격 : %d만원\" % (Y_test[i], pred2[i])\n",
    "    )\n",
    "\n",
    "    # 평균 계산\n",
    "    actual_avg = sum(Y_test) / len(Y_test)  # 실제 가격 평균\n",
    "    predicted_avg = sum(pred2) / len(pred2)  # 예측 가격 평균\n",
    "\n",
    "    # 변동 비율 계산\n",
    "    change_rate = ((predicted_avg - actual_avg) / actual_avg) * 100\n",
    "\n",
    "# 결과 출력\n",
    "print(f\"실제 아파트 가격 평균: {actual_avg:.2f}만원\")\n",
    "print(f\"예측 아파트 가격 평균: {predicted_avg:.2f}만원\")\n",
    "print(f\"변동 비율: {change_rate:.2f}%\")\n"
   ]
  },
  {
   "cell_type": "code",
   "execution_count": null,
   "metadata": {},
   "outputs": [],
   "source": [
    "\n"
   ]
  }
 ],
 "metadata": {
  "kernelspec": {
   "display_name": "Python 3 (ipykernel)",
   "language": "python",
   "name": "python3"
  },
  "language_info": {
   "codemirror_mode": {
    "name": "ipython",
    "version": 3
   },
   "file_extension": ".py",
   "mimetype": "text/x-python",
   "name": "python",
   "nbconvert_exporter": "python",
   "pygments_lexer": "ipython3",
   "version": "3.12.7"
  }
 },
 "nbformat": 4,
 "nbformat_minor": 2
}
