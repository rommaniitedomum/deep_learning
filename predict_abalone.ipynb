{
 "cells": [
  {
   "cell_type": "markdown",
   "metadata": {},
   "source": [
    "## 개요 ##\n",
    "\n",
    "\n",
    "- 한국에서 전복을 판매할 때 '미'라는 단위로 판매한다.\n",
    "- 이는 kg 당 마리수로 판단하는데, 10미라하고 하면 1kg에 10마리라는 의미다.\n",
    "- 미의 계수가 커질수록 전복의 수는 많지만 크기는 작고, 계수가 작으면 전복의 수는 적지만 크기는 크다.\n",
    "- 전복의 크기가 작으면 순살이 적어 먹는 양이 줄고, 크기가 너무 크면 식감이 떨어지기 때문에 크기를 적당히 선택해야 한다.\n",
    "- 전복의 순살 무게를 인공지능으로 예측할 수 있는 방안을 모색한다.\n",
    "\n",
    "\n",
    "## 사용 알고리즘 ##\n",
    "- 선형회귀\n",
    "- 인공신경망\n",
    "\n",
    "\n",
    "## 데이터 수집 ##\n",
    "- 삼양미디어 고객센터 자료실\n",
    "\n",
    "\n",
    "## 전복(abalone) 순살 무게 예측 ##\n",
    " - Abalone Dataset : 1994년 4177개 전복의 8개 속성을 나타냄\n",
    " - 속성(feature)는 8개\n",
    "   - Length: 길이/최장 쉘 측정\n",
    "   - Diameter: 직경/길이에 수직\n",
    "   - Height: 두께/껍질과 살 포함\n",
    "   - Whole weight: 전체 무게/ 그램 단위\n",
    "   - Viscera weight: 내장 무게/장 무게(출혈 후)\n",
    "   - Shell weight: 껍질 무게/건조 후\n",
    "   - Rings: -/+ 연도를 나타냄\n",
    "   - Shucked weight: 순살무게/ 그램 단위\n",
    " - 참고자료(UCI저장소)\n",
    "   - http://archive.ics.uci.edu/ml/datasets/Abalone\n"
   ]
  },
  {
   "cell_type": "code",
   "execution_count": 1,
   "metadata": {},
   "outputs": [],
   "source": [
    "import pandas as pd\n",
    "import numpy as np\n",
    "import matplotlib.pyplot as plt\n"
   ]
  },
  {
   "cell_type": "code",
   "execution_count": 4,
   "metadata": {},
   "outputs": [
    {
     "data": {
      "text/html": [
       "<div>\n",
       "<style scoped>\n",
       "    .dataframe tbody tr th:only-of-type {\n",
       "        vertical-align: middle;\n",
       "    }\n",
       "\n",
       "    .dataframe tbody tr th {\n",
       "        vertical-align: top;\n",
       "    }\n",
       "\n",
       "    .dataframe thead th {\n",
       "        text-align: right;\n",
       "    }\n",
       "</style>\n",
       "<table border=\"1\" class=\"dataframe\">\n",
       "  <thead>\n",
       "    <tr style=\"text-align: right;\">\n",
       "      <th></th>\n",
       "      <th>길이</th>\n",
       "      <th>직경</th>\n",
       "      <th>두께</th>\n",
       "      <th>전체무게</th>\n",
       "      <th>내장무게</th>\n",
       "      <th>껍질무게</th>\n",
       "      <th>나이테</th>\n",
       "      <th>순살무게</th>\n",
       "    </tr>\n",
       "  </thead>\n",
       "  <tbody>\n",
       "    <tr>\n",
       "      <th>0</th>\n",
       "      <td>0.455</td>\n",
       "      <td>0.365</td>\n",
       "      <td>0.095</td>\n",
       "      <td>0.5140</td>\n",
       "      <td>0.1010</td>\n",
       "      <td>0.150</td>\n",
       "      <td>15</td>\n",
       "      <td>0.2245</td>\n",
       "    </tr>\n",
       "    <tr>\n",
       "      <th>1</th>\n",
       "      <td>0.350</td>\n",
       "      <td>0.265</td>\n",
       "      <td>0.090</td>\n",
       "      <td>0.2255</td>\n",
       "      <td>0.0485</td>\n",
       "      <td>0.070</td>\n",
       "      <td>7</td>\n",
       "      <td>0.0995</td>\n",
       "    </tr>\n",
       "    <tr>\n",
       "      <th>2</th>\n",
       "      <td>0.530</td>\n",
       "      <td>0.420</td>\n",
       "      <td>0.135</td>\n",
       "      <td>0.6770</td>\n",
       "      <td>0.1415</td>\n",
       "      <td>0.210</td>\n",
       "      <td>9</td>\n",
       "      <td>0.2565</td>\n",
       "    </tr>\n",
       "    <tr>\n",
       "      <th>3</th>\n",
       "      <td>0.440</td>\n",
       "      <td>0.365</td>\n",
       "      <td>0.125</td>\n",
       "      <td>0.5160</td>\n",
       "      <td>0.1140</td>\n",
       "      <td>0.155</td>\n",
       "      <td>10</td>\n",
       "      <td>0.2155</td>\n",
       "    </tr>\n",
       "    <tr>\n",
       "      <th>4</th>\n",
       "      <td>0.330</td>\n",
       "      <td>0.255</td>\n",
       "      <td>0.080</td>\n",
       "      <td>0.2050</td>\n",
       "      <td>0.0395</td>\n",
       "      <td>0.055</td>\n",
       "      <td>7</td>\n",
       "      <td>0.0895</td>\n",
       "    </tr>\n",
       "    <tr>\n",
       "      <th>5</th>\n",
       "      <td>0.425</td>\n",
       "      <td>0.300</td>\n",
       "      <td>0.095</td>\n",
       "      <td>0.3515</td>\n",
       "      <td>0.0775</td>\n",
       "      <td>0.120</td>\n",
       "      <td>8</td>\n",
       "      <td>0.1410</td>\n",
       "    </tr>\n",
       "    <tr>\n",
       "      <th>6</th>\n",
       "      <td>0.530</td>\n",
       "      <td>0.415</td>\n",
       "      <td>0.150</td>\n",
       "      <td>0.7775</td>\n",
       "      <td>0.1415</td>\n",
       "      <td>0.330</td>\n",
       "      <td>20</td>\n",
       "      <td>0.2370</td>\n",
       "    </tr>\n",
       "    <tr>\n",
       "      <th>7</th>\n",
       "      <td>0.545</td>\n",
       "      <td>0.425</td>\n",
       "      <td>0.125</td>\n",
       "      <td>0.7680</td>\n",
       "      <td>0.1495</td>\n",
       "      <td>0.260</td>\n",
       "      <td>16</td>\n",
       "      <td>0.2940</td>\n",
       "    </tr>\n",
       "    <tr>\n",
       "      <th>8</th>\n",
       "      <td>0.475</td>\n",
       "      <td>0.370</td>\n",
       "      <td>0.125</td>\n",
       "      <td>0.5095</td>\n",
       "      <td>0.1125</td>\n",
       "      <td>0.165</td>\n",
       "      <td>9</td>\n",
       "      <td>0.2165</td>\n",
       "    </tr>\n",
       "    <tr>\n",
       "      <th>9</th>\n",
       "      <td>0.550</td>\n",
       "      <td>0.440</td>\n",
       "      <td>0.150</td>\n",
       "      <td>0.8945</td>\n",
       "      <td>0.1510</td>\n",
       "      <td>0.320</td>\n",
       "      <td>19</td>\n",
       "      <td>0.3145</td>\n",
       "    </tr>\n",
       "  </tbody>\n",
       "</table>\n",
       "</div>"
      ],
      "text/plain": [
       "      길이     직경     두께    전체무게    내장무게   껍질무게  나이테    순살무게\n",
       "0  0.455  0.365  0.095  0.5140  0.1010  0.150   15  0.2245\n",
       "1  0.350  0.265  0.090  0.2255  0.0485  0.070    7  0.0995\n",
       "2  0.530  0.420  0.135  0.6770  0.1415  0.210    9  0.2565\n",
       "3  0.440  0.365  0.125  0.5160  0.1140  0.155   10  0.2155\n",
       "4  0.330  0.255  0.080  0.2050  0.0395  0.055    7  0.0895\n",
       "5  0.425  0.300  0.095  0.3515  0.0775  0.120    8  0.1410\n",
       "6  0.530  0.415  0.150  0.7775  0.1415  0.330   20  0.2370\n",
       "7  0.545  0.425  0.125  0.7680  0.1495  0.260   16  0.2940\n",
       "8  0.475  0.370  0.125  0.5095  0.1125  0.165    9  0.2165\n",
       "9  0.550  0.440  0.150  0.8945  0.1510  0.320   19  0.3145"
      ]
     },
     "execution_count": 4,
     "metadata": {},
     "output_type": "execute_result"
    }
   ],
   "source": [
    "# 데이터 로드 \n",
    "df = pd.read_csv('./abalone.csv')\n",
    "df.head(10)"
   ]
  },
  {
   "cell_type": "code",
   "execution_count": 5,
   "metadata": {},
   "outputs": [
    {
     "data": {
      "text/plain": [
       "길이      0\n",
       "직경      0\n",
       "두께      0\n",
       "전체무게    0\n",
       "내장무게    0\n",
       "껍질무게    0\n",
       "나이테     0\n",
       "순살무게    0\n",
       "dtype: int64"
      ]
     },
     "execution_count": 5,
     "metadata": {},
     "output_type": "execute_result"
    }
   ],
   "source": [
    "df.isnull().sum()"
   ]
  },
  {
   "cell_type": "code",
   "execution_count": null,
   "metadata": {},
   "outputs": [],
   "source": [
    "# 입력 데이터 (x) 순살 무게 제외 나머지 칼럼\n",
    "# 입력 데이터 (y) 순살 무게 \n",
    "dataset = df.values\n",
    "dataset\n",
    "\n",
    "X = dataset[:, :7] # 0~6 번 컬럼 \n",
    "y = dataset[:, 7] # 7번 컬럼 출력 "
   ]
  },
  {
   "cell_type": "code",
   "execution_count": 8,
   "metadata": {},
   "outputs": [
    {
     "data": {
      "text/plain": [
       "((2923, 7), (1254, 7), (2923,), (1254,))"
      ]
     },
     "execution_count": 8,
     "metadata": {},
     "output_type": "execute_result"
    }
   ],
   "source": [
    "# 학습 데이터, 테스트 데이터 7:3 \n",
    "from sklearn.model_selection import train_test_split\n",
    "\n",
    "X_train, X_test, y_train, y_test = train_test_split(X, y, test_size=0.3, random_state=42)\n",
    "\n",
    "X_train.shape, X_test.shape, y_train.shape, y_test.shape"
   ]
  },
  {
   "cell_type": "code",
   "execution_count": 9,
   "metadata": {},
   "outputs": [],
   "source": [
    "# 선형 회귀 모델 작성 \n",
    "from sklearn.linear_model import LinearRegression\n",
    "\n",
    "lin_reg = LinearRegression()\n",
    "\n",
    "# 설정한 알고리즘에 훈련 데이터를 각각 입력하고 모델확인 \n",
    "model = lin_reg.fit(X_train,y_train)"
   ]
  },
  {
   "cell_type": "code",
   "execution_count": 11,
   "metadata": {},
   "outputs": [
    {
     "name": "stdout",
     "output_type": "stream",
     "text": [
      "정확도: 0.9735009448826057\n"
     ]
    }
   ],
   "source": [
    "# 정확도 측정 \n",
    "print(f'정확도: { model.score(X_train,y_train)}')"
   ]
  },
  {
   "cell_type": "code",
   "execution_count": 13,
   "metadata": {},
   "outputs": [
    {
     "name": "stdout",
     "output_type": "stream",
     "text": [
      "가중치(w): [ 0.15311007  0.02300385  0.0028741   0.7299719  -0.47801252 -0.74987139\n",
      " -0.00589098]\n",
      "입력값(b): -0.011009037547579537\n"
     ]
    }
   ],
   "source": [
    "# 가중치 편향 확인 : y = wx + b \n",
    "w = model.coef_\n",
    "b = model.intercept_\n",
    "\n",
    "print(f'가중치(w): {w}')\n",
    "print(f'입력값(b): {b}')\n",
    "\n",
    "\n",
    "# 전복 순살 무게 = (0.13216544 * 길이) + (0.07453926 * 직격) + (0.03037804 * 두께) +\n",
    "# (0.69165655 * 전체무게) - (0.41884668 * 내장무게) -\n",
    "# (0.68525444 * 껍데기무게) - (0.00646454 * 나이테) - 0.014075705572578923\n"
   ]
  },
  {
   "cell_type": "code",
   "execution_count": 15,
   "metadata": {},
   "outputs": [
    {
     "name": "stdout",
     "output_type": "stream",
     "text": [
      "실제무게: 0.421, 예측 순살무게 0.457\n",
      "실제무게: 0.387, 예측 순살무게 0.393\n",
      "실제무게: 0.305, 예측 순살무게 0.349\n",
      "실제무게: 0.538, 예측 순살무게 0.553\n",
      "실제무게: 0.235, 예측 순살무게 0.226\n",
      "실제무게: 0.177, 예측 순살무게 0.202\n",
      "실제무게: 0.235, 예측 순살무게 0.247\n",
      "실제무게: 0.321, 예측 순살무게 0.352\n",
      "실제무게: 0.086, 예측 순살무게 0.091\n",
      "실제무게: 0.432, 예측 순살무게 0.434\n"
     ]
    }
   ],
   "source": [
    "# 모델 테스트 \n",
    "y_pred = model.predict(X_test)\n",
    "\n",
    "for i in range(10):\n",
    "    label = y_test[i]\n",
    "    prediction = y_pred[i]\n",
    "    print(f'실제무게:{label: .3f}, 예측 순살무게{prediction: .3f}')\n",
    "    # .3f = 3번째 소숫점까지 자름 "
   ]
  },
  {
   "cell_type": "code",
   "execution_count": 16,
   "metadata": {},
   "outputs": [],
   "source": [
    "# 딥러닝 라이브러리 설치 \n",
    "from keras.models import Sequential\n",
    "from keras.layers import Dense\n",
    "import tensorflow as tf\n"
   ]
  },
  {
   "cell_type": "markdown",
   "metadata": {},
   "source": [
    "- 총 3개층 구성(입력1,은닉1,출력1) 및 28, 7, 1개는 퍼셉트론 개수\n",
    "- 층을 몇 개로 하고, 층 안에 퍼셉트론을 몇 개로 하는지에 정답은 없음 -> 감으로 익혀야 함\n",
    "- 활성화 함수는 출력층을 제외하고 모두 'relu'\n",
    "---\n",
    "- Sequential() : 딥러닝 모델 층을 만듦\n",
    "- .add() : 몇 층을 만들 것인지 설정\n",
    "- Dense() : 만든 층의 세부 설정\n",
    "- Input_dim=7 : 입력층을 설정할 때만 데이터 속성의 개수가 몇 개인지 넣음\n"
   ]
  },
  {
   "cell_type": "code",
   "execution_count": 20,
   "metadata": {},
   "outputs": [
    {
     "data": {
      "text/html": [
       "<pre style=\"white-space:pre;overflow-x:auto;line-height:normal;font-family:Menlo,'DejaVu Sans Mono',consolas,'Courier New',monospace\"><span style=\"font-weight: bold\">Model: \"sequential_1\"</span>\n",
       "</pre>\n"
      ],
      "text/plain": [
       "\u001b[1mModel: \"sequential_1\"\u001b[0m\n"
      ]
     },
     "metadata": {},
     "output_type": "display_data"
    },
    {
     "data": {
      "text/html": [
       "<pre style=\"white-space:pre;overflow-x:auto;line-height:normal;font-family:Menlo,'DejaVu Sans Mono',consolas,'Courier New',monospace\">┏━━━━━━━━━━━━━━━━━━━━━━━━━━━━━━━━━━━━━━┳━━━━━━━━━━━━━━━━━━━━━━━━━━━━━┳━━━━━━━━━━━━━━━━━┓\n",
       "┃<span style=\"font-weight: bold\"> Layer (type)                         </span>┃<span style=\"font-weight: bold\"> Output Shape                </span>┃<span style=\"font-weight: bold\">         Param # </span>┃\n",
       "┡━━━━━━━━━━━━━━━━━━━━━━━━━━━━━━━━━━━━━━╇━━━━━━━━━━━━━━━━━━━━━━━━━━━━━╇━━━━━━━━━━━━━━━━━┩\n",
       "│ dense_3 (<span style=\"color: #0087ff; text-decoration-color: #0087ff\">Dense</span>)                      │ (<span style=\"color: #00d7ff; text-decoration-color: #00d7ff\">None</span>, <span style=\"color: #00af00; text-decoration-color: #00af00\">28</span>)                  │             <span style=\"color: #00af00; text-decoration-color: #00af00\">224</span> │\n",
       "├──────────────────────────────────────┼─────────────────────────────┼─────────────────┤\n",
       "│ dense_4 (<span style=\"color: #0087ff; text-decoration-color: #0087ff\">Dense</span>)                      │ (<span style=\"color: #00d7ff; text-decoration-color: #00d7ff\">None</span>, <span style=\"color: #00af00; text-decoration-color: #00af00\">7</span>)                   │             <span style=\"color: #00af00; text-decoration-color: #00af00\">203</span> │\n",
       "├──────────────────────────────────────┼─────────────────────────────┼─────────────────┤\n",
       "│ dense_5 (<span style=\"color: #0087ff; text-decoration-color: #0087ff\">Dense</span>)                      │ (<span style=\"color: #00d7ff; text-decoration-color: #00d7ff\">None</span>, <span style=\"color: #00af00; text-decoration-color: #00af00\">1</span>)                   │               <span style=\"color: #00af00; text-decoration-color: #00af00\">8</span> │\n",
       "└──────────────────────────────────────┴─────────────────────────────┴─────────────────┘\n",
       "</pre>\n"
      ],
      "text/plain": [
       "┏━━━━━━━━━━━━━━━━━━━━━━━━━━━━━━━━━━━━━━┳━━━━━━━━━━━━━━━━━━━━━━━━━━━━━┳━━━━━━━━━━━━━━━━━┓\n",
       "┃\u001b[1m \u001b[0m\u001b[1mLayer (type)                        \u001b[0m\u001b[1m \u001b[0m┃\u001b[1m \u001b[0m\u001b[1mOutput Shape               \u001b[0m\u001b[1m \u001b[0m┃\u001b[1m \u001b[0m\u001b[1m        Param #\u001b[0m\u001b[1m \u001b[0m┃\n",
       "┡━━━━━━━━━━━━━━━━━━━━━━━━━━━━━━━━━━━━━━╇━━━━━━━━━━━━━━━━━━━━━━━━━━━━━╇━━━━━━━━━━━━━━━━━┩\n",
       "│ dense_3 (\u001b[38;5;33mDense\u001b[0m)                      │ (\u001b[38;5;45mNone\u001b[0m, \u001b[38;5;34m28\u001b[0m)                  │             \u001b[38;5;34m224\u001b[0m │\n",
       "├──────────────────────────────────────┼─────────────────────────────┼─────────────────┤\n",
       "│ dense_4 (\u001b[38;5;33mDense\u001b[0m)                      │ (\u001b[38;5;45mNone\u001b[0m, \u001b[38;5;34m7\u001b[0m)                   │             \u001b[38;5;34m203\u001b[0m │\n",
       "├──────────────────────────────────────┼─────────────────────────────┼─────────────────┤\n",
       "│ dense_5 (\u001b[38;5;33mDense\u001b[0m)                      │ (\u001b[38;5;45mNone\u001b[0m, \u001b[38;5;34m1\u001b[0m)                   │               \u001b[38;5;34m8\u001b[0m │\n",
       "└──────────────────────────────────────┴─────────────────────────────┴─────────────────┘\n"
      ]
     },
     "metadata": {},
     "output_type": "display_data"
    },
    {
     "data": {
      "text/html": [
       "<pre style=\"white-space:pre;overflow-x:auto;line-height:normal;font-family:Menlo,'DejaVu Sans Mono',consolas,'Courier New',monospace\"><span style=\"font-weight: bold\"> Total params: </span><span style=\"color: #00af00; text-decoration-color: #00af00\">435</span> (1.70 KB)\n",
       "</pre>\n"
      ],
      "text/plain": [
       "\u001b[1m Total params: \u001b[0m\u001b[38;5;34m435\u001b[0m (1.70 KB)\n"
      ]
     },
     "metadata": {},
     "output_type": "display_data"
    },
    {
     "data": {
      "text/html": [
       "<pre style=\"white-space:pre;overflow-x:auto;line-height:normal;font-family:Menlo,'DejaVu Sans Mono',consolas,'Courier New',monospace\"><span style=\"font-weight: bold\"> Trainable params: </span><span style=\"color: #00af00; text-decoration-color: #00af00\">435</span> (1.70 KB)\n",
       "</pre>\n"
      ],
      "text/plain": [
       "\u001b[1m Trainable params: \u001b[0m\u001b[38;5;34m435\u001b[0m (1.70 KB)\n"
      ]
     },
     "metadata": {},
     "output_type": "display_data"
    },
    {
     "data": {
      "text/html": [
       "<pre style=\"white-space:pre;overflow-x:auto;line-height:normal;font-family:Menlo,'DejaVu Sans Mono',consolas,'Courier New',monospace\"><span style=\"font-weight: bold\"> Non-trainable params: </span><span style=\"color: #00af00; text-decoration-color: #00af00\">0</span> (0.00 B)\n",
       "</pre>\n"
      ],
      "text/plain": [
       "\u001b[1m Non-trainable params: \u001b[0m\u001b[38;5;34m0\u001b[0m (0.00 B)\n"
      ]
     },
     "metadata": {},
     "output_type": "display_data"
    }
   ],
   "source": [
    "model = Sequential()\n",
    "model.add(Dense(28, input_dim=7, activation='relu'))\n",
    "model.add(Dense(7, activation='relu'))\n",
    "model.add(Dense(1))\n",
    "\n",
    "model.summary()"
   ]
  },
  {
   "cell_type": "code",
   "execution_count": 24,
   "metadata": {},
   "outputs": [],
   "source": [
    "# loss 방식으로  평균 제곱법 계산: https://hayden-archive.tistory.com/307\n",
    "\n",
    "model.compile(loss='mean_squared_error', optimizer='adam', metrics=['accuracy'])"
   ]
  },
  {
   "cell_type": "code",
   "execution_count": 25,
   "metadata": {},
   "outputs": [
    {
     "name": "stdout",
     "output_type": "stream",
     "text": [
      "Epoch 1/15\n"
     ]
    },
    {
     "name": "stdout",
     "output_type": "stream",
     "text": [
      "\u001b[1m220/220\u001b[0m \u001b[32m━━━━━━━━━━━━━━━━━━━━\u001b[0m\u001b[37m\u001b[0m \u001b[1m2s\u001b[0m 3ms/step - accuracy: 0.0000e+00 - loss: 0.0545 - val_accuracy: 0.0000e+00 - val_loss: 0.0065\n",
      "Epoch 2/15\n",
      "\u001b[1m220/220\u001b[0m \u001b[32m━━━━━━━━━━━━━━━━━━━━\u001b[0m\u001b[37m\u001b[0m \u001b[1m1s\u001b[0m 2ms/step - accuracy: 0.0000e+00 - loss: 0.0042 - val_accuracy: 0.0000e+00 - val_loss: 0.0037\n",
      "Epoch 3/15\n",
      "\u001b[1m220/220\u001b[0m \u001b[32m━━━━━━━━━━━━━━━━━━━━\u001b[0m\u001b[37m\u001b[0m \u001b[1m0s\u001b[0m 2ms/step - accuracy: 0.0000e+00 - loss: 0.0029 - val_accuracy: 0.0000e+00 - val_loss: 0.0028\n",
      "Epoch 4/15\n",
      "\u001b[1m220/220\u001b[0m \u001b[32m━━━━━━━━━━━━━━━━━━━━\u001b[0m\u001b[37m\u001b[0m \u001b[1m0s\u001b[0m 2ms/step - accuracy: 0.0000e+00 - loss: 0.0027 - val_accuracy: 0.0000e+00 - val_loss: 0.0032\n",
      "Epoch 5/15\n",
      "\u001b[1m220/220\u001b[0m \u001b[32m━━━━━━━━━━━━━━━━━━━━\u001b[0m\u001b[37m\u001b[0m \u001b[1m0s\u001b[0m 2ms/step - accuracy: 0.0000e+00 - loss: 0.0027 - val_accuracy: 0.0000e+00 - val_loss: 0.0025\n",
      "Epoch 6/15\n",
      "\u001b[1m220/220\u001b[0m \u001b[32m━━━━━━━━━━━━━━━━━━━━\u001b[0m\u001b[37m\u001b[0m \u001b[1m1s\u001b[0m 2ms/step - accuracy: 0.0000e+00 - loss: 0.0027 - val_accuracy: 0.0000e+00 - val_loss: 0.0023\n",
      "Epoch 7/15\n",
      "\u001b[1m220/220\u001b[0m \u001b[32m━━━━━━━━━━━━━━━━━━━━\u001b[0m\u001b[37m\u001b[0m \u001b[1m0s\u001b[0m 2ms/step - accuracy: 0.0000e+00 - loss: 0.0023 - val_accuracy: 0.0000e+00 - val_loss: 0.0024\n",
      "Epoch 8/15\n",
      "\u001b[1m220/220\u001b[0m \u001b[32m━━━━━━━━━━━━━━━━━━━━\u001b[0m\u001b[37m\u001b[0m \u001b[1m0s\u001b[0m 2ms/step - accuracy: 0.0000e+00 - loss: 0.0027 - val_accuracy: 0.0000e+00 - val_loss: 0.0022\n",
      "Epoch 9/15\n",
      "\u001b[1m220/220\u001b[0m \u001b[32m━━━━━━━━━━━━━━━━━━━━\u001b[0m\u001b[37m\u001b[0m \u001b[1m1s\u001b[0m 2ms/step - accuracy: 0.0000e+00 - loss: 0.0025 - val_accuracy: 0.0000e+00 - val_loss: 0.0023\n",
      "Epoch 10/15\n",
      "\u001b[1m220/220\u001b[0m \u001b[32m━━━━━━━━━━━━━━━━━━━━\u001b[0m\u001b[37m\u001b[0m \u001b[1m1s\u001b[0m 2ms/step - accuracy: 0.0000e+00 - loss: 0.0019 - val_accuracy: 0.0000e+00 - val_loss: 0.0020\n",
      "Epoch 11/15\n",
      "\u001b[1m220/220\u001b[0m \u001b[32m━━━━━━━━━━━━━━━━━━━━\u001b[0m\u001b[37m\u001b[0m \u001b[1m1s\u001b[0m 2ms/step - accuracy: 0.0000e+00 - loss: 0.0022 - val_accuracy: 0.0000e+00 - val_loss: 0.0019\n",
      "Epoch 12/15\n",
      "\u001b[1m220/220\u001b[0m \u001b[32m━━━━━━━━━━━━━━━━━━━━\u001b[0m\u001b[37m\u001b[0m \u001b[1m1s\u001b[0m 3ms/step - accuracy: 0.0000e+00 - loss: 0.0020 - val_accuracy: 0.0000e+00 - val_loss: 0.0024\n",
      "Epoch 13/15\n",
      "\u001b[1m220/220\u001b[0m \u001b[32m━━━━━━━━━━━━━━━━━━━━\u001b[0m\u001b[37m\u001b[0m \u001b[1m1s\u001b[0m 3ms/step - accuracy: 0.0000e+00 - loss: 0.0021 - val_accuracy: 0.0000e+00 - val_loss: 0.0017\n",
      "Epoch 14/15\n",
      "\u001b[1m220/220\u001b[0m \u001b[32m━━━━━━━━━━━━━━━━━━━━\u001b[0m\u001b[37m\u001b[0m \u001b[1m0s\u001b[0m 2ms/step - accuracy: 0.0000e+00 - loss: 0.0020 - val_accuracy: 0.0000e+00 - val_loss: 0.0019\n",
      "Epoch 15/15\n",
      "\u001b[1m220/220\u001b[0m \u001b[32m━━━━━━━━━━━━━━━━━━━━\u001b[0m\u001b[37m\u001b[0m \u001b[1m0s\u001b[0m 2ms/step - accuracy: 0.0000e+00 - loss: 0.0020 - val_accuracy: 0.0000e+00 - val_loss: 0.0034\n"
     ]
    }
   ],
   "source": [
    "# batch_size: 데이터가 많아서 10개 단위로 쪼개서 학습 \n",
    "# validation_split: 모델 기능 향상을 위해 을종의 모의 테스트를 진행한다.\n",
    "# 이때 모의 테스트 진행시 검증 데이터 비율 설정 (0.25)\n",
    "history = model.fit(X_train, y_train, epochs=15, batch_size=10, validation_split=0.25)\n",
    "\n",
    "# 평균 제곱오차는 값 차이 제곱의 평균을 구한다. \n",
    "# accuracy는 결과 값이 맞는 경우의 수를 전체로 나눈 값이다. \n",
    "# 따라서 조금만 달라도 0이 나온다 따라서 loss를 평가 지표로 활용."
   ]
  },
  {
   "cell_type": "code",
   "execution_count": 26,
   "metadata": {},
   "outputs": [
    {
     "data": {
      "image/png": "[encoded data removed]",
      "text/plain": [
       "<Figure size 640x480 with 1 Axes>"
      ]
     },
     "metadata": {},
     "output_type": "display_data"
    }
   ],
   "source": [
    "# 오차 상황 그래프 시각화 \n",
    "\n",
    "plt.plot(history.history['loss'], 'b-', label='loss')\n",
    "plt.title('model loss')\n",
    "plt.legend()\n",
    "plt.xlabel('epoch')\n",
    "plt.show()"
   ]
  },
  {
   "cell_type": "code",
   "execution_count": null,
   "metadata": {},
   "outputs": [
    {
     "name": "stdout",
     "output_type": "stream",
     "text": [
      "\u001b[1m40/40\u001b[0m \u001b[32m━━━━━━━━━━━━━━━━━━━━\u001b[0m\u001b[37m\u001b[0m \u001b[1m0s\u001b[0m 2ms/step - accuracy: 0.0000e+00 - loss: 0.0033\n"
     ]
    },
    {
     "data": {
      "text/plain": [
       "[0.0033619662281125784, 0.0]"
      ]
     },
     "execution_count": 28,
     "metadata": {},
     "output_type": "execute_result"
    }
   ],
   "source": [
    "# 딥러닝 모델 실행 결과 \n",
    "# 실제 순살과 예측 순살 무게 비교 \n",
    "model.evaluate(X_test, y_test)\n",
    "\n",
    "# 손실률 확인 결과 약 0.3그램 정도 오차 "
   ]
  },
  {
   "cell_type": "code",
   "execution_count": 33,
   "metadata": {},
   "outputs": [
    {
     "name": "stdout",
     "output_type": "stream",
     "text": [
      "\u001b[1m40/40\u001b[0m \u001b[32m━━━━━━━━━━━━━━━━━━━━\u001b[0m\u001b[37m\u001b[0m \u001b[1m0s\u001b[0m 2ms/step\n",
      "실제값: 0.421, 예측값: 0.445\n",
      "실제값: 0.387, 예측값: 0.370\n",
      "실제값: 0.305, 예측값: 0.305\n",
      "실제값: 0.538, 예측값: 0.528\n",
      "실제값: 0.235, 예측값: 0.174\n",
      "실제값: 0.177, 예측값: 0.171\n",
      "실제값: 0.235, 예측값: 0.232\n",
      "실제값: 0.321, 예측값: 0.312\n",
      "실제값: 0.086, 예측값: 0.062\n",
      "실제값: 0.432, 예측값: 0.398\n"
     ]
    }
   ],
   "source": [
    "# 테스트 데이터 모델 예측 \n",
    "\n",
    "prediction = model.predict(X_test)\n",
    "\n",
    "for i in range(10):\n",
    "    print(f\"실제값: {y_test[i]:.3f}, 예측값: {prediction[i][0]:.3f}\")"
   ]
  },
  {
   "cell_type": "code",
   "execution_count": 35,
   "metadata": {},
   "outputs": [
    {
     "name": "stderr",
     "output_type": "stream",
     "text": [
      "WARNING:absl:You are saving your model as an HDF5 file via `model.save()` or `keras.saving.save_model(model)`. This file format is considered legacy. We recommend using instead the native Keras format, e.g. `model.save('my_model.keras')` or `keras.saving.save_model(model, 'my_model.keras')`. \n"
     ]
    }
   ],
   "source": [
    "model.save('abalone_model.h5')"
   ]
  },
  {
   "cell_type": "code",
   "execution_count": 38,
   "metadata": {},
   "outputs": [
    {
     "data": {
      "text/html": [
       "<pre style=\"white-space:pre;overflow-x:auto;line-height:normal;font-family:Menlo,'DejaVu Sans Mono',consolas,'Courier New',monospace\"><span style=\"font-weight: bold\">Model: \"sequential_1\"</span>\n",
       "</pre>\n"
      ],
      "text/plain": [
       "\u001b[1mModel: \"sequential_1\"\u001b[0m\n"
      ]
     },
     "metadata": {},
     "output_type": "display_data"
    },
    {
     "data": {
      "text/html": [
       "<pre style=\"white-space:pre;overflow-x:auto;line-height:normal;font-family:Menlo,'DejaVu Sans Mono',consolas,'Courier New',monospace\">┏━━━━━━━━━━━━━━━━━━━━━━━━━━━━━━━━━━━━━━┳━━━━━━━━━━━━━━━━━━━━━━━━━━━━━┳━━━━━━━━━━━━━━━━━┓\n",
       "┃<span style=\"font-weight: bold\"> Layer (type)                         </span>┃<span style=\"font-weight: bold\"> Output Shape                </span>┃<span style=\"font-weight: bold\">         Param # </span>┃\n",
       "┡━━━━━━━━━━━━━━━━━━━━━━━━━━━━━━━━━━━━━━╇━━━━━━━━━━━━━━━━━━━━━━━━━━━━━╇━━━━━━━━━━━━━━━━━┩\n",
       "│ dense_3 (<span style=\"color: #0087ff; text-decoration-color: #0087ff\">Dense</span>)                      │ (<span style=\"color: #00d7ff; text-decoration-color: #00d7ff\">None</span>, <span style=\"color: #00af00; text-decoration-color: #00af00\">28</span>)                  │             <span style=\"color: #00af00; text-decoration-color: #00af00\">224</span> │\n",
       "├──────────────────────────────────────┼─────────────────────────────┼─────────────────┤\n",
       "│ dense_4 (<span style=\"color: #0087ff; text-decoration-color: #0087ff\">Dense</span>)                      │ (<span style=\"color: #00d7ff; text-decoration-color: #00d7ff\">None</span>, <span style=\"color: #00af00; text-decoration-color: #00af00\">7</span>)                   │             <span style=\"color: #00af00; text-decoration-color: #00af00\">203</span> │\n",
       "├──────────────────────────────────────┼─────────────────────────────┼─────────────────┤\n",
       "│ dense_5 (<span style=\"color: #0087ff; text-decoration-color: #0087ff\">Dense</span>)                      │ (<span style=\"color: #00d7ff; text-decoration-color: #00d7ff\">None</span>, <span style=\"color: #00af00; text-decoration-color: #00af00\">1</span>)                   │               <span style=\"color: #00af00; text-decoration-color: #00af00\">8</span> │\n",
       "└──────────────────────────────────────┴─────────────────────────────┴─────────────────┘\n",
       "</pre>\n"
      ],
      "text/plain": [
       "┏━━━━━━━━━━━━━━━━━━━━━━━━━━━━━━━━━━━━━━┳━━━━━━━━━━━━━━━━━━━━━━━━━━━━━┳━━━━━━━━━━━━━━━━━┓\n",
       "┃\u001b[1m \u001b[0m\u001b[1mLayer (type)                        \u001b[0m\u001b[1m \u001b[0m┃\u001b[1m \u001b[0m\u001b[1mOutput Shape               \u001b[0m\u001b[1m \u001b[0m┃\u001b[1m \u001b[0m\u001b[1m        Param #\u001b[0m\u001b[1m \u001b[0m┃\n",
       "┡━━━━━━━━━━━━━━━━━━━━━━━━━━━━━━━━━━━━━━╇━━━━━━━━━━━━━━━━━━━━━━━━━━━━━╇━━━━━━━━━━━━━━━━━┩\n",
       "│ dense_3 (\u001b[38;5;33mDense\u001b[0m)                      │ (\u001b[38;5;45mNone\u001b[0m, \u001b[38;5;34m28\u001b[0m)                  │             \u001b[38;5;34m224\u001b[0m │\n",
       "├──────────────────────────────────────┼─────────────────────────────┼─────────────────┤\n",
       "│ dense_4 (\u001b[38;5;33mDense\u001b[0m)                      │ (\u001b[38;5;45mNone\u001b[0m, \u001b[38;5;34m7\u001b[0m)                   │             \u001b[38;5;34m203\u001b[0m │\n",
       "├──────────────────────────────────────┼─────────────────────────────┼─────────────────┤\n",
       "│ dense_5 (\u001b[38;5;33mDense\u001b[0m)                      │ (\u001b[38;5;45mNone\u001b[0m, \u001b[38;5;34m1\u001b[0m)                   │               \u001b[38;5;34m8\u001b[0m │\n",
       "└──────────────────────────────────────┴─────────────────────────────┴─────────────────┘\n"
      ]
     },
     "metadata": {},
     "output_type": "display_data"
    },
    {
     "data": {
      "text/html": [
       "<pre style=\"white-space:pre;overflow-x:auto;line-height:normal;font-family:Menlo,'DejaVu Sans Mono',consolas,'Courier New',monospace\"><span style=\"font-weight: bold\"> Total params: </span><span style=\"color: #00af00; text-decoration-color: #00af00\">1,307</span> (5.11 KB)\n",
       "</pre>\n"
      ],
      "text/plain": [
       "\u001b[1m Total params: \u001b[0m\u001b[38;5;34m1,307\u001b[0m (5.11 KB)\n"
      ]
     },
     "metadata": {},
     "output_type": "display_data"
    },
    {
     "data": {
      "text/html": [
       "<pre style=\"white-space:pre;overflow-x:auto;line-height:normal;font-family:Menlo,'DejaVu Sans Mono',consolas,'Courier New',monospace\"><span style=\"font-weight: bold\"> Trainable params: </span><span style=\"color: #00af00; text-decoration-color: #00af00\">435</span> (1.70 KB)\n",
       "</pre>\n"
      ],
      "text/plain": [
       "\u001b[1m Trainable params: \u001b[0m\u001b[38;5;34m435\u001b[0m (1.70 KB)\n"
      ]
     },
     "metadata": {},
     "output_type": "display_data"
    },
    {
     "data": {
      "text/html": [
       "<pre style=\"white-space:pre;overflow-x:auto;line-height:normal;font-family:Menlo,'DejaVu Sans Mono',consolas,'Courier New',monospace\"><span style=\"font-weight: bold\"> Non-trainable params: </span><span style=\"color: #00af00; text-decoration-color: #00af00\">0</span> (0.00 B)\n",
       "</pre>\n"
      ],
      "text/plain": [
       "\u001b[1m Non-trainable params: \u001b[0m\u001b[38;5;34m0\u001b[0m (0.00 B)\n"
      ]
     },
     "metadata": {},
     "output_type": "display_data"
    },
    {
     "data": {
      "text/html": [
       "<pre style=\"white-space:pre;overflow-x:auto;line-height:normal;font-family:Menlo,'DejaVu Sans Mono',consolas,'Courier New',monospace\"><span style=\"font-weight: bold\"> Optimizer params: </span><span style=\"color: #00af00; text-decoration-color: #00af00\">872</span> (3.41 KB)\n",
       "</pre>\n"
      ],
      "text/plain": [
       "\u001b[1m Optimizer params: \u001b[0m\u001b[38;5;34m872\u001b[0m (3.41 KB)\n"
      ]
     },
     "metadata": {},
     "output_type": "display_data"
    }
   ],
   "source": [
    "model.summary()\n"
   ]
  },
  {
   "cell_type": "code",
   "execution_count": 39,
   "metadata": {},
   "outputs": [
    {
     "name": "stdout",
     "output_type": "stream",
     "text": [
      "{'_tracker': <keras.src.utils.tracking.Tracker object at 0x000001F11DB0B470>, '_self_setattr_tracking': True, '_trainable_variables': [], '_non_trainable_variables': [], '_layers': [<InputLayer name=input_layer_1, built=True>, <Dense name=dense_3, built=True>, <Dense name=dense_4, built=True>, <Dense name=dense_5, built=True>], '_metrics': [], '_seed_generators': [], '_lock': False, '_auto_config': <keras.src.saving.serialization_lib.SerializableDict object at 0x000001F11DB08260>, 'build': <function Sequential.build at 0x000001F11DCB16C0>, 'quantize': <function Model.quantize at 0x000001F11DCB1760>, '_run_eagerly': False, '_jit_compile': False, 'compiled': True, 'loss': 'mean_squared_error', 'steps_per_execution': 1, '_initial_epoch': None, '_compute_loss_has_training_arg': True, '_compile_loss': <keras.src.trainers.compile_utils.CompileLoss object at 0x000001F11DA67170>, '_compile_metrics': <CompileMetrics name=compile_metrics>, '_loss_tracker': <Mean name=loss>, 'train_function': <function TensorFlowTrainer._make_function.<locals>.function at 0x000001F11DBC6E80>, 'test_function': <function TensorFlowTrainer._make_function.<locals>.function at 0x000001F11F1153A0>, 'predict_function': <tensorflow.python.eager.polymorphic_function.polymorphic_function.Function object at 0x000001F12079DB20>, 'unrolled_steps_per_execution': 1, '_distribute_strategy': None, '_saved_model_inputs_spec': None, '_saved_model_arg_spec': None, '_tracked': ['_inbound_nodes', '_outbound_nodes', '_losses', '_loss_ids', '_losses_override', '_layers', '_build_shapes_dict', '_build_shapes_dict', '_build_shapes_dict'], '_dtype_policy': <DTypePolicy \"float32\">, 'name': 'sequential_1', '_inbound_nodes': [], '_outbound_nodes': [], 'activity_regularizer': None, '_path': 'sequential_1', 'built': True, 'autocast': True, '_input_spec': None, '_called': True, 'supports_jit': True, '_trainable': True, '_losses': [], '_loss_ids': TrackedSet(), '_losses_override': [], '_call_signature': <Signature (inputs, training=None, mask=None)>, '_call_has_training_arg': True, '_call_has_mask_arg': True, '_supports_masking': False, '_convert_input_args': True, '_allow_non_tensor_positional_args': False, '_build_shapes_dict': {'input_shape': (None, 7)}, '_parent_path': '', '_functional': <Functional name=functional_5, built=True>, '_self_unconditional_checkpoint_dependencies': [TrackableReference(name=_functional, ref=<Functional name=functional_5, built=True>), TrackableReference(name=optimizer, ref=<keras.src.optimizers.adam.Adam object at 0x000001F11DF66810>), TrackableReference(name=predict_function, ref=<tensorflow.python.eager.polymorphic_function.polymorphic_function.Function object at 0x000001F12079DB20>)], '_self_unconditional_dependency_names': {'_functional': <Functional name=functional_5, built=True>, 'optimizer': <keras.src.optimizers.adam.Adam object at 0x000001F11DF66810>, 'predict_function': <tensorflow.python.eager.polymorphic_function.polymorphic_function.Function object at 0x000001F12079DB20>}, '_self_unconditional_deferred_dependencies': {}, '_self_update_uid': -1, '_self_name_based_restores': TrackedSet(), '_self_saveable_object_factories': {}, 'optimizer': <keras.src.optimizers.adam.Adam object at 0x000001F11DF66810>, 'stop_training': False, '_compile_config': <keras.src.saving.serialization_lib.SerializableDict object at 0x000001F11DB08B00>, 'history': <keras.src.callbacks.history.History object at 0x000001F1208D8A40>, 'stop_evaluating': False, 'stop_predicting': False}\n"
     ]
    }
   ],
   "source": [
    "print(model.__dict__)\n"
   ]
  },
  {
   "cell_type": "code",
   "execution_count": 40,
   "metadata": {},
   "outputs": [
    {
     "name": "stdout",
     "output_type": "stream",
     "text": [
      "[<Dense name=dense_3, built=True>, <Dense name=dense_4, built=True>, <Dense name=dense_5, built=True>]\n"
     ]
    }
   ],
   "source": [
    "print(model.layers)\n"
   ]
  },
  {
   "cell_type": "code",
   "execution_count": 41,
   "metadata": {},
   "outputs": [
    {
     "name": "stdout",
     "output_type": "stream",
     "text": [
      "Layer dense_3\n",
      "Config: {'name': 'dense_3', 'trainable': True, 'dtype': {'module': 'keras', 'class_name': 'DTypePolicy', 'config': {'name': 'float32'}, 'registered_name': None}, 'units': 28, 'activation': 'relu', 'use_bias': True, 'kernel_initializer': {'module': 'keras.initializers', 'class_name': 'GlorotUniform', 'config': {'seed': None}, 'registered_name': None}, 'bias_initializer': {'module': 'keras.initializers', 'class_name': 'Zeros', 'config': {}, 'registered_name': None}, 'kernel_regularizer': None, 'bias_regularizer': None, 'kernel_constraint': None, 'bias_constraint': None}\n",
      "Weights: [array([[-0.32347536, -0.40915316, -0.33144546,  0.01329742,  0.04953649,\n",
      "        -0.32291928, -0.44851238, -0.31417042,  0.00472775,  0.04128781,\n",
      "        -0.27308172,  0.12935135, -0.06256112,  0.2403195 , -0.06586888,\n",
      "        -0.41369563, -0.07751518,  0.43338665,  0.35892174, -0.3784292 ,\n",
      "        -0.12444207, -0.07591069,  0.0529162 , -0.13319138,  0.25876513,\n",
      "         0.06787848,  0.02159443,  0.0193235 ],\n",
      "       [-0.09924705, -0.17850012,  0.370034  ,  0.34197962, -0.01711643,\n",
      "        -0.07816306, -0.22803193, -0.04874739,  0.17451766,  0.27536693,\n",
      "        -0.41320708, -0.03576344,  0.4099659 ,  0.04500168, -0.03965502,\n",
      "        -0.23642847, -0.31425095, -0.3032608 ,  0.1522831 ,  0.37885073,\n",
      "        -0.13914248,  0.18624201, -0.10943145,  0.1603845 , -0.30384454,\n",
      "         0.11316735,  0.20557836,  0.30098715],\n",
      "       [ 0.3240217 ,  0.32722268,  0.14512786,  0.16195145,  0.04251489,\n",
      "        -0.29327497, -0.33738405,  0.36121815, -0.23620111,  0.24738166,\n",
      "         0.17567067,  0.37685838, -0.13199031, -0.01951917, -0.37601897,\n",
      "         0.23827152, -0.21746552,  0.10920329, -0.37363058,  0.35552058,\n",
      "         0.15305683, -0.15355986, -0.21143192, -0.41385594, -0.26544195,\n",
      "        -0.1690055 , -0.11153454,  0.24652341],\n",
      "       [-0.10524695, -0.25537378, -0.01665169, -0.16338597, -0.2136839 ,\n",
      "         0.13890597, -0.39178216, -0.2618656 , -0.35425872,  0.3182573 ,\n",
      "        -0.26781544, -0.3060219 ,  0.40898553,  0.49848127,  0.50323373,\n",
      "         0.23957966, -0.11330379,  0.09542942,  0.02385932, -0.33309293,\n",
      "        -0.33051863,  0.45111117, -0.23853423, -0.17096068,  0.2344267 ,\n",
      "        -0.09079257,  0.17879775,  0.25281748],\n",
      "       [-0.16333179, -0.10793856,  0.3238537 ,  0.2817388 ,  0.1571957 ,\n",
      "        -0.05066156, -0.17611927, -0.20019412, -0.28808978, -0.3043567 ,\n",
      "         0.06056565, -0.11675477,  0.33620223, -0.00845472, -0.06459317,\n",
      "         0.04769953,  0.11323428, -0.03773016,  0.35760227, -0.36922643,\n",
      "        -0.16443278,  0.07429849,  0.2894034 , -0.39504308, -0.41067654,\n",
      "        -0.04320102,  0.18708   , -0.329991  ],\n",
      "       [ 0.2308305 , -0.30567393, -0.3454662 ,  0.03633312, -0.02008243,\n",
      "        -0.01468241,  0.04650893, -0.04987603, -0.21389486, -0.17969753,\n",
      "         0.4797064 , -0.00659415, -0.37387037, -0.47579527,  0.07120292,\n",
      "         0.45854554,  0.17483889, -0.5579948 ,  0.01203024,  0.37430283,\n",
      "        -0.18815924, -0.26013768, -0.31909567,  0.24034241,  0.2913058 ,\n",
      "         0.2762361 ,  0.14552262,  0.00155228],\n",
      "       [ 0.29460287, -0.08747551, -0.35287762,  0.37164858,  0.14970176,\n",
      "        -0.26532245,  0.28491834,  0.18077344, -0.3643911 , -0.27714244,\n",
      "         0.34265083, -0.37303397, -0.36435565,  0.04139303,  0.25089037,\n",
      "         0.16412906,  0.31564254,  0.09193611, -0.14376745, -0.06160882,\n",
      "        -0.2916122 ,  0.2248162 , -0.23914932, -0.1869027 , -0.08821487,\n",
      "         0.05336191, -0.16331127, -0.22374529]], dtype=float32), array([-0.00343094,  0.        ,  0.        ,  0.00026158,  0.00172886,\n",
      "        0.        , -0.00119838, -0.00950348,  0.        ,  0.        ,\n",
      "       -0.00115424,  0.        ,  0.        , -0.00790642, -0.00584362,\n",
      "       -0.01071635, -0.00347918, -0.00583673,  0.        ,  0.        ,\n",
      "        0.        , -0.00907791,  0.        ,  0.        ,  0.        ,\n",
      "       -0.00315716,  0.        ,  0.        ], dtype=float32)]\n",
      "Layer dense_4\n",
      "Config: {'name': 'dense_4', 'trainable': True, 'dtype': {'module': 'keras', 'class_name': 'DTypePolicy', 'config': {'name': 'float32'}, 'registered_name': None}, 'units': 7, 'activation': 'relu', 'use_bias': True, 'kernel_initializer': {'module': 'keras.initializers', 'class_name': 'GlorotUniform', 'config': {'seed': None}, 'registered_name': None}, 'bias_initializer': {'module': 'keras.initializers', 'class_name': 'Zeros', 'config': {}, 'registered_name': None}, 'kernel_regularizer': None, 'bias_regularizer': None, 'kernel_constraint': None, 'bias_constraint': None}\n",
      "Weights: [array([[ 0.30731496, -0.00951793, -0.21208866,  0.38315293,  0.32076985,\n",
      "        -0.32694295, -0.07618117],\n",
      "       [ 0.28292087, -0.2515778 , -0.20889643,  0.35444847, -0.14695248,\n",
      "        -0.13379806, -0.24753356],\n",
      "       [ 0.09332624, -0.08897221,  0.00702503, -0.25929612,  0.11224768,\n",
      "         0.11753145, -0.14213315],\n",
      "       [ 0.25861332, -0.29414517, -0.25186735, -0.18940334, -0.16226329,\n",
      "         0.23085584, -0.24812801],\n",
      "       [-0.16743281, -0.31527534, -0.35954934,  0.22823593, -0.38740394,\n",
      "         0.05624094,  0.35257784],\n",
      "       [ 0.35831234,  0.33822343,  0.17517993,  0.28619853,  0.33531293,\n",
      "        -0.05083737,  0.09003004],\n",
      "       [-0.15891975, -0.34272847,  0.3261396 , -0.36147112,  0.06903789,\n",
      "         0.27049464, -0.3974916 ],\n",
      "       [ 0.10775366,  0.15782334,  0.13606972, -0.35101506,  0.26893955,\n",
      "         0.23303853,  0.38016483],\n",
      "       [ 0.24886116,  0.27782968, -0.2801612 ,  0.30344573,  0.13620284,\n",
      "         0.15105465,  0.0718866 ],\n",
      "       [ 0.29040197,  0.16599408, -0.36327216,  0.32534912, -0.04547322,\n",
      "         0.2215496 , -0.37221718],\n",
      "       [-0.12530869,  0.26522562,  0.26723522, -0.2975208 , -0.1334235 ,\n",
      "         0.25490296, -0.37163725],\n",
      "       [-0.40945584, -0.05007252,  0.21335843, -0.32807714, -0.05119589,\n",
      "         0.14199337, -0.07753435],\n",
      "       [-0.01586148, -0.0600597 ,  0.04432446, -0.263796  , -0.21514626,\n",
      "         0.06025049, -0.32033455],\n",
      "       [-0.24046677, -0.2982767 ,  0.08060726,  0.28469595,  0.48301816,\n",
      "         0.06702797,  0.12779859],\n",
      "       [-0.3996579 ,  0.41765195,  0.07991151,  0.13463101,  0.2910881 ,\n",
      "        -0.11469281, -0.22863138],\n",
      "       [ 0.09797379,  0.3874798 ,  0.29753226,  0.2348102 , -0.2966412 ,\n",
      "        -0.409194  , -0.21579531],\n",
      "       [-0.29208723,  0.38375762,  0.16346383, -0.22121662, -0.02760645,\n",
      "         0.31652215, -0.11969391],\n",
      "       [-0.1446847 ,  0.29925492, -0.37352002, -0.09375516,  0.25291866,\n",
      "         0.08247127, -0.11995965],\n",
      "       [ 0.30260125,  0.1169593 , -0.00867316,  0.38554803, -0.02034676,\n",
      "         0.3947337 ,  0.25042185],\n",
      "       [ 0.32755372,  0.06976256, -0.17589356, -0.31590658, -0.2044302 ,\n",
      "        -0.06695244, -0.34340534],\n",
      "       [ 0.3181016 ,  0.05731097,  0.31429526,  0.03130281, -0.38965997,\n",
      "        -0.1543169 , -0.25193602],\n",
      "       [ 0.1101484 ,  0.1687051 ,  0.0007381 , -0.19630745,  0.4139541 ,\n",
      "         0.30424663, -0.17719826],\n",
      "       [-0.3676699 , -0.28037465,  0.0079107 ,  0.10006508, -0.3864844 ,\n",
      "        -0.308394  ,  0.03542435],\n",
      "       [-0.31132722,  0.07957381, -0.13238358,  0.01450661, -0.37913185,\n",
      "        -0.26224834, -0.27373797],\n",
      "       [ 0.12730077,  0.05153063,  0.29402503, -0.21316041,  0.41076973,\n",
      "         0.31569305, -0.30552536],\n",
      "       [-0.12518966, -0.3678667 , -0.28054032,  0.05362871,  0.05812823,\n",
      "        -0.145539  ,  0.17267337],\n",
      "       [ 0.35481116, -0.33293736, -0.25247973, -0.24027881,  0.35031757,\n",
      "         0.16454658,  0.18813702],\n",
      "       [ 0.3729625 ,  0.28019807, -0.39228627,  0.36976835, -0.18597251,\n",
      "         0.37599054,  0.40809247]], dtype=float32), array([ 0.        , -0.00631283,  0.00050797,  0.        , -0.00296087,\n",
      "        0.00151998,  0.        ], dtype=float32)]\n",
      "Layer dense_5\n",
      "Config: {'name': 'dense_5', 'trainable': True, 'dtype': {'module': 'keras', 'class_name': 'DTypePolicy', 'config': {'name': 'float32'}, 'registered_name': None}, 'units': 1, 'activation': 'linear', 'use_bias': True, 'kernel_initializer': {'module': 'keras.initializers', 'class_name': 'GlorotUniform', 'config': {'seed': None}, 'registered_name': None}, 'bias_initializer': {'module': 'keras.initializers', 'class_name': 'Zeros', 'config': {}, 'registered_name': None}, 'kernel_regularizer': None, 'bias_regularizer': None, 'kernel_constraint': None, 'bias_constraint': None}\n",
      "Weights: [array([[ 0.77056545],\n",
      "       [ 0.10610955],\n",
      "       [-0.20139416],\n",
      "       [ 0.15210897],\n",
      "       [ 0.75294155],\n",
      "       [-0.47138777],\n",
      "       [-0.6211915 ]], dtype=float32), array([-0.00236373], dtype=float32)]\n"
     ]
    }
   ],
   "source": [
    "for layer in model.layers:\n",
    "    print(f\"Layer {layer.name}\")\n",
    "    print(\"Config:\", layer.get_config())  # 구성 정보\n",
    "    print(\"Weights:\", layer.get_weights())  # 가중치와 바이어스\n"
   ]
  },
  {
   "cell_type": "code",
   "execution_count": null,
   "metadata": {},
   "outputs": [],
   "source": []
  }
 ],
 "metadata": {
  "kernelspec": {
   "display_name": "Python 3 (ipykernel)",
   "language": "python",
   "name": "python3"
  },
  "language_info": {
   "codemirror_mode": {
    "name": "ipython",
    "version": 3
   },
   "file_extension": ".py",
   "mimetype": "text/x-python",
   "name": "python",
   "nbconvert_exporter": "python",
   "pygments_lexer": "ipython3",
   "version": "3.12.7"
  }
 },
 "nbformat": 4,
 "nbformat_minor": 2
}
