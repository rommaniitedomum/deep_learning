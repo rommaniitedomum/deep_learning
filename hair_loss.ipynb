{
 "cells": [
  {
   "cell_type": "markdown",
   "metadata": {},
   "source": [
    "## 개요 ##\n",
    "\n",
    "\n",
    "- 지도 학습 분류 알고리즘 중 k-NN 사용\n",
    "- 다항 분류 딥러닝 모델을 제작\n",
    "- 오차역전파법을 이해하고 딥러닝 가중치 갱신 과정을 파악\n",
    "\n",
    "\n",
    "# 데이터 개요 ##\n",
    "\n",
    "\n",
    "- 2017년부터 2021년까지 5년 간 원형 탈모증 등 병적 탈모로 병,의원에서 진료를 받은 국민이 115만 명에 달하는 것으로 나타났다.\n",
    "- 병적 탈모는 유전이나 노화로 인한 정상 탈모와 달리, 건강 악화나 약 부작용 등으로 인한 탈모를 말한다. 특히 화병, 우울증 같이 스트레스에서 비롯된 경우가 가장 많다\n",
    "- 400명의 탈모 관련 정보\n",
    "- 머리숱, 두피압, 커피 섭취량, 스트레스 정도, 수영 여부 등등 정보가 있음.\n",
    "- 머리숱 정도 : Few, Medium, Many, A lot\n",
    "- 두피압, 스트레스 : Low, Medium, High, Very High\n",
    "- 일일 수영 여부, 머리 감기 여부 : Y, N\n",
    "- 비듬 정도 : None, Few, Many\n",
    "\n",
    "\n",
    "## 최근접이웃(KNN) ##\n",
    "\n",
    "\n",
    "- k-NN: 분류하고자 하는 데이터와 가장 가까운 k개의 데이터를 찾아 다수의 클래스쪽으로 분류하는 알고리즘.\n",
    "- k의 값에 따라 데이터 분류가 달라지기에 상황에 맞는 k값 설정이 필요.\n",
    "- 다양한 분야에 활용 가능하고 구현이 비교적 간단하여 머신러닝 초보자에게 인기 있는 알고리즘\n"
   ]
  },
  {
   "cell_type": "code",
   "execution_count": 22,
   "metadata": {},
   "outputs": [
    {
     "data": {
      "text/html": [
       "<div>\n",
       "<style scoped>\n",
       "    .dataframe tbody tr th:only-of-type {\n",
       "        vertical-align: middle;\n",
       "    }\n",
       "\n",
       "    .dataframe tbody tr th {\n",
       "        vertical-align: top;\n",
       "    }\n",
       "\n",
       "    .dataframe thead th {\n",
       "        text-align: right;\n",
       "    }\n",
       "</style>\n",
       "<table border=\"1\" class=\"dataframe\">\n",
       "  <thead>\n",
       "    <tr style=\"text-align: right;\">\n",
       "      <th></th>\n",
       "      <th>hair_loss</th>\n",
       "      <th>stay_up_late</th>\n",
       "      <th>pressure_level</th>\n",
       "      <th>coffee_consumed</th>\n",
       "      <th>brain_working_duration</th>\n",
       "      <th>stress_level</th>\n",
       "      <th>swimming</th>\n",
       "      <th>hair_washing</th>\n",
       "      <th>dandruff</th>\n",
       "    </tr>\n",
       "  </thead>\n",
       "  <tbody>\n",
       "    <tr>\n",
       "      <th>0</th>\n",
       "      <td>Few</td>\n",
       "      <td>2</td>\n",
       "      <td>Low</td>\n",
       "      <td>0</td>\n",
       "      <td>1</td>\n",
       "      <td>Low</td>\n",
       "      <td>No</td>\n",
       "      <td>Y</td>\n",
       "      <td>None</td>\n",
       "    </tr>\n",
       "    <tr>\n",
       "      <th>1</th>\n",
       "      <td>Few</td>\n",
       "      <td>0</td>\n",
       "      <td>Low</td>\n",
       "      <td>0</td>\n",
       "      <td>3</td>\n",
       "      <td>Low</td>\n",
       "      <td>No</td>\n",
       "      <td>N</td>\n",
       "      <td>None</td>\n",
       "    </tr>\n",
       "    <tr>\n",
       "      <th>2</th>\n",
       "      <td>Medium</td>\n",
       "      <td>3</td>\n",
       "      <td>Low</td>\n",
       "      <td>1</td>\n",
       "      <td>0</td>\n",
       "      <td>Low</td>\n",
       "      <td>Yes</td>\n",
       "      <td>Y</td>\n",
       "      <td>None</td>\n",
       "    </tr>\n",
       "    <tr>\n",
       "      <th>3</th>\n",
       "      <td>Few</td>\n",
       "      <td>2</td>\n",
       "      <td>Low</td>\n",
       "      <td>0</td>\n",
       "      <td>1</td>\n",
       "      <td>Low</td>\n",
       "      <td>No</td>\n",
       "      <td>N</td>\n",
       "      <td>None</td>\n",
       "    </tr>\n",
       "    <tr>\n",
       "      <th>4</th>\n",
       "      <td>Few</td>\n",
       "      <td>2</td>\n",
       "      <td>Low</td>\n",
       "      <td>0</td>\n",
       "      <td>1</td>\n",
       "      <td>Low</td>\n",
       "      <td>No</td>\n",
       "      <td>Y</td>\n",
       "      <td>None</td>\n",
       "    </tr>\n",
       "  </tbody>\n",
       "</table>\n",
       "</div>"
      ],
      "text/plain": [
       "  hair_loss  stay_up_late pressure_level  coffee_consumed  \\\n",
       "0       Few             2            Low                0   \n",
       "1       Few             0            Low                0   \n",
       "2    Medium             3            Low                1   \n",
       "3       Few             2            Low                0   \n",
       "4       Few             2            Low                0   \n",
       "\n",
       "   brain_working_duration stress_level swimming hair_washing dandruff  \n",
       "0                       1          Low       No            Y     None  \n",
       "1                       3          Low       No            N     None  \n",
       "2                       0          Low      Yes            Y     None  \n",
       "3                       1          Low       No            N     None  \n",
       "4                       1          Low       No            Y     None  "
      ]
     },
     "execution_count": 22,
     "metadata": {},
     "output_type": "execute_result"
    }
   ],
   "source": [
    "import pandas as pd\n",
    "import numpy as np\n",
    "import matplotlib.pyplot as plt\n",
    "\n",
    "# na_filter 매개변수는 결측값이 포함된 행을 제거할지 여부를 지정한다.\n",
    "# True 로 지정하면 결측값이 포함된 행이 제거되고 False 를 지정하면 결측값을 그대로 표시한다 \n",
    "\n",
    "df= pd.read_excel(\"./hair_loss.xlsx\", na_filter=False)\n",
    "\n",
    "df.head()"
   ]
  },
  {
   "cell_type": "code",
   "execution_count": 23,
   "metadata": {},
   "outputs": [
    {
     "data": {
      "text/plain": [
       "hair_loss                 0\n",
       "stay_up_late              0\n",
       "pressure_level            0\n",
       "coffee_consumed           0\n",
       "brain_working_duration    0\n",
       "stress_level              0\n",
       "swimming                  0\n",
       "hair_washing              0\n",
       "dandruff                  0\n",
       "dtype: int64"
      ]
     },
     "execution_count": 23,
     "metadata": {},
     "output_type": "execute_result"
    }
   ],
   "source": [
    "df.isnull().sum()"
   ]
  },
  {
   "cell_type": "code",
   "execution_count": 24,
   "metadata": {},
   "outputs": [
    {
     "data": {
      "text/html": [
       "<div>\n",
       "<style scoped>\n",
       "    .dataframe tbody tr th:only-of-type {\n",
       "        vertical-align: middle;\n",
       "    }\n",
       "\n",
       "    .dataframe tbody tr th {\n",
       "        vertical-align: top;\n",
       "    }\n",
       "\n",
       "    .dataframe thead th {\n",
       "        text-align: right;\n",
       "    }\n",
       "</style>\n",
       "<table border=\"1\" class=\"dataframe\">\n",
       "  <thead>\n",
       "    <tr style=\"text-align: right;\">\n",
       "      <th></th>\n",
       "      <th>stay_up_late</th>\n",
       "      <th>coffee_consumed</th>\n",
       "      <th>brain_working_duration</th>\n",
       "    </tr>\n",
       "  </thead>\n",
       "  <tbody>\n",
       "    <tr>\n",
       "      <th>count</th>\n",
       "      <td>400.000000</td>\n",
       "      <td>400.000000</td>\n",
       "      <td>400.000000</td>\n",
       "    </tr>\n",
       "    <tr>\n",
       "      <th>mean</th>\n",
       "      <td>1.910000</td>\n",
       "      <td>1.162500</td>\n",
       "      <td>3.970000</td>\n",
       "    </tr>\n",
       "    <tr>\n",
       "      <th>std</th>\n",
       "      <td>1.611954</td>\n",
       "      <td>1.978859</td>\n",
       "      <td>4.215272</td>\n",
       "    </tr>\n",
       "    <tr>\n",
       "      <th>min</th>\n",
       "      <td>0.000000</td>\n",
       "      <td>0.000000</td>\n",
       "      <td>0.000000</td>\n",
       "    </tr>\n",
       "    <tr>\n",
       "      <th>25%</th>\n",
       "      <td>1.000000</td>\n",
       "      <td>0.000000</td>\n",
       "      <td>1.000000</td>\n",
       "    </tr>\n",
       "    <tr>\n",
       "      <th>50%</th>\n",
       "      <td>2.000000</td>\n",
       "      <td>0.000000</td>\n",
       "      <td>2.000000</td>\n",
       "    </tr>\n",
       "    <tr>\n",
       "      <th>75%</th>\n",
       "      <td>3.000000</td>\n",
       "      <td>1.000000</td>\n",
       "      <td>7.000000</td>\n",
       "    </tr>\n",
       "    <tr>\n",
       "      <th>max</th>\n",
       "      <td>8.000000</td>\n",
       "      <td>10.000000</td>\n",
       "      <td>18.000000</td>\n",
       "    </tr>\n",
       "  </tbody>\n",
       "</table>\n",
       "</div>"
      ],
      "text/plain": [
       "       stay_up_late  coffee_consumed  brain_working_duration\n",
       "count    400.000000       400.000000              400.000000\n",
       "mean       1.910000         1.162500                3.970000\n",
       "std        1.611954         1.978859                4.215272\n",
       "min        0.000000         0.000000                0.000000\n",
       "25%        1.000000         0.000000                1.000000\n",
       "50%        2.000000         0.000000                2.000000\n",
       "75%        3.000000         1.000000                7.000000\n",
       "max        8.000000        10.000000               18.000000"
      ]
     },
     "execution_count": 24,
     "metadata": {},
     "output_type": "execute_result"
    }
   ],
   "source": [
    "df.describe() \n",
    "# shape 값을 적용하면 튜플됨 "
   ]
  },
  {
   "cell_type": "code",
   "execution_count": 25,
   "metadata": {},
   "outputs": [
    {
     "name": "stdout",
     "output_type": "stream",
     "text": [
      "hair_loss\n",
      "Few       169\n",
      "Medium    167\n",
      "Many       42\n",
      "A lot      22\n",
      "Name: count, dtype: int64\n",
      "pressure_level\n",
      "Low          275\n",
      "Medium        57\n",
      "High          45\n",
      "Very High     23\n",
      "Name: count, dtype: int64\n",
      "stress_level\n",
      "Low          261\n",
      "Medium        56\n",
      "High          45\n",
      "Very High     38\n",
      "Name: count, dtype: int64\n",
      "swimming\n",
      "No     307\n",
      "Yes     93\n",
      "Name: count, dtype: int64\n",
      "hair_washing\n",
      "N    209\n",
      "Y    191\n",
      "Name: count, dtype: int64\n",
      "dandruff\n",
      "None    289\n",
      "Few      76\n",
      "Many     35\n",
      "Name: count, dtype: int64\n"
     ]
    }
   ],
   "source": [
    "# 각 컬럼별 데이터 개수를 확인\n",
    "# df.columns\n",
    "\n",
    "print(df['hair_loss'].value_counts())\n",
    "# print(df[\"stay_up_late\"].value_counts())\n",
    "print(df[\"pressure_level\"].value_counts())\n",
    "# print(df[\"coffee_consumed\"].value_counts())\n",
    "# print(df[\"brain_working_duration\"].value_counts())\n",
    "print(df[\"stress_level\"].value_counts())\n",
    "print(df[\"swimming\"].value_counts())\n",
    "print(df[\"hair_washing\"].value_counts())\n",
    "print(df[\"dandruff\"].value_counts())"
   ]
  },
  {
   "cell_type": "code",
   "execution_count": 26,
   "metadata": {},
   "outputs": [
    {
     "name": "stderr",
     "output_type": "stream",
     "text": [
      "C:\\Users\\3호실-09\\AppData\\Local\\Temp\\ipykernel_16672\\2034763613.py:8: FutureWarning: Downcasting behavior in `replace` is deprecated and will be removed in a future version. To retain the old behavior, explicitly call `result.infer_objects(copy=False)`. To opt-in to the future behavior, set `pd.set_option('future.no_silent_downcasting', True)`\n",
      "  df[\"dandruff\"] = df[\"dandruff\"].replace({\"None\": 0, \"Few\": 1, \"Many\": 2})\n",
      "C:\\Users\\3호실-09\\AppData\\Local\\Temp\\ipykernel_16672\\2034763613.py:9: FutureWarning: Downcasting behavior in `replace` is deprecated and will be removed in a future version. To retain the old behavior, explicitly call `result.infer_objects(copy=False)`. To opt-in to the future behavior, set `pd.set_option('future.no_silent_downcasting', True)`\n",
      "  df[\"hair_loss\"] = df[\"hair_loss\"].replace(\n",
      "C:\\Users\\3호실-09\\AppData\\Local\\Temp\\ipykernel_16672\\2034763613.py:12: FutureWarning: Downcasting behavior in `replace` is deprecated and will be removed in a future version. To retain the old behavior, explicitly call `result.infer_objects(copy=False)`. To opt-in to the future behavior, set `pd.set_option('future.no_silent_downcasting', True)`\n",
      "  df[\"swimming\"] = df[\"swimming\"].replace({\"Yes\": 1, \"No\": 0})\n",
      "C:\\Users\\3호실-09\\AppData\\Local\\Temp\\ipykernel_16672\\2034763613.py:13: FutureWarning: Downcasting behavior in `replace` is deprecated and will be removed in a future version. To retain the old behavior, explicitly call `result.infer_objects(copy=False)`. To opt-in to the future behavior, set `pd.set_option('future.no_silent_downcasting', True)`\n",
      "  df[\"hair_washing\"] = df[\"hair_washing\"].replace({\"Y\": 1, \"N\": 0})\n",
      "C:\\Users\\3호실-09\\AppData\\Local\\Temp\\ipykernel_16672\\2034763613.py:17: FutureWarning: Downcasting behavior in `replace` is deprecated and will be removed in a future version. To retain the old behavior, explicitly call `result.infer_objects(copy=False)`. To opt-in to the future behavior, set `pd.set_option('future.no_silent_downcasting', True)`\n",
      "  df = df.replace({\"Low\": 0, \"Medium\": 1, \"High\": 2, \"Very High\": 3})\n"
     ]
    },
    {
     "data": {
      "text/html": [
       "<div>\n",
       "<style scoped>\n",
       "    .dataframe tbody tr th:only-of-type {\n",
       "        vertical-align: middle;\n",
       "    }\n",
       "\n",
       "    .dataframe tbody tr th {\n",
       "        vertical-align: top;\n",
       "    }\n",
       "\n",
       "    .dataframe thead th {\n",
       "        text-align: right;\n",
       "    }\n",
       "</style>\n",
       "<table border=\"1\" class=\"dataframe\">\n",
       "  <thead>\n",
       "    <tr style=\"text-align: right;\">\n",
       "      <th></th>\n",
       "      <th>hair_loss</th>\n",
       "      <th>stay_up_late</th>\n",
       "      <th>pressure_level</th>\n",
       "      <th>coffee_consumed</th>\n",
       "      <th>brain_working_duration</th>\n",
       "      <th>stress_level</th>\n",
       "      <th>swimming</th>\n",
       "      <th>hair_washing</th>\n",
       "      <th>dandruff</th>\n",
       "    </tr>\n",
       "  </thead>\n",
       "  <tbody>\n",
       "    <tr>\n",
       "      <th>0</th>\n",
       "      <td>0</td>\n",
       "      <td>2</td>\n",
       "      <td>0</td>\n",
       "      <td>0</td>\n",
       "      <td>1</td>\n",
       "      <td>0</td>\n",
       "      <td>0</td>\n",
       "      <td>1</td>\n",
       "      <td>0</td>\n",
       "    </tr>\n",
       "    <tr>\n",
       "      <th>1</th>\n",
       "      <td>0</td>\n",
       "      <td>0</td>\n",
       "      <td>0</td>\n",
       "      <td>0</td>\n",
       "      <td>3</td>\n",
       "      <td>0</td>\n",
       "      <td>0</td>\n",
       "      <td>0</td>\n",
       "      <td>0</td>\n",
       "    </tr>\n",
       "    <tr>\n",
       "      <th>2</th>\n",
       "      <td>1</td>\n",
       "      <td>3</td>\n",
       "      <td>0</td>\n",
       "      <td>1</td>\n",
       "      <td>0</td>\n",
       "      <td>0</td>\n",
       "      <td>1</td>\n",
       "      <td>1</td>\n",
       "      <td>0</td>\n",
       "    </tr>\n",
       "    <tr>\n",
       "      <th>3</th>\n",
       "      <td>0</td>\n",
       "      <td>2</td>\n",
       "      <td>0</td>\n",
       "      <td>0</td>\n",
       "      <td>1</td>\n",
       "      <td>0</td>\n",
       "      <td>0</td>\n",
       "      <td>0</td>\n",
       "      <td>0</td>\n",
       "    </tr>\n",
       "    <tr>\n",
       "      <th>4</th>\n",
       "      <td>0</td>\n",
       "      <td>2</td>\n",
       "      <td>0</td>\n",
       "      <td>0</td>\n",
       "      <td>1</td>\n",
       "      <td>0</td>\n",
       "      <td>0</td>\n",
       "      <td>1</td>\n",
       "      <td>0</td>\n",
       "    </tr>\n",
       "  </tbody>\n",
       "</table>\n",
       "</div>"
      ],
      "text/plain": [
       "   hair_loss  stay_up_late  pressure_level  coffee_consumed  \\\n",
       "0          0             2               0                0   \n",
       "1          0             0               0                0   \n",
       "2          1             3               0                1   \n",
       "3          0             2               0                0   \n",
       "4          0             2               0                0   \n",
       "\n",
       "   brain_working_duration  stress_level  swimming  hair_washing  dandruff  \n",
       "0                       1             0         0             1         0  \n",
       "1                       3             0         0             0         0  \n",
       "2                       0             0         1             1         0  \n",
       "3                       1             0         0             0         0  \n",
       "4                       1             0         0             1         0  "
      ]
     },
     "execution_count": 26,
     "metadata": {},
     "output_type": "execute_result"
    }
   ],
   "source": [
    "# 문자로 이루어진 데이터를 숫자로 라벨링한다.\n",
    "# replace() 함수로 각 문자를 0, 1, 2의 숫자로 대체한다.\n",
    "# 비듬 정도, 머리숱, 수영 여부, 머리 감기 여부 : 숫자 라벨링\n",
    "# 남은 두피압과 스트레스 정도는 한 번에 라벨링\n",
    "\n",
    "\n",
    "# Replace values without inplace=True\n",
    "df[\"dandruff\"] = df[\"dandruff\"].replace({\"None\": 0, \"Few\": 1, \"Many\": 2})\n",
    "df[\"hair_loss\"] = df[\"hair_loss\"].replace(\n",
    "    {\"Few\": 0, \"Medium\": 1, \"Many\": 2, \"A lot\": 3}\n",
    ")\n",
    "df[\"swimming\"] = df[\"swimming\"].replace({\"Yes\": 1, \"No\": 0})\n",
    "df[\"hair_washing\"] = df[\"hair_washing\"].replace({\"Y\": 1, \"N\": 0})\n",
    "\n",
    "\n",
    "# Replace general values for the entire DataFrame\n",
    "df = df.replace({\"Low\": 0, \"Medium\": 1, \"High\": 2, \"Very High\": 3})\n",
    "\n",
    "\n",
    "# Check the first few rows\n",
    "df.head()\n"
   ]
  },
  {
   "cell_type": "code",
   "execution_count": 27,
   "metadata": {},
   "outputs": [
    {
     "name": "stdout",
     "output_type": "stream",
     "text": [
      "(400, 8) (400,)\n"
     ]
    }
   ],
   "source": [
    "# 입력 데이터와 테겟 데이터 분리 \n",
    "# 머리 숱(hair_loss) 타겟(y), 나머지 데이터는 입력 데이터(X)에 담는다 \n",
    "X = df.drop('hair_loss', axis=1)\n",
    "y = df['hair_loss']\n",
    "\n",
    "X = X.to_numpy()\n",
    "y= y.to_numpy()\n",
    "\n",
    "print(X.shape, y.shape)"
   ]
  },
  {
   "cell_type": "code",
   "execution_count": 28,
   "metadata": {},
   "outputs": [
    {
     "name": "stdout",
     "output_type": "stream",
     "text": [
      "(380, 8) (20, 8) (380,) (20,)\n"
     ]
    }
   ],
   "source": [
    "# 훈련 데이터와 테스트 데이터 분리 \n",
    "# 데이터 양이 적어서 테스트 데이터는 5% 만 지정 \n",
    "from sklearn.model_selection import train_test_split\n",
    "\n",
    "X_train, X_test, y_train, y_test = train_test_split(X, y, test_size=0.05, random_state=42)\n",
    "\n",
    "print(X_train.shape, X_test.shape, y_train.shape, y_test.shape)"
   ]
  },
  {
   "cell_type": "code",
   "execution_count": 29,
   "metadata": {},
   "outputs": [
    {
     "data": {
      "text/plain": [
       "0.9447368421052632"
      ]
     },
     "execution_count": 29,
     "metadata": {},
     "output_type": "execute_result"
    }
   ],
   "source": [
    "# K 최근접 알고리즘으로 훈련 \n",
    "# 최근접 이웃점(k)은 3개로 지정 \n",
    "\n",
    "from sklearn.neighbors import KNeighborsClassifier\n",
    "\n",
    "knn = KNeighborsClassifier(n_neighbors=3)\n",
    "\n",
    "# 모델 훈련 \n",
    "knn.fit(X_train, y_train)\n",
    "\n",
    "# 모델 평가 \n",
    "knn.score(X_train,y_train)"
   ]
  },
  {
   "cell_type": "code",
   "execution_count": 30,
   "metadata": {},
   "outputs": [
    {
     "data": {
      "text/plain": [
       "0.85"
      ]
     },
     "execution_count": 30,
     "metadata": {},
     "output_type": "execute_result"
    }
   ],
   "source": [
    "# 테스트 데이터를 이용한 평가 \n",
    "knn.score(X_test,y_test)"
   ]
  },
  {
   "cell_type": "code",
   "execution_count": 31,
   "metadata": {},
   "outputs": [
    {
     "data": {
      "image/png": "[encoded data removed]",
      "text/plain": [
       "<Figure size 640x480 with 1 Axes>"
      ]
     },
     "metadata": {},
     "output_type": "display_data"
    }
   ],
   "source": [
    "# 평가 지수를 시각화 \n",
    "\n",
    "# k값에 따라 어떻게 정확도가 바뀌는지 확인\n",
    "\n",
    "\n",
    "# k_list 변수에 1~50 저장\n",
    "# 훈련 데이터, 테스트 데이터의 정확도를 저장하기 위해 acc_train, acc_test 생성\n",
    "\n",
    "\n",
    "# 반복문을 이용해 k-NN모델 선언\n",
    "# 훈련 데이터로 학습 후 훈련 데이터 정확도와 테스트 데이터 정확도를 각각 저장함\n",
    "\n",
    "\n",
    "k_list = range(1, 50)\n",
    "acc_train = []\n",
    "acc_test = []\n",
    "for k in k_list:\n",
    "    classifier = KNeighborsClassifier(n_neighbors=k)\n",
    "    classifier.fit(X_train, y_train)\n",
    "    acc_train.append(classifier.score(X_train, y_train))\n",
    "    acc_test.append(classifier.score(X_test, y_test))\n",
    "\n",
    "\n",
    "plt.plot(k_list, acc_train, label=\"train\")\n",
    "plt.plot(k_list, acc_test, label=\"test\")\n",
    "plt.xlabel(\"k\")\n",
    "plt.ylabel(\"Accuracy\")\n",
    "plt.title(\"Hair Loss Classifier Accuracy\")\n",
    "plt.legend()\n",
    "plt.show()\n",
    "\n",
    "# 이웃점이 많아질수록 정확도가 낮아진다. \n",
    "# 3개의 지점의 정확도는 약 80% 정도로 평가된다. "
   ]
  },
  {
   "cell_type": "markdown",
   "metadata": {},
   "source": [
    "## 다항 분류 딥러닝 모델 ##\n",
    "- k-NN은 예상보다 높지 않은 정확도가 나왔으므로 다항 분류 딥러닝 모델로 학습.\n",
    "- 탈모 정도를 네 가지로 나누어 벡터값을 담는다\n",
    "- 원-핫 인코딩을 해 주어 네 가지 벡터값을 담을 수 있는 리스트로 Y_data를 변환\n",
    "- 데이터 개수가 많을 때 batch_size가 작으면 학습 시간이 매우 길어진다\n"
   ]
  },
  {
   "cell_type": "code",
   "execution_count": 32,
   "metadata": {},
   "outputs": [],
   "source": [
    "# 딥 러닝 훈련을 위한 라이브러리 설치 \n",
    "import tensorflow as tf \n",
    "from tensorflow.keras.models import Sequential\n",
    "from tensorflow.keras.layers import Dense"
   ]
  },
  {
   "cell_type": "code",
   "execution_count": 33,
   "metadata": {},
   "outputs": [
    {
     "data": {
      "text/plain": [
       "array([1., 0., 0., 0.])"
      ]
     },
     "execution_count": 33,
     "metadata": {},
     "output_type": "execute_result"
    }
   ],
   "source": [
    "# 원-핫 인코딩\n",
    "# to_categorical: https://wikidocs.net/193749\n",
    "\n",
    "from keras.utils import to_categorical\n",
    "\n",
    "y_encoded = to_categorical(y)\n",
    "y = np.asarray(y_encoded)\n",
    "y[0]"
   ]
  },
  {
   "cell_type": "code",
   "execution_count": 34,
   "metadata": {},
   "outputs": [
    {
     "name": "stdout",
     "output_type": "stream",
     "text": [
      "(380, 8) (20, 8) (380, 4) (20, 4)\n"
     ]
    }
   ],
   "source": [
    "# 입력층 1, 은닉층 2개 출력층 1로 딥러닝 모델 구성 \n",
    "\n",
    "X_train, X_test, y_train, y_test = train_test_split(\n",
    "    X, y, test_size=0.05, random_state=42\n",
    ")\n",
    "\n",
    "print(X_train.shape, X_test.shape, y_train.shape, y_test.shape)\n"
   ]
  },
  {
   "cell_type": "code",
   "execution_count": 35,
   "metadata": {},
   "outputs": [
    {
     "name": "stderr",
     "output_type": "stream",
     "text": [
      "C:\\Anaconda\\Lib\\site-packages\\keras\\src\\layers\\core\\dense.py:87: UserWarning: Do not pass an `input_shape`/`input_dim` argument to a layer. When using Sequential models, prefer using an `Input(shape)` object as the first layer in the model instead.\n",
      "  super().__init__(activity_regularizer=activity_regularizer, **kwargs)\n"
     ]
    },
    {
     "data": {
      "text/html": [
       "<pre style=\"white-space:pre;overflow-x:auto;line-height:normal;font-family:Menlo,'DejaVu Sans Mono',consolas,'Courier New',monospace\"><span style=\"font-weight: bold\">Model: \"sequential\"</span>\n",
       "</pre>\n"
      ],
      "text/plain": [
       "\u001b[1mModel: \"sequential\"\u001b[0m\n"
      ]
     },
     "metadata": {},
     "output_type": "display_data"
    },
    {
     "data": {
      "text/html": [
       "<pre style=\"white-space:pre;overflow-x:auto;line-height:normal;font-family:Menlo,'DejaVu Sans Mono',consolas,'Courier New',monospace\">┏━━━━━━━━━━━━━━━━━━━━━━━━━━━━━━━━━━━━━━┳━━━━━━━━━━━━━━━━━━━━━━━━━━━━━┳━━━━━━━━━━━━━━━━━┓\n",
       "┃<span style=\"font-weight: bold\"> Layer (type)                         </span>┃<span style=\"font-weight: bold\"> Output Shape                </span>┃<span style=\"font-weight: bold\">         Param # </span>┃\n",
       "┡━━━━━━━━━━━━━━━━━━━━━━━━━━━━━━━━━━━━━━╇━━━━━━━━━━━━━━━━━━━━━━━━━━━━━╇━━━━━━━━━━━━━━━━━┩\n",
       "│ dense (<span style=\"color: #0087ff; text-decoration-color: #0087ff\">Dense</span>)                        │ (<span style=\"color: #00d7ff; text-decoration-color: #00d7ff\">None</span>, <span style=\"color: #00af00; text-decoration-color: #00af00\">72</span>)                  │             <span style=\"color: #00af00; text-decoration-color: #00af00\">648</span> │\n",
       "├──────────────────────────────────────┼─────────────────────────────┼─────────────────┤\n",
       "│ dense_1 (<span style=\"color: #0087ff; text-decoration-color: #0087ff\">Dense</span>)                      │ (<span style=\"color: #00d7ff; text-decoration-color: #00d7ff\">None</span>, <span style=\"color: #00af00; text-decoration-color: #00af00\">36</span>)                  │           <span style=\"color: #00af00; text-decoration-color: #00af00\">2,628</span> │\n",
       "├──────────────────────────────────────┼─────────────────────────────┼─────────────────┤\n",
       "│ dense_2 (<span style=\"color: #0087ff; text-decoration-color: #0087ff\">Dense</span>)                      │ (<span style=\"color: #00d7ff; text-decoration-color: #00d7ff\">None</span>, <span style=\"color: #00af00; text-decoration-color: #00af00\">18</span>)                  │             <span style=\"color: #00af00; text-decoration-color: #00af00\">666</span> │\n",
       "├──────────────────────────────────────┼─────────────────────────────┼─────────────────┤\n",
       "│ dense_3 (<span style=\"color: #0087ff; text-decoration-color: #0087ff\">Dense</span>)                      │ (<span style=\"color: #00d7ff; text-decoration-color: #00d7ff\">None</span>, <span style=\"color: #00af00; text-decoration-color: #00af00\">4</span>)                   │              <span style=\"color: #00af00; text-decoration-color: #00af00\">76</span> │\n",
       "└──────────────────────────────────────┴─────────────────────────────┴─────────────────┘\n",
       "</pre>\n"
      ],
      "text/plain": [
       "┏━━━━━━━━━━━━━━━━━━━━━━━━━━━━━━━━━━━━━━┳━━━━━━━━━━━━━━━━━━━━━━━━━━━━━┳━━━━━━━━━━━━━━━━━┓\n",
       "┃\u001b[1m \u001b[0m\u001b[1mLayer (type)                        \u001b[0m\u001b[1m \u001b[0m┃\u001b[1m \u001b[0m\u001b[1mOutput Shape               \u001b[0m\u001b[1m \u001b[0m┃\u001b[1m \u001b[0m\u001b[1m        Param #\u001b[0m\u001b[1m \u001b[0m┃\n",
       "┡━━━━━━━━━━━━━━━━━━━━━━━━━━━━━━━━━━━━━━╇━━━━━━━━━━━━━━━━━━━━━━━━━━━━━╇━━━━━━━━━━━━━━━━━┩\n",
       "│ dense (\u001b[38;5;33mDense\u001b[0m)                        │ (\u001b[38;5;45mNone\u001b[0m, \u001b[38;5;34m72\u001b[0m)                  │             \u001b[38;5;34m648\u001b[0m │\n",
       "├──────────────────────────────────────┼─────────────────────────────┼─────────────────┤\n",
       "│ dense_1 (\u001b[38;5;33mDense\u001b[0m)                      │ (\u001b[38;5;45mNone\u001b[0m, \u001b[38;5;34m36\u001b[0m)                  │           \u001b[38;5;34m2,628\u001b[0m │\n",
       "├──────────────────────────────────────┼─────────────────────────────┼─────────────────┤\n",
       "│ dense_2 (\u001b[38;5;33mDense\u001b[0m)                      │ (\u001b[38;5;45mNone\u001b[0m, \u001b[38;5;34m18\u001b[0m)                  │             \u001b[38;5;34m666\u001b[0m │\n",
       "├──────────────────────────────────────┼─────────────────────────────┼─────────────────┤\n",
       "│ dense_3 (\u001b[38;5;33mDense\u001b[0m)                      │ (\u001b[38;5;45mNone\u001b[0m, \u001b[38;5;34m4\u001b[0m)                   │              \u001b[38;5;34m76\u001b[0m │\n",
       "└──────────────────────────────────────┴─────────────────────────────┴─────────────────┘\n"
      ]
     },
     "metadata": {},
     "output_type": "display_data"
    },
    {
     "data": {
      "text/html": [
       "<pre style=\"white-space:pre;overflow-x:auto;line-height:normal;font-family:Menlo,'DejaVu Sans Mono',consolas,'Courier New',monospace\"><span style=\"font-weight: bold\"> Total params: </span><span style=\"color: #00af00; text-decoration-color: #00af00\">4,018</span> (15.70 KB)\n",
       "</pre>\n"
      ],
      "text/plain": [
       "\u001b[1m Total params: \u001b[0m\u001b[38;5;34m4,018\u001b[0m (15.70 KB)\n"
      ]
     },
     "metadata": {},
     "output_type": "display_data"
    },
    {
     "data": {
      "text/html": [
       "<pre style=\"white-space:pre;overflow-x:auto;line-height:normal;font-family:Menlo,'DejaVu Sans Mono',consolas,'Courier New',monospace\"><span style=\"font-weight: bold\"> Trainable params: </span><span style=\"color: #00af00; text-decoration-color: #00af00\">4,018</span> (15.70 KB)\n",
       "</pre>\n"
      ],
      "text/plain": [
       "\u001b[1m Trainable params: \u001b[0m\u001b[38;5;34m4,018\u001b[0m (15.70 KB)\n"
      ]
     },
     "metadata": {},
     "output_type": "display_data"
    },
    {
     "data": {
      "text/html": [
       "<pre style=\"white-space:pre;overflow-x:auto;line-height:normal;font-family:Menlo,'DejaVu Sans Mono',consolas,'Courier New',monospace\"><span style=\"font-weight: bold\"> Non-trainable params: </span><span style=\"color: #00af00; text-decoration-color: #00af00\">0</span> (0.00 B)\n",
       "</pre>\n"
      ],
      "text/plain": [
       "\u001b[1m Non-trainable params: \u001b[0m\u001b[38;5;34m0\u001b[0m (0.00 B)\n"
      ]
     },
     "metadata": {},
     "output_type": "display_data"
    }
   ],
   "source": [
    "model = Sequential()\n",
    "model.add(Dense(72, input_dim=8, activation='relu'))\n",
    "model.add(Dense(36, activation='relu'))\n",
    "model.add(Dense(18, activation='relu'))\n",
    "model.add(Dense(4, activation='softmax'))  # 탈모 정도 카테고리가 4개로 다항이기 떄문에 softmax \n",
    "\n",
    "model.summary()"
   ]
  },
  {
   "cell_type": "code",
   "execution_count": 36,
   "metadata": {},
   "outputs": [],
   "source": [
    "# 손실률과 정확도 측정 \n",
    "model.compile(loss='categorical_crossentropy', optimizer='adam', metrics=['accuracy'])"
   ]
  },
  {
   "cell_type": "code",
   "execution_count": 37,
   "metadata": {},
   "outputs": [
    {
     "name": "stdout",
     "output_type": "stream",
     "text": [
      "Epoch 1/150\n",
      "\u001b[1m33/33\u001b[0m \u001b[32m━━━━━━━━━━━━━━━━━━━━\u001b[0m\u001b[37m\u001b[0m \u001b[1m2s\u001b[0m 11ms/step - accuracy: 0.2901 - loss: 1.4178 - val_accuracy: 0.4386 - val_loss: 1.2605\n",
      "Epoch 2/150\n",
      "\u001b[1m33/33\u001b[0m \u001b[32m━━━━━━━━━━━━━━━━━━━━\u001b[0m\u001b[37m\u001b[0m \u001b[1m0s\u001b[0m 4ms/step - accuracy: 0.4318 - loss: 1.2595 - val_accuracy: 0.6316 - val_loss: 1.1415\n",
      "Epoch 3/150\n",
      "\u001b[1m33/33\u001b[0m \u001b[32m━━━━━━━━━━━━━━━━━━━━\u001b[0m\u001b[37m\u001b[0m \u001b[1m0s\u001b[0m 6ms/step - accuracy: 0.6173 - loss: 1.1147 - val_accuracy: 0.7368 - val_loss: 0.9668\n",
      "Epoch 4/150\n",
      "\u001b[1m33/33\u001b[0m \u001b[32m━━━━━━━━━━━━━━━━━━━━\u001b[0m\u001b[37m\u001b[0m \u001b[1m0s\u001b[0m 4ms/step - accuracy: 0.6679 - loss: 0.9507 - val_accuracy: 0.7895 - val_loss: 0.8140\n",
      "Epoch 5/150\n",
      "\u001b[1m33/33\u001b[0m \u001b[32m━━━━━━━━━━━━━━━━━━━━\u001b[0m\u001b[37m\u001b[0m \u001b[1m0s\u001b[0m 4ms/step - accuracy: 0.7133 - loss: 0.8208 - val_accuracy: 0.7895 - val_loss: 0.6849\n",
      "Epoch 6/150\n",
      "\u001b[1m33/33\u001b[0m \u001b[32m━━━━━━━━━━━━━━━━━━━━\u001b[0m\u001b[37m\u001b[0m \u001b[1m0s\u001b[0m 4ms/step - accuracy: 0.7819 - loss: 0.6827 - val_accuracy: 0.8772 - val_loss: 0.5474\n",
      "Epoch 7/150\n",
      "\u001b[1m33/33\u001b[0m \u001b[32m━━━━━━━━━━━━━━━━━━━━\u001b[0m\u001b[37m\u001b[0m \u001b[1m0s\u001b[0m 4ms/step - accuracy: 0.7646 - loss: 0.6342 - val_accuracy: 0.8421 - val_loss: 0.4876\n",
      "Epoch 8/150\n",
      "\u001b[1m33/33\u001b[0m \u001b[32m━━━━━━━━━━━━━━━━━━━━\u001b[0m\u001b[37m\u001b[0m \u001b[1m0s\u001b[0m 4ms/step - accuracy: 0.8348 - loss: 0.4763 - val_accuracy: 0.8421 - val_loss: 0.4270\n",
      "Epoch 9/150\n",
      "\u001b[1m33/33\u001b[0m \u001b[32m━━━━━━━━━━━━━━━━━━━━\u001b[0m\u001b[37m\u001b[0m \u001b[1m0s\u001b[0m 5ms/step - accuracy: 0.8236 - loss: 0.4562 - val_accuracy: 0.8421 - val_loss: 0.4290\n",
      "Epoch 10/150\n",
      "\u001b[1m33/33\u001b[0m \u001b[32m━━━━━━━━━━━━━━━━━━━━\u001b[0m\u001b[37m\u001b[0m \u001b[1m0s\u001b[0m 10ms/step - accuracy: 0.8438 - loss: 0.4221 - val_accuracy: 0.8596 - val_loss: 0.3974\n",
      "Epoch 11/150\n",
      "\u001b[1m33/33\u001b[0m \u001b[32m━━━━━━━━━━━━━━━━━━━━\u001b[0m\u001b[37m\u001b[0m \u001b[1m0s\u001b[0m 4ms/step - accuracy: 0.8691 - loss: 0.3938 - val_accuracy: 0.8596 - val_loss: 0.3857\n",
      "Epoch 12/150\n",
      "\u001b[1m33/33\u001b[0m \u001b[32m━━━━━━━━━━━━━━━━━━━━\u001b[0m\u001b[37m\u001b[0m \u001b[1m0s\u001b[0m 4ms/step - accuracy: 0.8380 - loss: 0.4175 - val_accuracy: 0.8246 - val_loss: 0.3967\n",
      "Epoch 13/150\n",
      "\u001b[1m33/33\u001b[0m \u001b[32m━━━━━━━━━━━━━━━━━━━━\u001b[0m\u001b[37m\u001b[0m \u001b[1m0s\u001b[0m 4ms/step - accuracy: 0.8499 - loss: 0.3981 - val_accuracy: 0.8421 - val_loss: 0.3517\n",
      "Epoch 14/150\n",
      "\u001b[1m33/33\u001b[0m \u001b[32m━━━━━━━━━━━━━━━━━━━━\u001b[0m\u001b[37m\u001b[0m \u001b[1m0s\u001b[0m 4ms/step - accuracy: 0.8459 - loss: 0.3729 - val_accuracy: 0.8246 - val_loss: 0.3493\n",
      "Epoch 15/150\n",
      "\u001b[1m33/33\u001b[0m \u001b[32m━━━━━━━━━━━━━━━━━━━━\u001b[0m\u001b[37m\u001b[0m \u001b[1m0s\u001b[0m 5ms/step - accuracy: 0.8627 - loss: 0.3417 - val_accuracy: 0.8246 - val_loss: 0.3294\n",
      "Epoch 16/150\n",
      "\u001b[1m33/33\u001b[0m \u001b[32m━━━━━━━━━━━━━━━━━━━━\u001b[0m\u001b[37m\u001b[0m \u001b[1m0s\u001b[0m 4ms/step - accuracy: 0.8548 - loss: 0.3778 - val_accuracy: 0.8947 - val_loss: 0.3273\n",
      "Epoch 17/150\n",
      "\u001b[1m33/33\u001b[0m \u001b[32m━━━━━━━━━━━━━━━━━━━━\u001b[0m\u001b[37m\u001b[0m \u001b[1m0s\u001b[0m 4ms/step - accuracy: 0.8467 - loss: 0.4161 - val_accuracy: 0.8421 - val_loss: 0.3397\n",
      "Epoch 18/150\n",
      "\u001b[1m33/33\u001b[0m \u001b[32m━━━━━━━━━━━━━━━━━━━━\u001b[0m\u001b[37m\u001b[0m \u001b[1m0s\u001b[0m 4ms/step - accuracy: 0.8696 - loss: 0.3592 - val_accuracy: 0.8772 - val_loss: 0.3073\n",
      "Epoch 19/150\n",
      "\u001b[1m33/33\u001b[0m \u001b[32m━━━━━━━━━━━━━━━━━━━━\u001b[0m\u001b[37m\u001b[0m \u001b[1m0s\u001b[0m 4ms/step - accuracy: 0.8557 - loss: 0.3506 - val_accuracy: 0.8421 - val_loss: 0.3032\n",
      "Epoch 20/150\n",
      "\u001b[1m33/33\u001b[0m \u001b[32m━━━━━━━━━━━━━━━━━━━━\u001b[0m\u001b[37m\u001b[0m \u001b[1m0s\u001b[0m 4ms/step - accuracy: 0.8871 - loss: 0.3044 - val_accuracy: 0.8070 - val_loss: 0.3224\n",
      "Epoch 21/150\n",
      "\u001b[1m33/33\u001b[0m \u001b[32m━━━━━━━━━━━━━━━━━━━━\u001b[0m\u001b[37m\u001b[0m \u001b[1m0s\u001b[0m 4ms/step - accuracy: 0.8990 - loss: 0.2816 - val_accuracy: 0.8421 - val_loss: 0.3199\n",
      "Epoch 22/150\n",
      "\u001b[1m33/33\u001b[0m \u001b[32m━━━━━━━━━━━━━━━━━━━━\u001b[0m\u001b[37m\u001b[0m \u001b[1m0s\u001b[0m 4ms/step - accuracy: 0.8712 - loss: 0.3021 - val_accuracy: 0.8070 - val_loss: 0.3161\n",
      "Epoch 23/150\n",
      "\u001b[1m33/33\u001b[0m \u001b[32m━━━━━━━━━━━━━━━━━━━━\u001b[0m\u001b[37m\u001b[0m \u001b[1m0s\u001b[0m 4ms/step - accuracy: 0.8476 - loss: 0.3206 - val_accuracy: 0.8772 - val_loss: 0.2919\n",
      "Epoch 24/150\n",
      "\u001b[1m33/33\u001b[0m \u001b[32m━━━━━━━━━━━━━━━━━━━━\u001b[0m\u001b[37m\u001b[0m \u001b[1m0s\u001b[0m 5ms/step - accuracy: 0.9137 - loss: 0.2685 - val_accuracy: 0.8772 - val_loss: 0.2732\n",
      "Epoch 25/150\n",
      "\u001b[1m33/33\u001b[0m \u001b[32m━━━━━━━━━━━━━━━━━━━━\u001b[0m\u001b[37m\u001b[0m \u001b[1m0s\u001b[0m 4ms/step - accuracy: 0.8992 - loss: 0.2349 - val_accuracy: 0.8596 - val_loss: 0.2875\n",
      "Epoch 26/150\n",
      "\u001b[1m33/33\u001b[0m \u001b[32m━━━━━━━━━━━━━━━━━━━━\u001b[0m\u001b[37m\u001b[0m \u001b[1m0s\u001b[0m 4ms/step - accuracy: 0.9062 - loss: 0.2772 - val_accuracy: 0.8772 - val_loss: 0.2674\n",
      "Epoch 27/150\n",
      "\u001b[1m33/33\u001b[0m \u001b[32m━━━━━━━━━━━━━━━━━━━━\u001b[0m\u001b[37m\u001b[0m \u001b[1m0s\u001b[0m 5ms/step - accuracy: 0.8832 - loss: 0.2703 - val_accuracy: 0.8596 - val_loss: 0.2828\n",
      "Epoch 28/150\n",
      "\u001b[1m33/33\u001b[0m \u001b[32m━━━━━━━━━━━━━━━━━━━━\u001b[0m\u001b[37m\u001b[0m \u001b[1m0s\u001b[0m 4ms/step - accuracy: 0.8846 - loss: 0.2604 - val_accuracy: 0.8070 - val_loss: 0.3067\n",
      "Epoch 29/150\n",
      "\u001b[1m33/33\u001b[0m \u001b[32m━━━━━━━━━━━━━━━━━━━━\u001b[0m\u001b[37m\u001b[0m \u001b[1m0s\u001b[0m 4ms/step - accuracy: 0.9279 - loss: 0.2580 - val_accuracy: 0.8246 - val_loss: 0.3023\n",
      "Epoch 30/150\n",
      "\u001b[1m33/33\u001b[0m \u001b[32m━━━━━━━━━━━━━━━━━━━━\u001b[0m\u001b[37m\u001b[0m \u001b[1m0s\u001b[0m 4ms/step - accuracy: 0.8903 - loss: 0.2655 - val_accuracy: 0.8772 - val_loss: 0.2537\n",
      "Epoch 31/150\n",
      "\u001b[1m33/33\u001b[0m \u001b[32m━━━━━━━━━━━━━━━━━━━━\u001b[0m\u001b[37m\u001b[0m \u001b[1m0s\u001b[0m 4ms/step - accuracy: 0.8613 - loss: 0.2778 - val_accuracy: 0.8596 - val_loss: 0.2729\n",
      "Epoch 32/150\n",
      "\u001b[1m33/33\u001b[0m \u001b[32m━━━━━━━━━━━━━━━━━━━━\u001b[0m\u001b[37m\u001b[0m \u001b[1m0s\u001b[0m 4ms/step - accuracy: 0.8995 - loss: 0.2491 - val_accuracy: 0.8596 - val_loss: 0.2633\n",
      "Epoch 33/150\n",
      "\u001b[1m33/33\u001b[0m \u001b[32m━━━━━━━━━━━━━━━━━━━━\u001b[0m\u001b[37m\u001b[0m \u001b[1m0s\u001b[0m 4ms/step - accuracy: 0.8859 - loss: 0.2481 - val_accuracy: 0.8596 - val_loss: 0.2730\n",
      "Epoch 34/150\n",
      "\u001b[1m33/33\u001b[0m \u001b[32m━━━━━━━━━━━━━━━━━━━━\u001b[0m\u001b[37m\u001b[0m \u001b[1m0s\u001b[0m 4ms/step - accuracy: 0.8810 - loss: 0.2645 - val_accuracy: 0.9123 - val_loss: 0.2555\n",
      "Epoch 35/150\n",
      "\u001b[1m33/33\u001b[0m \u001b[32m━━━━━━━━━━━━━━━━━━━━\u001b[0m\u001b[37m\u001b[0m \u001b[1m0s\u001b[0m 4ms/step - accuracy: 0.9145 - loss: 0.2304 - val_accuracy: 0.8596 - val_loss: 0.2751\n",
      "Epoch 36/150\n",
      "\u001b[1m33/33\u001b[0m \u001b[32m━━━━━━━━━━━━━━━━━━━━\u001b[0m\u001b[37m\u001b[0m \u001b[1m0s\u001b[0m 4ms/step - accuracy: 0.8886 - loss: 0.2416 - val_accuracy: 0.8947 - val_loss: 0.2578\n",
      "Epoch 37/150\n",
      "\u001b[1m33/33\u001b[0m \u001b[32m━━━━━━━━━━━━━━━━━━━━\u001b[0m\u001b[37m\u001b[0m \u001b[1m0s\u001b[0m 4ms/step - accuracy: 0.9343 - loss: 0.1993 - val_accuracy: 0.8772 - val_loss: 0.2690\n",
      "Epoch 38/150\n",
      "\u001b[1m33/33\u001b[0m \u001b[32m━━━━━━━━━━━━━━━━━━━━\u001b[0m\u001b[37m\u001b[0m \u001b[1m0s\u001b[0m 4ms/step - accuracy: 0.9117 - loss: 0.2089 - val_accuracy: 0.9298 - val_loss: 0.2520\n",
      "Epoch 39/150\n",
      "\u001b[1m33/33\u001b[0m \u001b[32m━━━━━━━━━━━━━━━━━━━━\u001b[0m\u001b[37m\u001b[0m \u001b[1m0s\u001b[0m 5ms/step - accuracy: 0.9339 - loss: 0.1869 - val_accuracy: 0.8421 - val_loss: 0.2813\n",
      "Epoch 40/150\n",
      "\u001b[1m33/33\u001b[0m \u001b[32m━━━━━━━━━━━━━━━━━━━━\u001b[0m\u001b[37m\u001b[0m \u001b[1m1s\u001b[0m 12ms/step - accuracy: 0.8982 - loss: 0.2283 - val_accuracy: 0.8772 - val_loss: 0.2534\n",
      "Epoch 41/150\n",
      "\u001b[1m33/33\u001b[0m \u001b[32m━━━━━━━━━━━━━━━━━━━━\u001b[0m\u001b[37m\u001b[0m \u001b[1m1s\u001b[0m 5ms/step - accuracy: 0.9190 - loss: 0.2069 - val_accuracy: 0.8596 - val_loss: 0.2527\n",
      "Epoch 42/150\n",
      "\u001b[1m33/33\u001b[0m \u001b[32m━━━━━━━━━━━━━━━━━━━━\u001b[0m\u001b[37m\u001b[0m \u001b[1m0s\u001b[0m 6ms/step - accuracy: 0.9355 - loss: 0.1794 - val_accuracy: 0.8596 - val_loss: 0.2794\n",
      "Epoch 43/150\n",
      "\u001b[1m33/33\u001b[0m \u001b[32m━━━━━━━━━━━━━━━━━━━━\u001b[0m\u001b[37m\u001b[0m \u001b[1m0s\u001b[0m 4ms/step - accuracy: 0.8996 - loss: 0.2300 - val_accuracy: 0.8421 - val_loss: 0.2705\n",
      "Epoch 44/150\n",
      "\u001b[1m33/33\u001b[0m \u001b[32m━━━━━━━━━━━━━━━━━━━━\u001b[0m\u001b[37m\u001b[0m \u001b[1m0s\u001b[0m 4ms/step - accuracy: 0.9160 - loss: 0.1876 - val_accuracy: 0.8596 - val_loss: 0.2735\n",
      "Epoch 45/150\n",
      "\u001b[1m33/33\u001b[0m \u001b[32m━━━━━━━━━━━━━━━━━━━━\u001b[0m\u001b[37m\u001b[0m \u001b[1m0s\u001b[0m 4ms/step - accuracy: 0.9143 - loss: 0.2059 - val_accuracy: 0.8947 - val_loss: 0.2604\n",
      "Epoch 46/150\n",
      "\u001b[1m33/33\u001b[0m \u001b[32m━━━━━━━━━━━━━━━━━━━━\u001b[0m\u001b[37m\u001b[0m \u001b[1m0s\u001b[0m 4ms/step - accuracy: 0.9167 - loss: 0.1952 - val_accuracy: 0.8596 - val_loss: 0.2673\n",
      "Epoch 47/150\n",
      "\u001b[1m33/33\u001b[0m \u001b[32m━━━━━━━━━━━━━━━━━━━━\u001b[0m\u001b[37m\u001b[0m \u001b[1m0s\u001b[0m 4ms/step - accuracy: 0.9113 - loss: 0.1683 - val_accuracy: 0.8947 - val_loss: 0.2685\n",
      "Epoch 48/150\n",
      "\u001b[1m33/33\u001b[0m \u001b[32m━━━━━━━━━━━━━━━━━━━━\u001b[0m\u001b[37m\u001b[0m \u001b[1m0s\u001b[0m 5ms/step - accuracy: 0.9174 - loss: 0.1817 - val_accuracy: 0.8772 - val_loss: 0.2929\n",
      "Epoch 49/150\n",
      "\u001b[1m33/33\u001b[0m \u001b[32m━━━━━━━━━━━━━━━━━━━━\u001b[0m\u001b[37m\u001b[0m \u001b[1m0s\u001b[0m 4ms/step - accuracy: 0.9276 - loss: 0.1727 - val_accuracy: 0.9123 - val_loss: 0.2930\n",
      "Epoch 50/150\n",
      "\u001b[1m33/33\u001b[0m \u001b[32m━━━━━━━━━━━━━━━━━━━━\u001b[0m\u001b[37m\u001b[0m \u001b[1m0s\u001b[0m 4ms/step - accuracy: 0.9218 - loss: 0.1647 - val_accuracy: 0.8596 - val_loss: 0.3113\n",
      "Epoch 51/150\n",
      "\u001b[1m33/33\u001b[0m \u001b[32m━━━━━━━━━━━━━━━━━━━━\u001b[0m\u001b[37m\u001b[0m \u001b[1m0s\u001b[0m 4ms/step - accuracy: 0.9285 - loss: 0.1792 - val_accuracy: 0.8596 - val_loss: 0.3019\n",
      "Epoch 52/150\n",
      "\u001b[1m33/33\u001b[0m \u001b[32m━━━━━━━━━━━━━━━━━━━━\u001b[0m\u001b[37m\u001b[0m \u001b[1m0s\u001b[0m 4ms/step - accuracy: 0.9267 - loss: 0.1655 - val_accuracy: 0.8596 - val_loss: 0.3011\n",
      "Epoch 53/150\n",
      "\u001b[1m33/33\u001b[0m \u001b[32m━━━━━━━━━━━━━━━━━━━━\u001b[0m\u001b[37m\u001b[0m \u001b[1m0s\u001b[0m 4ms/step - accuracy: 0.8693 - loss: 0.2430 - val_accuracy: 0.8772 - val_loss: 0.3222\n",
      "Epoch 54/150\n",
      "\u001b[1m33/33\u001b[0m \u001b[32m━━━━━━━━━━━━━━━━━━━━\u001b[0m\u001b[37m\u001b[0m \u001b[1m0s\u001b[0m 4ms/step - accuracy: 0.9116 - loss: 0.1965 - val_accuracy: 0.8421 - val_loss: 0.3156\n",
      "Epoch 55/150\n",
      "\u001b[1m33/33\u001b[0m \u001b[32m━━━━━━━━━━━━━━━━━━━━\u001b[0m\u001b[37m\u001b[0m \u001b[1m0s\u001b[0m 4ms/step - accuracy: 0.8894 - loss: 0.2106 - val_accuracy: 0.8947 - val_loss: 0.2798\n",
      "Epoch 56/150\n",
      "\u001b[1m33/33\u001b[0m \u001b[32m━━━━━━━━━━━━━━━━━━━━\u001b[0m\u001b[37m\u001b[0m \u001b[1m0s\u001b[0m 4ms/step - accuracy: 0.9101 - loss: 0.2047 - val_accuracy: 0.8421 - val_loss: 0.3060\n",
      "Epoch 57/150\n",
      "\u001b[1m33/33\u001b[0m \u001b[32m━━━━━━━━━━━━━━━━━━━━\u001b[0m\u001b[37m\u001b[0m \u001b[1m0s\u001b[0m 5ms/step - accuracy: 0.9149 - loss: 0.1959 - val_accuracy: 0.8596 - val_loss: 0.2853\n",
      "Epoch 58/150\n",
      "\u001b[1m33/33\u001b[0m \u001b[32m━━━━━━━━━━━━━━━━━━━━\u001b[0m\u001b[37m\u001b[0m \u001b[1m0s\u001b[0m 4ms/step - accuracy: 0.9431 - loss: 0.1432 - val_accuracy: 0.9298 - val_loss: 0.2918\n",
      "Epoch 59/150\n",
      "\u001b[1m33/33\u001b[0m \u001b[32m━━━━━━━━━━━━━━━━━━━━\u001b[0m\u001b[37m\u001b[0m \u001b[1m0s\u001b[0m 4ms/step - accuracy: 0.9166 - loss: 0.2035 - val_accuracy: 0.8421 - val_loss: 0.3057\n",
      "Epoch 60/150\n",
      "\u001b[1m33/33\u001b[0m \u001b[32m━━━━━━━━━━━━━━━━━━━━\u001b[0m\u001b[37m\u001b[0m \u001b[1m0s\u001b[0m 4ms/step - accuracy: 0.9317 - loss: 0.1656 - val_accuracy: 0.8772 - val_loss: 0.3154\n",
      "Epoch 61/150\n",
      "\u001b[1m33/33\u001b[0m \u001b[32m━━━━━━━━━━━━━━━━━━━━\u001b[0m\u001b[37m\u001b[0m \u001b[1m0s\u001b[0m 5ms/step - accuracy: 0.9124 - loss: 0.1704 - val_accuracy: 0.8596 - val_loss: 0.2918\n",
      "Epoch 62/150\n",
      "\u001b[1m33/33\u001b[0m \u001b[32m━━━━━━━━━━━━━━━━━━━━\u001b[0m\u001b[37m\u001b[0m \u001b[1m0s\u001b[0m 4ms/step - accuracy: 0.9436 - loss: 0.1581 - val_accuracy: 0.8772 - val_loss: 0.2981\n",
      "Epoch 63/150\n",
      "\u001b[1m33/33\u001b[0m \u001b[32m━━━━━━━━━━━━━━━━━━━━\u001b[0m\u001b[37m\u001b[0m \u001b[1m0s\u001b[0m 4ms/step - accuracy: 0.9537 - loss: 0.1228 - val_accuracy: 0.9298 - val_loss: 0.2834\n",
      "Epoch 64/150\n",
      "\u001b[1m33/33\u001b[0m \u001b[32m━━━━━━━━━━━━━━━━━━━━\u001b[0m\u001b[37m\u001b[0m \u001b[1m0s\u001b[0m 4ms/step - accuracy: 0.9102 - loss: 0.1697 - val_accuracy: 0.8772 - val_loss: 0.3141\n",
      "Epoch 65/150\n",
      "\u001b[1m33/33\u001b[0m \u001b[32m━━━━━━━━━━━━━━━━━━━━\u001b[0m\u001b[37m\u001b[0m \u001b[1m0s\u001b[0m 5ms/step - accuracy: 0.9159 - loss: 0.1505 - val_accuracy: 0.9123 - val_loss: 0.3196\n",
      "Epoch 66/150\n",
      "\u001b[1m33/33\u001b[0m \u001b[32m━━━━━━━━━━━━━━━━━━━━\u001b[0m\u001b[37m\u001b[0m \u001b[1m0s\u001b[0m 4ms/step - accuracy: 0.9359 - loss: 0.1395 - val_accuracy: 0.8596 - val_loss: 0.3099\n",
      "Epoch 67/150\n",
      "\u001b[1m33/33\u001b[0m \u001b[32m━━━━━━━━━━━━━━━━━━━━\u001b[0m\u001b[37m\u001b[0m \u001b[1m0s\u001b[0m 4ms/step - accuracy: 0.9264 - loss: 0.1775 - val_accuracy: 0.8772 - val_loss: 0.3254\n",
      "Epoch 68/150\n",
      "\u001b[1m33/33\u001b[0m \u001b[32m━━━━━━━━━━━━━━━━━━━━\u001b[0m\u001b[37m\u001b[0m \u001b[1m0s\u001b[0m 4ms/step - accuracy: 0.9493 - loss: 0.1359 - val_accuracy: 0.8947 - val_loss: 0.3248\n",
      "Epoch 69/150\n",
      "\u001b[1m33/33\u001b[0m \u001b[32m━━━━━━━━━━━━━━━━━━━━\u001b[0m\u001b[37m\u001b[0m \u001b[1m0s\u001b[0m 8ms/step - accuracy: 0.9502 - loss: 0.1391 - val_accuracy: 0.8596 - val_loss: 0.3193\n",
      "Epoch 70/150\n",
      "\u001b[1m33/33\u001b[0m \u001b[32m━━━━━━━━━━━━━━━━━━━━\u001b[0m\u001b[37m\u001b[0m \u001b[1m0s\u001b[0m 4ms/step - accuracy: 0.9405 - loss: 0.1392 - val_accuracy: 0.8772 - val_loss: 0.3226\n",
      "Epoch 71/150\n",
      "\u001b[1m33/33\u001b[0m \u001b[32m━━━━━━━━━━━━━━━━━━━━\u001b[0m\u001b[37m\u001b[0m \u001b[1m0s\u001b[0m 8ms/step - accuracy: 0.9378 - loss: 0.1377 - val_accuracy: 0.8772 - val_loss: 0.3145\n",
      "Epoch 72/150\n",
      "\u001b[1m33/33\u001b[0m \u001b[32m━━━━━━━━━━━━━━━━━━━━\u001b[0m\u001b[37m\u001b[0m \u001b[1m0s\u001b[0m 4ms/step - accuracy: 0.9260 - loss: 0.1545 - val_accuracy: 0.8772 - val_loss: 0.3250\n",
      "Epoch 73/150\n",
      "\u001b[1m33/33\u001b[0m \u001b[32m━━━━━━━━━━━━━━━━━━━━\u001b[0m\u001b[37m\u001b[0m \u001b[1m0s\u001b[0m 4ms/step - accuracy: 0.9393 - loss: 0.1260 - val_accuracy: 0.8421 - val_loss: 0.3207\n",
      "Epoch 74/150\n",
      "\u001b[1m33/33\u001b[0m \u001b[32m━━━━━━━━━━━━━━━━━━━━\u001b[0m\u001b[37m\u001b[0m \u001b[1m0s\u001b[0m 5ms/step - accuracy: 0.9057 - loss: 0.1742 - val_accuracy: 0.8596 - val_loss: 0.3930\n",
      "Epoch 75/150\n",
      "\u001b[1m33/33\u001b[0m \u001b[32m━━━━━━━━━━━━━━━━━━━━\u001b[0m\u001b[37m\u001b[0m \u001b[1m0s\u001b[0m 4ms/step - accuracy: 0.9492 - loss: 0.1337 - val_accuracy: 0.8421 - val_loss: 0.3632\n",
      "Epoch 76/150\n",
      "\u001b[1m33/33\u001b[0m \u001b[32m━━━━━━━━━━━━━━━━━━━━\u001b[0m\u001b[37m\u001b[0m \u001b[1m0s\u001b[0m 7ms/step - accuracy: 0.9525 - loss: 0.1124 - val_accuracy: 0.8772 - val_loss: 0.3275\n",
      "Epoch 77/150\n",
      "\u001b[1m33/33\u001b[0m \u001b[32m━━━━━━━━━━━━━━━━━━━━\u001b[0m\u001b[37m\u001b[0m \u001b[1m0s\u001b[0m 4ms/step - accuracy: 0.9416 - loss: 0.1337 - val_accuracy: 0.8596 - val_loss: 0.3489\n",
      "Epoch 78/150\n",
      "\u001b[1m33/33\u001b[0m \u001b[32m━━━━━━━━━━━━━━━━━━━━\u001b[0m\u001b[37m\u001b[0m \u001b[1m0s\u001b[0m 5ms/step - accuracy: 0.9363 - loss: 0.1386 - val_accuracy: 0.8421 - val_loss: 0.3367\n",
      "Epoch 79/150\n",
      "\u001b[1m33/33\u001b[0m \u001b[32m━━━━━━━━━━━━━━━━━━━━\u001b[0m\u001b[37m\u001b[0m \u001b[1m0s\u001b[0m 4ms/step - accuracy: 0.9460 - loss: 0.1185 - val_accuracy: 0.8596 - val_loss: 0.3727\n",
      "Epoch 80/150\n",
      "\u001b[1m33/33\u001b[0m \u001b[32m━━━━━━━━━━━━━━━━━━━━\u001b[0m\u001b[37m\u001b[0m \u001b[1m0s\u001b[0m 4ms/step - accuracy: 0.9370 - loss: 0.1368 - val_accuracy: 0.8421 - val_loss: 0.3465\n",
      "Epoch 81/150\n",
      "\u001b[1m33/33\u001b[0m \u001b[32m━━━━━━━━━━━━━━━━━━━━\u001b[0m\u001b[37m\u001b[0m \u001b[1m0s\u001b[0m 4ms/step - accuracy: 0.9513 - loss: 0.1181 - val_accuracy: 0.8596 - val_loss: 0.3685\n",
      "Epoch 82/150\n",
      "\u001b[1m33/33\u001b[0m \u001b[32m━━━━━━━━━━━━━━━━━━━━\u001b[0m\u001b[37m\u001b[0m \u001b[1m0s\u001b[0m 4ms/step - accuracy: 0.9407 - loss: 0.1535 - val_accuracy: 0.8596 - val_loss: 0.3462\n",
      "Epoch 83/150\n",
      "\u001b[1m33/33\u001b[0m \u001b[32m━━━━━━━━━━━━━━━━━━━━\u001b[0m\u001b[37m\u001b[0m \u001b[1m0s\u001b[0m 6ms/step - accuracy: 0.9428 - loss: 0.1245 - val_accuracy: 0.8947 - val_loss: 0.3476\n",
      "Epoch 84/150\n",
      "\u001b[1m33/33\u001b[0m \u001b[32m━━━━━━━━━━━━━━━━━━━━\u001b[0m\u001b[37m\u001b[0m \u001b[1m0s\u001b[0m 4ms/step - accuracy: 0.9539 - loss: 0.1167 - val_accuracy: 0.9298 - val_loss: 0.3053\n",
      "Epoch 85/150\n",
      "\u001b[1m33/33\u001b[0m \u001b[32m━━━━━━━━━━━━━━━━━━━━\u001b[0m\u001b[37m\u001b[0m \u001b[1m0s\u001b[0m 4ms/step - accuracy: 0.9135 - loss: 0.1826 - val_accuracy: 0.8772 - val_loss: 0.3634\n",
      "Epoch 86/150\n",
      "\u001b[1m33/33\u001b[0m \u001b[32m━━━━━━━━━━━━━━━━━━━━\u001b[0m\u001b[37m\u001b[0m \u001b[1m0s\u001b[0m 4ms/step - accuracy: 0.9318 - loss: 0.1372 - val_accuracy: 0.8947 - val_loss: 0.3444\n",
      "Epoch 87/150\n",
      "\u001b[1m33/33\u001b[0m \u001b[32m━━━━━━━━━━━━━━━━━━━━\u001b[0m\u001b[37m\u001b[0m \u001b[1m0s\u001b[0m 4ms/step - accuracy: 0.9383 - loss: 0.1359 - val_accuracy: 0.8596 - val_loss: 0.3516\n",
      "Epoch 88/150\n",
      "\u001b[1m33/33\u001b[0m \u001b[32m━━━━━━━━━━━━━━━━━━━━\u001b[0m\u001b[37m\u001b[0m \u001b[1m0s\u001b[0m 4ms/step - accuracy: 0.9454 - loss: 0.1489 - val_accuracy: 0.9123 - val_loss: 0.3553\n",
      "Epoch 89/150\n",
      "\u001b[1m33/33\u001b[0m \u001b[32m━━━━━━━━━━━━━━━━━━━━\u001b[0m\u001b[37m\u001b[0m \u001b[1m0s\u001b[0m 4ms/step - accuracy: 0.9343 - loss: 0.1541 - val_accuracy: 0.8947 - val_loss: 0.3571\n",
      "Epoch 90/150\n",
      "\u001b[1m33/33\u001b[0m \u001b[32m━━━━━━━━━━━━━━━━━━━━\u001b[0m\u001b[37m\u001b[0m \u001b[1m0s\u001b[0m 4ms/step - accuracy: 0.9692 - loss: 0.1117 - val_accuracy: 0.9298 - val_loss: 0.3179\n",
      "Epoch 91/150\n",
      "\u001b[1m33/33\u001b[0m \u001b[32m━━━━━━━━━━━━━━━━━━━━\u001b[0m\u001b[37m\u001b[0m \u001b[1m0s\u001b[0m 5ms/step - accuracy: 0.9440 - loss: 0.1332 - val_accuracy: 0.8596 - val_loss: 0.3875\n",
      "Epoch 92/150\n",
      "\u001b[1m33/33\u001b[0m \u001b[32m━━━━━━━━━━━━━━━━━━━━\u001b[0m\u001b[37m\u001b[0m \u001b[1m0s\u001b[0m 4ms/step - accuracy: 0.9511 - loss: 0.1080 - val_accuracy: 0.8947 - val_loss: 0.3464\n",
      "Epoch 93/150\n",
      "\u001b[1m33/33\u001b[0m \u001b[32m━━━━━━━━━━━━━━━━━━━━\u001b[0m\u001b[37m\u001b[0m \u001b[1m0s\u001b[0m 4ms/step - accuracy: 0.9510 - loss: 0.1348 - val_accuracy: 0.8596 - val_loss: 0.3780\n",
      "Epoch 94/150\n",
      "\u001b[1m33/33\u001b[0m \u001b[32m━━━━━━━━━━━━━━━━━━━━\u001b[0m\u001b[37m\u001b[0m \u001b[1m0s\u001b[0m 5ms/step - accuracy: 0.9442 - loss: 0.1127 - val_accuracy: 0.9123 - val_loss: 0.3587\n",
      "Epoch 95/150\n",
      "\u001b[1m33/33\u001b[0m \u001b[32m━━━━━━━━━━━━━━━━━━━━\u001b[0m\u001b[37m\u001b[0m \u001b[1m0s\u001b[0m 6ms/step - accuracy: 0.9241 - loss: 0.1376 - val_accuracy: 0.9123 - val_loss: 0.3709\n",
      "Epoch 96/150\n",
      "\u001b[1m33/33\u001b[0m \u001b[32m━━━━━━━━━━━━━━━━━━━━\u001b[0m\u001b[37m\u001b[0m \u001b[1m0s\u001b[0m 4ms/step - accuracy: 0.9661 - loss: 0.0949 - val_accuracy: 0.9123 - val_loss: 0.3718\n",
      "Epoch 97/150\n",
      "\u001b[1m33/33\u001b[0m \u001b[32m━━━━━━━━━━━━━━━━━━━━\u001b[0m\u001b[37m\u001b[0m \u001b[1m0s\u001b[0m 4ms/step - accuracy: 0.9302 - loss: 0.1283 - val_accuracy: 0.9123 - val_loss: 0.3746\n",
      "Epoch 98/150\n",
      "\u001b[1m33/33\u001b[0m \u001b[32m━━━━━━━━━━━━━━━━━━━━\u001b[0m\u001b[37m\u001b[0m \u001b[1m0s\u001b[0m 4ms/step - accuracy: 0.9384 - loss: 0.1360 - val_accuracy: 0.8421 - val_loss: 0.4125\n",
      "Epoch 99/150\n",
      "\u001b[1m33/33\u001b[0m \u001b[32m━━━━━━━━━━━━━━━━━━━━\u001b[0m\u001b[37m\u001b[0m \u001b[1m0s\u001b[0m 5ms/step - accuracy: 0.9467 - loss: 0.1168 - val_accuracy: 0.9123 - val_loss: 0.3870\n",
      "Epoch 100/150\n",
      "\u001b[1m33/33\u001b[0m \u001b[32m━━━━━━━━━━━━━━━━━━━━\u001b[0m\u001b[37m\u001b[0m \u001b[1m0s\u001b[0m 4ms/step - accuracy: 0.9367 - loss: 0.1310 - val_accuracy: 0.8596 - val_loss: 0.3646\n",
      "Epoch 101/150\n",
      "\u001b[1m33/33\u001b[0m \u001b[32m━━━━━━━━━━━━━━━━━━━━\u001b[0m\u001b[37m\u001b[0m \u001b[1m0s\u001b[0m 4ms/step - accuracy: 0.9307 - loss: 0.1231 - val_accuracy: 0.8947 - val_loss: 0.3833\n",
      "Epoch 102/150\n",
      "\u001b[1m33/33\u001b[0m \u001b[32m━━━━━━━━━━━━━━━━━━━━\u001b[0m\u001b[37m\u001b[0m \u001b[1m0s\u001b[0m 4ms/step - accuracy: 0.9417 - loss: 0.1232 - val_accuracy: 0.8772 - val_loss: 0.4065\n",
      "Epoch 103/150\n",
      "\u001b[1m33/33\u001b[0m \u001b[32m━━━━━━━━━━━━━━━━━━━━\u001b[0m\u001b[37m\u001b[0m \u001b[1m0s\u001b[0m 4ms/step - accuracy: 0.9147 - loss: 0.1317 - val_accuracy: 0.8772 - val_loss: 0.4145\n",
      "Epoch 104/150\n",
      "\u001b[1m33/33\u001b[0m \u001b[32m━━━━━━━━━━━━━━━━━━━━\u001b[0m\u001b[37m\u001b[0m \u001b[1m0s\u001b[0m 4ms/step - accuracy: 0.9642 - loss: 0.0982 - val_accuracy: 0.8772 - val_loss: 0.4038\n",
      "Epoch 105/150\n",
      "\u001b[1m33/33\u001b[0m \u001b[32m━━━━━━━━━━━━━━━━━━━━\u001b[0m\u001b[37m\u001b[0m \u001b[1m0s\u001b[0m 4ms/step - accuracy: 0.9684 - loss: 0.1043 - val_accuracy: 0.9123 - val_loss: 0.3840\n",
      "Epoch 106/150\n",
      "\u001b[1m33/33\u001b[0m \u001b[32m━━━━━━━━━━━━━━━━━━━━\u001b[0m\u001b[37m\u001b[0m \u001b[1m0s\u001b[0m 4ms/step - accuracy: 0.9498 - loss: 0.1152 - val_accuracy: 0.9123 - val_loss: 0.4067\n",
      "Epoch 107/150\n",
      "\u001b[1m33/33\u001b[0m \u001b[32m━━━━━━━━━━━━━━━━━━━━\u001b[0m\u001b[37m\u001b[0m \u001b[1m0s\u001b[0m 6ms/step - accuracy: 0.9449 - loss: 0.1044 - val_accuracy: 0.9123 - val_loss: 0.4166\n",
      "Epoch 108/150\n",
      "\u001b[1m33/33\u001b[0m \u001b[32m━━━━━━━━━━━━━━━━━━━━\u001b[0m\u001b[37m\u001b[0m \u001b[1m0s\u001b[0m 4ms/step - accuracy: 0.9220 - loss: 0.1473 - val_accuracy: 0.8947 - val_loss: 0.4247\n",
      "Epoch 109/150\n",
      "\u001b[1m33/33\u001b[0m \u001b[32m━━━━━━━━━━━━━━━━━━━━\u001b[0m\u001b[37m\u001b[0m \u001b[1m0s\u001b[0m 4ms/step - accuracy: 0.9487 - loss: 0.1112 - val_accuracy: 0.9123 - val_loss: 0.4232\n",
      "Epoch 110/150\n",
      "\u001b[1m33/33\u001b[0m \u001b[32m━━━━━━━━━━━━━━━━━━━━\u001b[0m\u001b[37m\u001b[0m \u001b[1m0s\u001b[0m 4ms/step - accuracy: 0.9503 - loss: 0.1148 - val_accuracy: 0.8596 - val_loss: 0.4200\n",
      "Epoch 111/150\n",
      "\u001b[1m33/33\u001b[0m \u001b[32m━━━━━━━━━━━━━━━━━━━━\u001b[0m\u001b[37m\u001b[0m \u001b[1m0s\u001b[0m 4ms/step - accuracy: 0.9643 - loss: 0.0888 - val_accuracy: 0.8947 - val_loss: 0.4545\n",
      "Epoch 112/150\n",
      "\u001b[1m33/33\u001b[0m \u001b[32m━━━━━━━━━━━━━━━━━━━━\u001b[0m\u001b[37m\u001b[0m \u001b[1m0s\u001b[0m 4ms/step - accuracy: 0.9431 - loss: 0.1242 - val_accuracy: 0.8421 - val_loss: 0.4293\n",
      "Epoch 113/150\n",
      "\u001b[1m33/33\u001b[0m \u001b[32m━━━━━━━━━━━━━━━━━━━━\u001b[0m\u001b[37m\u001b[0m \u001b[1m0s\u001b[0m 4ms/step - accuracy: 0.9519 - loss: 0.0982 - val_accuracy: 0.8947 - val_loss: 0.4240\n",
      "Epoch 114/150\n",
      "\u001b[1m33/33\u001b[0m \u001b[32m━━━━━━━━━━━━━━━━━━━━\u001b[0m\u001b[37m\u001b[0m \u001b[1m0s\u001b[0m 4ms/step - accuracy: 0.9681 - loss: 0.0781 - val_accuracy: 0.8421 - val_loss: 0.4349\n",
      "Epoch 115/150\n",
      "\u001b[1m33/33\u001b[0m \u001b[32m━━━━━━━━━━━━━━━━━━━━\u001b[0m\u001b[37m\u001b[0m \u001b[1m0s\u001b[0m 4ms/step - accuracy: 0.9528 - loss: 0.1129 - val_accuracy: 0.8596 - val_loss: 0.5216\n",
      "Epoch 116/150\n",
      "\u001b[1m33/33\u001b[0m \u001b[32m━━━━━━━━━━━━━━━━━━━━\u001b[0m\u001b[37m\u001b[0m \u001b[1m0s\u001b[0m 4ms/step - accuracy: 0.9638 - loss: 0.1109 - val_accuracy: 0.9123 - val_loss: 0.4292\n",
      "Epoch 117/150\n",
      "\u001b[1m33/33\u001b[0m \u001b[32m━━━━━━━━━━━━━━━━━━━━\u001b[0m\u001b[37m\u001b[0m \u001b[1m0s\u001b[0m 4ms/step - accuracy: 0.9521 - loss: 0.1159 - val_accuracy: 0.8596 - val_loss: 0.4226\n",
      "Epoch 118/150\n",
      "\u001b[1m33/33\u001b[0m \u001b[32m━━━━━━━━━━━━━━━━━━━━\u001b[0m\u001b[37m\u001b[0m \u001b[1m0s\u001b[0m 4ms/step - accuracy: 0.9569 - loss: 0.1055 - val_accuracy: 0.8596 - val_loss: 0.4575\n",
      "Epoch 119/150\n",
      "\u001b[1m33/33\u001b[0m \u001b[32m━━━━━━━━━━━━━━━━━━━━\u001b[0m\u001b[37m\u001b[0m \u001b[1m0s\u001b[0m 4ms/step - accuracy: 0.9436 - loss: 0.1327 - val_accuracy: 0.8947 - val_loss: 0.4343\n",
      "Epoch 120/150\n",
      "\u001b[1m33/33\u001b[0m \u001b[32m━━━━━━━━━━━━━━━━━━━━\u001b[0m\u001b[37m\u001b[0m \u001b[1m0s\u001b[0m 4ms/step - accuracy: 0.9331 - loss: 0.1495 - val_accuracy: 0.9123 - val_loss: 0.4303\n",
      "Epoch 121/150\n",
      "\u001b[1m33/33\u001b[0m \u001b[32m━━━━━━━━━━━━━━━━━━━━\u001b[0m\u001b[37m\u001b[0m \u001b[1m0s\u001b[0m 8ms/step - accuracy: 0.9463 - loss: 0.1142 - val_accuracy: 0.8947 - val_loss: 0.4227\n",
      "Epoch 122/150\n",
      "\u001b[1m33/33\u001b[0m \u001b[32m━━━━━━━━━━━━━━━━━━━━\u001b[0m\u001b[37m\u001b[0m \u001b[1m0s\u001b[0m 4ms/step - accuracy: 0.9583 - loss: 0.0988 - val_accuracy: 0.8947 - val_loss: 0.4533\n",
      "Epoch 123/150\n",
      "\u001b[1m33/33\u001b[0m \u001b[32m━━━━━━━━━━━━━━━━━━━━\u001b[0m\u001b[37m\u001b[0m \u001b[1m0s\u001b[0m 4ms/step - accuracy: 0.9548 - loss: 0.0940 - val_accuracy: 0.9123 - val_loss: 0.4382\n",
      "Epoch 124/150\n",
      "\u001b[1m33/33\u001b[0m \u001b[32m━━━━━━━━━━━━━━━━━━━━\u001b[0m\u001b[37m\u001b[0m \u001b[1m0s\u001b[0m 4ms/step - accuracy: 0.9677 - loss: 0.0891 - val_accuracy: 0.8947 - val_loss: 0.4758\n",
      "Epoch 125/150\n",
      "\u001b[1m33/33\u001b[0m \u001b[32m━━━━━━━━━━━━━━━━━━━━\u001b[0m\u001b[37m\u001b[0m \u001b[1m0s\u001b[0m 4ms/step - accuracy: 0.9387 - loss: 0.1060 - val_accuracy: 0.8947 - val_loss: 0.4429\n",
      "Epoch 126/150\n",
      "\u001b[1m33/33\u001b[0m \u001b[32m━━━━━━━━━━━━━━━━━━━━\u001b[0m\u001b[37m\u001b[0m \u001b[1m0s\u001b[0m 5ms/step - accuracy: 0.9486 - loss: 0.0899 - val_accuracy: 0.9123 - val_loss: 0.4462\n",
      "Epoch 127/150\n",
      "\u001b[1m33/33\u001b[0m \u001b[32m━━━━━━━━━━━━━━━━━━━━\u001b[0m\u001b[37m\u001b[0m \u001b[1m0s\u001b[0m 4ms/step - accuracy: 0.9449 - loss: 0.1205 - val_accuracy: 0.9123 - val_loss: 0.4280\n",
      "Epoch 128/150\n",
      "\u001b[1m33/33\u001b[0m \u001b[32m━━━━━━━━━━━━━━━━━━━━\u001b[0m\u001b[37m\u001b[0m \u001b[1m0s\u001b[0m 4ms/step - accuracy: 0.9318 - loss: 0.1229 - val_accuracy: 0.8772 - val_loss: 0.4480\n",
      "Epoch 129/150\n",
      "\u001b[1m33/33\u001b[0m \u001b[32m━━━━━━━━━━━━━━━━━━━━\u001b[0m\u001b[37m\u001b[0m \u001b[1m0s\u001b[0m 4ms/step - accuracy: 0.9329 - loss: 0.1327 - val_accuracy: 0.8947 - val_loss: 0.4230\n",
      "Epoch 130/150\n",
      "\u001b[1m33/33\u001b[0m \u001b[32m━━━━━━━━━━━━━━━━━━━━\u001b[0m\u001b[37m\u001b[0m \u001b[1m0s\u001b[0m 4ms/step - accuracy: 0.9507 - loss: 0.1052 - val_accuracy: 0.9123 - val_loss: 0.4573\n",
      "Epoch 131/150\n",
      "\u001b[1m33/33\u001b[0m \u001b[32m━━━━━━━━━━━━━━━━━━━━\u001b[0m\u001b[37m\u001b[0m \u001b[1m0s\u001b[0m 5ms/step - accuracy: 0.9467 - loss: 0.1083 - val_accuracy: 0.8947 - val_loss: 0.4417\n",
      "Epoch 132/150\n",
      "\u001b[1m33/33\u001b[0m \u001b[32m━━━━━━━━━━━━━━━━━━━━\u001b[0m\u001b[37m\u001b[0m \u001b[1m0s\u001b[0m 4ms/step - accuracy: 0.9519 - loss: 0.1146 - val_accuracy: 0.8947 - val_loss: 0.4767\n",
      "Epoch 133/150\n",
      "\u001b[1m33/33\u001b[0m \u001b[32m━━━━━━━━━━━━━━━━━━━━\u001b[0m\u001b[37m\u001b[0m \u001b[1m0s\u001b[0m 5ms/step - accuracy: 0.9699 - loss: 0.0795 - val_accuracy: 0.8947 - val_loss: 0.4629\n",
      "Epoch 134/150\n",
      "\u001b[1m33/33\u001b[0m \u001b[32m━━━━━━━━━━━━━━━━━━━━\u001b[0m\u001b[37m\u001b[0m \u001b[1m0s\u001b[0m 4ms/step - accuracy: 0.9456 - loss: 0.0995 - val_accuracy: 0.8947 - val_loss: 0.4471\n",
      "Epoch 135/150\n",
      "\u001b[1m33/33\u001b[0m \u001b[32m━━━━━━━━━━━━━━━━━━━━\u001b[0m\u001b[37m\u001b[0m \u001b[1m0s\u001b[0m 4ms/step - accuracy: 0.9644 - loss: 0.0805 - val_accuracy: 0.9123 - val_loss: 0.4840\n",
      "Epoch 136/150\n",
      "\u001b[1m33/33\u001b[0m \u001b[32m━━━━━━━━━━━━━━━━━━━━\u001b[0m\u001b[37m\u001b[0m \u001b[1m0s\u001b[0m 4ms/step - accuracy: 0.9572 - loss: 0.1211 - val_accuracy: 0.8596 - val_loss: 0.5285\n",
      "Epoch 137/150\n",
      "\u001b[1m33/33\u001b[0m \u001b[32m━━━━━━━━━━━━━━━━━━━━\u001b[0m\u001b[37m\u001b[0m \u001b[1m0s\u001b[0m 4ms/step - accuracy: 0.9434 - loss: 0.1086 - val_accuracy: 0.9123 - val_loss: 0.4688\n",
      "Epoch 138/150\n",
      "\u001b[1m33/33\u001b[0m \u001b[32m━━━━━━━━━━━━━━━━━━━━\u001b[0m\u001b[37m\u001b[0m \u001b[1m0s\u001b[0m 5ms/step - accuracy: 0.9553 - loss: 0.1104 - val_accuracy: 0.9123 - val_loss: 0.4668\n",
      "Epoch 139/150\n",
      "\u001b[1m33/33\u001b[0m \u001b[32m━━━━━━━━━━━━━━━━━━━━\u001b[0m\u001b[37m\u001b[0m \u001b[1m0s\u001b[0m 4ms/step - accuracy: 0.9684 - loss: 0.0827 - val_accuracy: 0.8947 - val_loss: 0.4974\n",
      "Epoch 140/150\n",
      "\u001b[1m33/33\u001b[0m \u001b[32m━━━━━━━━━━━━━━━━━━━━\u001b[0m\u001b[37m\u001b[0m \u001b[1m0s\u001b[0m 4ms/step - accuracy: 0.9594 - loss: 0.0923 - val_accuracy: 0.8772 - val_loss: 0.5290\n",
      "Epoch 141/150\n",
      "\u001b[1m33/33\u001b[0m \u001b[32m━━━━━━━━━━━━━━━━━━━━\u001b[0m\u001b[37m\u001b[0m \u001b[1m0s\u001b[0m 4ms/step - accuracy: 0.9486 - loss: 0.1105 - val_accuracy: 0.9123 - val_loss: 0.5067\n",
      "Epoch 142/150\n",
      "\u001b[1m33/33\u001b[0m \u001b[32m━━━━━━━━━━━━━━━━━━━━\u001b[0m\u001b[37m\u001b[0m \u001b[1m0s\u001b[0m 4ms/step - accuracy: 0.9609 - loss: 0.0838 - val_accuracy: 0.9123 - val_loss: 0.5075\n",
      "Epoch 143/150\n",
      "\u001b[1m33/33\u001b[0m \u001b[32m━━━━━━━━━━━━━━━━━━━━\u001b[0m\u001b[37m\u001b[0m \u001b[1m0s\u001b[0m 4ms/step - accuracy: 0.9606 - loss: 0.0843 - val_accuracy: 0.8596 - val_loss: 0.5156\n",
      "Epoch 144/150\n",
      "\u001b[1m33/33\u001b[0m \u001b[32m━━━━━━━━━━━━━━━━━━━━\u001b[0m\u001b[37m\u001b[0m \u001b[1m0s\u001b[0m 4ms/step - accuracy: 0.9392 - loss: 0.1184 - val_accuracy: 0.9123 - val_loss: 0.5346\n",
      "Epoch 145/150\n",
      "\u001b[1m33/33\u001b[0m \u001b[32m━━━━━━━━━━━━━━━━━━━━\u001b[0m\u001b[37m\u001b[0m \u001b[1m0s\u001b[0m 8ms/step - accuracy: 0.9357 - loss: 0.0911 - val_accuracy: 0.8947 - val_loss: 0.5306\n",
      "Epoch 146/150\n",
      "\u001b[1m33/33\u001b[0m \u001b[32m━━━━━━━━━━━━━━━━━━━━\u001b[0m\u001b[37m\u001b[0m \u001b[1m0s\u001b[0m 4ms/step - accuracy: 0.9511 - loss: 0.0960 - val_accuracy: 0.9123 - val_loss: 0.5218\n",
      "Epoch 147/150\n",
      "\u001b[1m33/33\u001b[0m \u001b[32m━━━━━━━━━━━━━━━━━━━━\u001b[0m\u001b[37m\u001b[0m \u001b[1m0s\u001b[0m 4ms/step - accuracy: 0.9437 - loss: 0.1063 - val_accuracy: 0.8947 - val_loss: 0.5156\n",
      "Epoch 148/150\n",
      "\u001b[1m33/33\u001b[0m \u001b[32m━━━━━━━━━━━━━━━━━━━━\u001b[0m\u001b[37m\u001b[0m \u001b[1m0s\u001b[0m 4ms/step - accuracy: 0.9534 - loss: 0.1078 - val_accuracy: 0.9123 - val_loss: 0.5838\n",
      "Epoch 149/150\n",
      "\u001b[1m33/33\u001b[0m \u001b[32m━━━━━━━━━━━━━━━━━━━━\u001b[0m\u001b[37m\u001b[0m \u001b[1m0s\u001b[0m 4ms/step - accuracy: 0.9520 - loss: 0.0981 - val_accuracy: 0.9123 - val_loss: 0.4981\n",
      "Epoch 150/150\n",
      "\u001b[1m33/33\u001b[0m \u001b[32m━━━━━━━━━━━━━━━━━━━━\u001b[0m\u001b[37m\u001b[0m \u001b[1m0s\u001b[0m 6ms/step - accuracy: 0.9460 - loss: 0.1030 - val_accuracy: 0.8772 - val_loss: 0.4960\n"
     ]
    },
    {
     "data": {
      "text/plain": [
       "<keras.src.callbacks.history.History at 0x2040cbfede0>"
      ]
     },
     "execution_count": 37,
     "metadata": {},
     "output_type": "execute_result"
    }
   ],
   "source": [
    "# 데이터가 적어서 에포크 횟수를 늘려 훈련 정확도를 높인다. \n",
    "\n",
    "model.fit(X_train,y_train, epochs=150, batch_size=10,validation_split=0.15)"
   ]
  },
  {
   "cell_type": "code",
   "execution_count": 41,
   "metadata": {},
   "outputs": [
    {
     "name": "stdout",
     "output_type": "stream",
     "text": [
      "\u001b[1m1/1\u001b[0m \u001b[32m━━━━━━━━━━━━━━━━━━━━\u001b[0m\u001b[37m\u001b[0m \u001b[1m0s\u001b[0m 80ms/step - accuracy: 0.9500 - loss: 0.3068\n"
     ]
    },
    {
     "data": {
      "text/plain": [
       "[0.306796133518219, 0.949999988079071]"
      ]
     },
     "execution_count": 41,
     "metadata": {},
     "output_type": "execute_result"
    }
   ],
   "source": [
    "# 테스트 데이터 예측 평가 \n",
    "\n",
    "model.evaluate(X_test,y_test)\n",
    "\n",
    "# 정확도가 약 95퍼 최근접 이웃 훈련보다 현격히 개선 "
   ]
  },
  {
   "cell_type": "code",
   "execution_count": 40,
   "metadata": {},
   "outputs": [
    {
     "name": "stdout",
     "output_type": "stream",
     "text": [
      "\u001b[1m1/1\u001b[0m \u001b[32m━━━━━━━━━━━━━━━━━━━━\u001b[0m\u001b[37m\u001b[0m \u001b[1m0s\u001b[0m 58ms/step\n",
      "Sample 1:\n",
      "  Actual: 1, Predicted: 1\n",
      "  Predicted probabilities: [1.6355152e-13 1.0000000e+00 3.2319939e-08 2.7591015e-13]\n",
      "--------------------------------------------------\n",
      "Sample 2:\n",
      "  Actual: 1, Predicted: 1\n",
      "  Predicted probabilities: [5.3669587e-03 9.9271035e-01 1.6494991e-03 2.7311887e-04]\n",
      "--------------------------------------------------\n",
      "Sample 3:\n",
      "  Actual: 1, Predicted: 1\n",
      "  Predicted probabilities: [4.4144508e-07 9.9991882e-01 7.8510348e-05 2.2317913e-06]\n",
      "--------------------------------------------------\n",
      "Sample 4:\n",
      "  Actual: 2, Predicted: 2\n",
      "  Predicted probabilities: [3.9945540e-08 2.5950210e-06 9.9996996e-01 2.7480504e-05]\n",
      "--------------------------------------------------\n",
      "Sample 5:\n",
      "  Actual: 0, Predicted: 0\n",
      "  Predicted probabilities: [0.9308902  0.05139609 0.00288988 0.01482381]\n",
      "--------------------------------------------------\n",
      "Sample 6:\n",
      "  Actual: 0, Predicted: 0\n",
      "  Predicted probabilities: [9.9976557e-01 2.3037528e-04 3.2981388e-06 7.2649493e-07]\n",
      "--------------------------------------------------\n",
      "Sample 7:\n",
      "  Actual: 1, Predicted: 1\n",
      "  Predicted probabilities: [2.5938947e-02 9.7402883e-01 3.0456868e-05 1.7420582e-06]\n",
      "--------------------------------------------------\n",
      "Sample 8:\n",
      "  Actual: 1, Predicted: 1\n",
      "  Predicted probabilities: [2.7270788e-01 6.9520199e-01 3.1606324e-02 4.8379286e-04]\n",
      "--------------------------------------------------\n",
      "Sample 9:\n",
      "  Actual: 1, Predicted: 1\n",
      "  Predicted probabilities: [5.3099077e-03 9.9191159e-01 2.7710840e-03 7.4713021e-06]\n",
      "--------------------------------------------------\n",
      "Sample 10:\n",
      "  Actual: 0, Predicted: 0\n",
      "  Predicted probabilities: [1.0000000e+00 4.7149156e-09 1.8882040e-11 1.5138253e-13]\n",
      "--------------------------------------------------\n"
     ]
    }
   ],
   "source": [
    "# 결과 예측\n",
    "import numpy as np\n",
    "\n",
    "\n",
    "# 테스트 데이터에서 10개 샘플 선택\n",
    "sample_indices = np.random.choice(len(X_test), 10, replace=False)  # 임의로 10개 선택\n",
    "X_sample = X_test[sample_indices]\n",
    "Y_sample_actual = y_test[sample_indices]\n",
    "\n",
    "\n",
    "# 모델 예측\n",
    "Y_sample_pred = model.predict(X_sample)\n",
    "\n",
    "\n",
    "# 실제 값과 예측 값을 비교하여 출력\n",
    "for i, (actual, pred) in enumerate(zip(Y_sample_actual, Y_sample_pred)):\n",
    "    actual_class = np.argmax(actual)  # 실제 값의 클래스\n",
    "    predicted_class = np.argmax(pred)  # 예측 값의 클래스\n",
    "    print(f\"Sample {i + 1}:\")\n",
    "    print(f\"  Actual: {actual_class}, Predicted: {predicted_class}\")\n",
    "    print(f\"  Predicted probabilities: {pred}\")\n",
    "    print(\"-\" * 50)\n"
   ]
  },
  {
   "cell_type": "code",
   "execution_count": null,
   "metadata": {},
   "outputs": [],
   "source": []
  }
 ],
 "metadata": {
  "kernelspec": {
   "display_name": "Python 3 (ipykernel)",
   "language": "python",
   "name": "python3"
  },
  "language_info": {
   "codemirror_mode": {
    "name": "ipython",
    "version": 3
   },
   "file_extension": ".py",
   "mimetype": "text/x-python",
   "name": "python",
   "nbconvert_exporter": "python",
   "pygments_lexer": "ipython3",
   "version": "3.12.7"
  }
 },
 "nbformat": 4,
 "nbformat_minor": 2
}
